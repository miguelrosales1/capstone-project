{
 "cells": [
  {
   "cell_type": "code",
   "execution_count": 9,
   "metadata": {},
   "outputs": [],
   "source": [
    "import numpy as np\n",
    "import pandas as pd\n",
    "from time import time\n",
    "import matplotlib.pyplot as plt\n",
    "from IPython.display import display \n",
    "import model_utils\n",
    "import data_utils as data_utils\n",
    "# Pretty display for notebooks\n",
    "%matplotlib inline\n",
    "pd.set_option('display.max_colwidth', -1)\n",
    "\n",
    "dataset = pd.read_csv(\"datasets/dataset_validation.csv\")\n"
   ]
  },
  {
   "cell_type": "code",
   "execution_count": 10,
   "metadata": {},
   "outputs": [
    {
     "name": "stdout",
     "output_type": "stream",
     "text": [
      "Total number of records: 118,769\n",
      "Individuals with life at risk: 14,355\n",
      "Individuals with life not at risk: 104,414\n",
      "Percentage of individuals with life at risk: 12.09%\n"
     ]
    }
   ],
   "source": [
    "from __future__ import division\n",
    "# TODO: Total number of records\n",
    "n_records = dataset['RIESGO_VIDA'].count()\n",
    "\n",
    "# TODO: Number of records where individual's life is at risk\n",
    "life_risk = dataset[dataset[\"RIESGO_VIDA\"] == 1]\n",
    "n_life_risk = life_risk['RIESGO_VIDA'].count()\n",
    "\n",
    "# TODO: Number of records where individual's life is not at risk\n",
    "no_life_risk =  dataset[dataset[\"RIESGO_VIDA\"] == 0]\n",
    "n_no_life_risk = no_life_risk['RIESGO_VIDA'].count()\n",
    "\n",
    "# TODO: Percentage of individuals whose income is more than $50,000\n",
    "greater_percent = (n_life_risk/n_records)*100\n",
    "\n",
    "# Print the results\n",
    "print \"Total number of records: {:,}\".format(n_records)\n",
    "print \"Individuals with life at risk: {:,}\".format(n_life_risk)\n",
    "print \"Individuals with life not at risk: {:,}\".format(n_no_life_risk)\n",
    "print \"Percentage of individuals with life at risk: {:.2f}%\".format(greater_percent)"
   ]
  },
  {
   "cell_type": "code",
   "execution_count": 24,
   "metadata": {},
   "outputs": [],
   "source": [
    "import keras.backend as K\n",
    "\n",
    "def precision(y_true, y_pred):\n",
    "    \"\"\"\n",
    "    Precision metric.\n",
    "     Only computes a batch-wise average of precision.\n",
    "     Computes the precision, a metric for multi-label classification of\n",
    "    how many selected items are relevant.\n",
    "    \"\"\"\n",
    "    true_positives = K.sum(K.round(K.clip(y_true * y_pred, 0, 1)))\n",
    "    predicted_positives = K.sum(K.round(K.clip(y_pred, 0, 1)))\n",
    "    precision = true_positives / (predicted_positives + K.epsilon())\n",
    "    return precision\n",
    "\n",
    "def recall(y_true, y_pred):\n",
    "    \"\"\"\n",
    "    Recall metric.\n",
    "     Only computes a batch-wise average of recall.\n",
    "     Computes the recall, a metric for multi-label classification of\n",
    "    how many relevant items are selected.\n",
    "    \"\"\"\n",
    "    true_positives = K.sum(K.round(K.clip(y_true * y_pred, 0, 1)))\n",
    "    possible_positives = K.sum(K.round(K.clip(y_true, 0, 1)))\n",
    "    recall = true_positives / (possible_positives + K.epsilon())\n",
    "    return recall\n",
    "\n",
    "def fbeta_score(y_true, y_pred, beta=1000):\n",
    "    \"\"\"Computes the F score.\n",
    "     The F score is the weighted harmonic mean of precision and recall.\n",
    "    Here it is only computed as a batch-wise average, not globally.\n",
    "     This is useful for multi-label classification, where input samples can be\n",
    "    classified as sets of labels. By only using accuracy (precision) a model\n",
    "    would achieve a perfect score by simply assigning every class to every\n",
    "    input. In order to avoid this, a metric should penalize incorrect class\n",
    "    assignments as well (recall). The F-beta score (ranged from 0.0 to 1.0)\n",
    "    computes this, as a weighted mean of the proportion of correct class\n",
    "    assignments vs. the proportion of incorrect class assignments.\n",
    "     With beta = 1, this is equivalent to a F-measure. With beta < 1, assigning\n",
    "    correct classes becomes more important, and with beta > 1 the metric is\n",
    "    instead weighted towards penalizing incorrect class assignments.\n",
    "    \"\"\"\n",
    "    if beta < 0:\n",
    "        raise ValueError('The lowest choosable beta is zero (only precision).')\n",
    "     # If there are no true positives, fix the F score at 0 like sklearn.\n",
    "    if K.sum(K.round(K.clip(y_true, 0, 1))) == 0:\n",
    "        return 0\n",
    "    p = precision(y_true, y_pred)\n",
    "    r = recall(y_true, y_pred)\n",
    "    bb = beta ** 2\n",
    "    fbeta_score = (1 + bb) * (p * r) / (bb * p + r + K.epsilon())\n",
    "    return fbeta_score"
   ]
  },
  {
   "cell_type": "code",
   "execution_count": 25,
   "metadata": {},
   "outputs": [],
   "source": [
    "from keras.models import load_model\n",
    "\n",
    "model = load_model('weights.best.from_scratch.hdf5', custom_objects={'recall': recall})"
   ]
  },
  {
   "cell_type": "code",
   "execution_count": 26,
   "metadata": {},
   "outputs": [
    {
     "name": "stdout",
     "output_type": "stream",
     "text": [
      "(118769, 35)\n",
      "118769/118769 [==============================] - 3s 22us/step\n",
      "['loss', 'recall']\n",
      "[0.24081305221218355, 0.886982293360382]\n"
     ]
    }
   ],
   "source": [
    "import pandas as pd\n",
    "import numpy as np\n",
    "from keras.utils import to_categorical\n",
    "\n",
    "dataset_validation = pd.read_csv(\"datasets/dataset_validation.csv\")\n",
    "\n",
    "labels_validation = dataset_validation[['RIESGO_VIDA']].values\n",
    "features_validation = dataset_validation.drop(['RIESGO_VIDA'], axis = 1).values\n",
    "\n",
    "print(features_validation.shape)\n",
    "\n",
    "X_validation = np.asarray(list(map(lambda row: row.reshape(7,5,1), features_validation)))\n",
    "y_validation = to_categorical(labels_validation, 2)\n",
    "\n",
    "evaluate = model.evaluate(X_validation, y_validation)\n",
    "print(model.metrics_names)\n",
    "print(evaluate)"
   ]
  },
  {
   "cell_type": "code",
   "execution_count": 27,
   "metadata": {
    "scrolled": false
   },
   "outputs": [
    {
     "name": "stdout",
     "output_type": "stream",
     "text": [
      "106892/106892 [==============================] - 2s 22us/step\n",
      "[0.24035128260967648, 0.8874564981454326]\n",
      "106892/106892 [==============================] - 2s 20us/step\n",
      "[0.24092668076878923, 0.8871103543741494]\n",
      "106892/106892 [==============================] - 2s 20us/step\n",
      "[0.24061794020911648, 0.8870261572405941]\n",
      "106892/106892 [==============================] - 2s 21us/step\n",
      "[0.24059735123739046, 0.8866893687063726]\n",
      "106892/106892 [==============================] - 2s 23us/step\n",
      "[0.24099408043665216, 0.8870542229517792]\n",
      "106892/106892 [==============================] - 2s 21us/step\n",
      "[0.2409262335109072, 0.8870168020035324]\n",
      "106892/106892 [==============================] - 2s 21us/step\n",
      "[0.24014027073939787, 0.8875313400419262]\n",
      "106892/106892 [==============================] - 2s 22us/step\n",
      "[0.24043716649133387, 0.8872132619818283]\n",
      "106892/106892 [==============================] - 2s 22us/step\n",
      "[0.24139606112675124, 0.8864087115945214]\n",
      "106893/106893 [==============================] - 2s 21us/step\n",
      "[0.24174344568150163, 0.8863162227648209]\n"
     ]
    }
   ],
   "source": [
    "from sklearn.model_selection import KFold\n",
    "kf = KFold(n_splits=10)\n",
    "\n",
    "for train_index, test_index in kf.split(X_validation):\n",
    "    X_val = X_validation[train_index]\n",
    "    y_val = y_validation[train_index]\n",
    "    evaluate = model.evaluate(X_val, y_val)\n",
    "    print(evaluate)\n"
   ]
  },
  {
   "cell_type": "code",
   "execution_count": 30,
   "metadata": {},
   "outputs": [
    {
     "name": "stdout",
     "output_type": "stream",
     "text": [
      "[[0]\n",
      " [0]\n",
      " [0]\n",
      " ...\n",
      " [0]\n",
      " [1]\n",
      " [0]]\n",
      "[0 0 0 ... 0 0 0]\n",
      "tn: 101404.000000, fp: 3010.000000, fn:10413.000000, tp: 3942.000000\n",
      "Confusion matrix, without normalization\n",
      "[[101404   3010]\n",
      " [ 10413   3942]]\n"
     ]
    },
    {
     "data": {
      "image/png": "[encoded data removed]",
      "text/plain": [
       "<matplotlib.figure.Figure at 0x1a2c2771d0>"
      ]
     },
     "metadata": {},
     "output_type": "display_data"
    }
   ],
   "source": [
    "from sklearn.metrics import confusion_matrix\n",
    "from keras.utils import to_categorical\n",
    "\n",
    "\n",
    "y_predictions = model.predict_classes(X_validation)\n",
    "\n",
    "print(labels_validation)\n",
    "print(y_predictions)\n",
    "\n",
    "cnf_matrix = confusion_matrix(labels_validation.flatten(), y_predictions)\n",
    "tn, fp, fn, tp = confusion_matrix(labels_validation.flatten(), y_predictions).ravel()\n",
    "print(\"tn: %f, fp: %f, fn:%f, tp: %f\"%(tn, fp, fn, tp))\n",
    "model_utils.plot_confusion_matrix(cnf_matrix, classes=['Life not as risk', 'Life at risk'], title='Confusion matrix')"
   ]
  }
 ],
 "metadata": {
  "kernelspec": {
   "display_name": "Python 2",
   "language": "python",
   "name": "python2"
  },
  "language_info": {
   "codemirror_mode": {
    "name": "ipython",
    "version": 2
   },
   "file_extension": ".py",
   "mimetype": "text/x-python",
   "name": "python",
   "nbconvert_exporter": "python",
   "pygments_lexer": "ipython2",
   "version": "2.7.14"
  }
 },
 "nbformat": 4,
 "nbformat_minor": 2
}
