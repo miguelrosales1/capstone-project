{
 "cells": [
  {
   "cell_type": "code",
   "execution_count": 14,
   "metadata": {},
   "outputs": [
    {
     "data": {
      "text/html": [
       "<div>\n",
       "<style scoped>\n",
       "    .dataframe tbody tr th:only-of-type {\n",
       "        vertical-align: middle;\n",
       "    }\n",
       "\n",
       "    .dataframe tbody tr th {\n",
       "        vertical-align: top;\n",
       "    }\n",
       "\n",
       "    .dataframe thead th {\n",
       "        text-align: right;\n",
       "    }\n",
       "</style>\n",
       "<table border=\"1\" class=\"dataframe\">\n",
       "  <thead>\n",
       "    <tr style=\"text-align: right;\">\n",
       "      <th></th>\n",
       "      <th>AFEC_EDADR</th>\n",
       "      <th>AFEC_EDUC</th>\n",
       "      <th>AFEC_GENERO</th>\n",
       "      <th>AFEC_GETNICO</th>\n",
       "      <th>AFEC_PARENTESCO</th>\n",
       "      <th>AFEC_POBESPECIAL</th>\n",
       "      <th>AFEC_REGAFILIACION</th>\n",
       "      <th>AFEC_TIPOPER</th>\n",
       "      <th>ALTO_COSTO</th>\n",
       "      <th>CIE_10</th>\n",
       "      <th>...</th>\n",
       "      <th>PQR_CLASE_SNS</th>\n",
       "      <th>PQR_ESTADO</th>\n",
       "      <th>PQR_TIPOATENCION</th>\n",
       "      <th>PQR_TIPOPETICION</th>\n",
       "      <th>TRIM</th>\n",
       "      <th>AFEC_LOCATION</th>\n",
       "      <th>ENT_LOCATION</th>\n",
       "      <th>PET_LOCATION</th>\n",
       "      <th>COMPLETE_MOTIVE</th>\n",
       "      <th>RIESGO_VIDA</th>\n",
       "    </tr>\n",
       "  </thead>\n",
       "  <tbody>\n",
       "    <tr>\n",
       "      <th>0</th>\n",
       "      <td>0.862194</td>\n",
       "      <td>0.530003</td>\n",
       "      <td>0.865504</td>\n",
       "      <td>0.445166</td>\n",
       "      <td>0.478849</td>\n",
       "      <td>0.304503</td>\n",
       "      <td>1.000000</td>\n",
       "      <td>1.0</td>\n",
       "      <td>0.0</td>\n",
       "      <td>0.086716</td>\n",
       "      <td>...</td>\n",
       "      <td>1.0</td>\n",
       "      <td>0.091348</td>\n",
       "      <td>0.512068</td>\n",
       "      <td>0.658277</td>\n",
       "      <td>0.150914</td>\n",
       "      <td>0.230700</td>\n",
       "      <td>0.280929</td>\n",
       "      <td>0.278713</td>\n",
       "      <td>0.328084</td>\n",
       "      <td>0</td>\n",
       "    </tr>\n",
       "    <tr>\n",
       "      <th>1</th>\n",
       "      <td>0.909893</td>\n",
       "      <td>0.530003</td>\n",
       "      <td>1.000000</td>\n",
       "      <td>0.445166</td>\n",
       "      <td>0.478849</td>\n",
       "      <td>0.304503</td>\n",
       "      <td>1.000000</td>\n",
       "      <td>1.0</td>\n",
       "      <td>0.0</td>\n",
       "      <td>0.125322</td>\n",
       "      <td>...</td>\n",
       "      <td>1.0</td>\n",
       "      <td>0.091348</td>\n",
       "      <td>1.000000</td>\n",
       "      <td>0.658277</td>\n",
       "      <td>0.150914</td>\n",
       "      <td>0.221327</td>\n",
       "      <td>0.213105</td>\n",
       "      <td>0.174609</td>\n",
       "      <td>0.209656</td>\n",
       "      <td>0</td>\n",
       "    </tr>\n",
       "    <tr>\n",
       "      <th>2</th>\n",
       "      <td>0.862194</td>\n",
       "      <td>0.640631</td>\n",
       "      <td>1.000000</td>\n",
       "      <td>0.445166</td>\n",
       "      <td>0.565950</td>\n",
       "      <td>0.304503</td>\n",
       "      <td>0.661319</td>\n",
       "      <td>1.0</td>\n",
       "      <td>0.0</td>\n",
       "      <td>0.469485</td>\n",
       "      <td>...</td>\n",
       "      <td>1.0</td>\n",
       "      <td>0.091348</td>\n",
       "      <td>1.000000</td>\n",
       "      <td>0.658277</td>\n",
       "      <td>0.150914</td>\n",
       "      <td>0.303620</td>\n",
       "      <td>0.343342</td>\n",
       "      <td>0.307024</td>\n",
       "      <td>0.298898</td>\n",
       "      <td>0</td>\n",
       "    </tr>\n",
       "    <tr>\n",
       "      <th>3</th>\n",
       "      <td>0.862194</td>\n",
       "      <td>1.000000</td>\n",
       "      <td>1.000000</td>\n",
       "      <td>0.445166</td>\n",
       "      <td>0.549692</td>\n",
       "      <td>0.304503</td>\n",
       "      <td>0.661319</td>\n",
       "      <td>1.0</td>\n",
       "      <td>0.0</td>\n",
       "      <td>0.023123</td>\n",
       "      <td>...</td>\n",
       "      <td>1.0</td>\n",
       "      <td>0.091348</td>\n",
       "      <td>1.000000</td>\n",
       "      <td>0.658277</td>\n",
       "      <td>0.150914</td>\n",
       "      <td>0.420555</td>\n",
       "      <td>0.531137</td>\n",
       "      <td>0.399282</td>\n",
       "      <td>0.143884</td>\n",
       "      <td>0</td>\n",
       "    </tr>\n",
       "    <tr>\n",
       "      <th>4</th>\n",
       "      <td>0.862194</td>\n",
       "      <td>0.530003</td>\n",
       "      <td>1.000000</td>\n",
       "      <td>0.445166</td>\n",
       "      <td>0.549692</td>\n",
       "      <td>0.591697</td>\n",
       "      <td>0.661319</td>\n",
       "      <td>1.0</td>\n",
       "      <td>0.0</td>\n",
       "      <td>0.844386</td>\n",
       "      <td>...</td>\n",
       "      <td>1.0</td>\n",
       "      <td>1.000000</td>\n",
       "      <td>1.000000</td>\n",
       "      <td>0.658277</td>\n",
       "      <td>0.150914</td>\n",
       "      <td>0.287032</td>\n",
       "      <td>0.346242</td>\n",
       "      <td>0.261890</td>\n",
       "      <td>0.361776</td>\n",
       "      <td>1</td>\n",
       "    </tr>\n",
       "  </tbody>\n",
       "</table>\n",
       "<p>5 rows × 33 columns</p>\n",
       "</div>"
      ],
      "text/plain": [
       "   AFEC_EDADR  AFEC_EDUC  AFEC_GENERO  AFEC_GETNICO  AFEC_PARENTESCO  \\\n",
       "0  0.862194    0.530003   0.865504     0.445166      0.478849          \n",
       "1  0.909893    0.530003   1.000000     0.445166      0.478849          \n",
       "2  0.862194    0.640631   1.000000     0.445166      0.565950          \n",
       "3  0.862194    1.000000   1.000000     0.445166      0.549692          \n",
       "4  0.862194    0.530003   1.000000     0.445166      0.549692          \n",
       "\n",
       "   AFEC_POBESPECIAL  AFEC_REGAFILIACION  AFEC_TIPOPER  ALTO_COSTO    CIE_10  \\\n",
       "0  0.304503          1.000000            1.0           0.0         0.086716   \n",
       "1  0.304503          1.000000            1.0           0.0         0.125322   \n",
       "2  0.304503          0.661319            1.0           0.0         0.469485   \n",
       "3  0.304503          0.661319            1.0           0.0         0.023123   \n",
       "4  0.591697          0.661319            1.0           0.0         0.844386   \n",
       "\n",
       "      ...       PQR_CLASE_SNS  PQR_ESTADO  PQR_TIPOATENCION  PQR_TIPOPETICION  \\\n",
       "0     ...       1.0            0.091348    0.512068          0.658277           \n",
       "1     ...       1.0            0.091348    1.000000          0.658277           \n",
       "2     ...       1.0            0.091348    1.000000          0.658277           \n",
       "3     ...       1.0            0.091348    1.000000          0.658277           \n",
       "4     ...       1.0            1.000000    1.000000          0.658277           \n",
       "\n",
       "       TRIM  AFEC_LOCATION  ENT_LOCATION  PET_LOCATION  COMPLETE_MOTIVE  \\\n",
       "0  0.150914  0.230700       0.280929      0.278713      0.328084          \n",
       "1  0.150914  0.221327       0.213105      0.174609      0.209656          \n",
       "2  0.150914  0.303620       0.343342      0.307024      0.298898          \n",
       "3  0.150914  0.420555       0.531137      0.399282      0.143884          \n",
       "4  0.150914  0.287032       0.346242      0.261890      0.361776          \n",
       "\n",
       "   RIESGO_VIDA  \n",
       "0  0            \n",
       "1  0            \n",
       "2  0            \n",
       "3  0            \n",
       "4  1            \n",
       "\n",
       "[5 rows x 33 columns]"
      ]
     },
     "metadata": {},
     "output_type": "display_data"
    }
   ],
   "source": [
    "import numpy as np\n",
    "import pandas as pd\n",
    "from time import time\n",
    "import matplotlib.pyplot as plt\n",
    "from IPython.display import display \n",
    "\n",
    "\n",
    "# Pretty display for notebooks\n",
    "%matplotlib inline\n",
    "pd.set_option('display.max_colwidth', -1)\n",
    "\n",
    "dataset = pd.read_csv(\"datasets/dataset_encoded.csv\")\n",
    "dataset = dataset.drop(['Unnamed: 0'], axis = 1)\n",
    "display(dataset.head(n = 5))\n",
    "\n",
    "labels = dataset[['RIESGO_VIDA']]\n",
    "features = dataset.drop(['RIESGO_VIDA', 'PQR_ESTADO'], axis = 1)"
   ]
  },
  {
   "cell_type": "markdown",
   "metadata": {},
   "source": [
    "## Shuffle and Split Data"
   ]
  },
  {
   "cell_type": "code",
   "execution_count": 15,
   "metadata": {},
   "outputs": [
    {
     "name": "stdout",
     "output_type": "stream",
     "text": [
      "features_final set has 2130783 samples.\n",
      "Training set has 1704626 samples.\n",
      "Testing set has 426157 samples.\n"
     ]
    }
   ],
   "source": [
    "# Import train_test_split\n",
    "from sklearn.model_selection import train_test_split\n",
    "\n",
    "# Split the 'features' and 'labels' data into training and testing sets\n",
    "X_train, X_test, y_train, y_test = train_test_split(features, \n",
    "                                                    labels, \n",
    "                                                    test_size = 0.20, \n",
    "                                                    random_state = 10)\n",
    "\n",
    "# Show the results of the split\n",
    "print \"features_final set has {} samples.\".format(features.shape[0])\n",
    "print \"Training set has {} samples.\".format(X_train.shape[0])\n",
    "print \"Testing set has {} samples.\".format(X_test.shape[0])"
   ]
  },
  {
   "cell_type": "markdown",
   "metadata": {},
   "source": [
    "### Creating a Training and Predicting Pipeline"
   ]
  },
  {
   "cell_type": "code",
   "execution_count": 16,
   "metadata": {},
   "outputs": [
    {
     "name": "stdout",
     "output_type": "stream",
     "text": [
      "0.135542192706\n",
      "Naive Predictor: [Accuracy score: 0.1355, F-score: 0.4395]\n"
     ]
    }
   ],
   "source": [
    "'''\n",
    "TP = np.sum(income) # Counting the ones as this is the naive case. Note that 'income' is the 'income_raw' data \n",
    "encoded to numerical values done in the data preprocessing step.\n",
    "FP = income.count() - TP # Specific to the naive case\n",
    "\n",
    "TN = 0 # No predicted negatives in the naive case\n",
    "FN = 0 # No predicted negatives in the naive case\n",
    "'''\n",
    "\n",
    "tp = float(np.sum(labels['RIESGO_VIDA']))\n",
    "fp = float(labels['RIESGO_VIDA'].count() - tp)\n",
    "tn = 0\n",
    "fn = 0\n",
    "\n",
    "# TODO: Calculate accuracy, precision and recall\n",
    "accuracy = (tp + tn)/labels['RIESGO_VIDA'].count()\n",
    "recall = tp / (tp + fn)\n",
    "precision = tp / (tp + fp)\n",
    "print(accuracy)\n",
    "# TODO: Calculate F-score using the formula above for beta = 0.5 and correct values for precision and recall.\n",
    "# HINT: The formula above can be written as (1 + beta**2) * (precision * recall) / ((beta**2 * precision) + recall)\n",
    "beta = 2\n",
    "fscore = (1 + beta**2) * (precision * recall) / ((beta**2 * precision) + recall)\n",
    "\n",
    "# Print the results \n",
    "print \"Naive Predictor: [Accuracy score: {:.4f}, F-score: {:.4f}]\".format(accuracy, fscore)"
   ]
  },
  {
   "cell_type": "code",
   "execution_count": 17,
   "metadata": {},
   "outputs": [],
   "source": [
    "from sklearn.metrics import accuracy_score\n",
    "from sklearn.metrics import fbeta_score\n",
    "\n",
    "def train_predict(learner, sample_size, X_train, y_train, X_test, y_test): \n",
    "    '''\n",
    "    inputs:\n",
    "       - learner: the learning algorithm to be trained and predicted on\n",
    "       - sample_size: the size of samples (number) to be drawn from training set\n",
    "       - X_train: features training set\n",
    "       - y_train: income training set\n",
    "       - X_test: features testing set\n",
    "       - y_test: income testing set\n",
    "    '''\n",
    "    \n",
    "    results = {}\n",
    "    # TODO: Fit the learner to the training data using slicing with 'sample_size' using .fit(training_features[:], training_labels[:])\n",
    "    start = time() # Get start time\n",
    "    learner = learner.fit(X_train[:sample_size], y_train[:sample_size])\n",
    "    end = time() # Get end time\n",
    "    \n",
    "    # TODO: Calculate the training time\n",
    "    results['train_time'] = end - start\n",
    "        \n",
    "    # TODO: Get the predictions on the test set(X_test),\n",
    "    #       then get predictions on the first 300 training samples(X_train) using .predict()\n",
    "    start = time() # Get start time\n",
    "    predictions_test = learner.predict(X_test)\n",
    "    predictions_train = learner.predict(X_train[:300])\n",
    "    end = time() # Get end time\n",
    "    \n",
    "    # TODO: Calculate the total prediction time\n",
    "    results['pred_time'] = end - start\n",
    "            \n",
    "    # TODO: Compute accuracy on the first 300 training samples which is y_train[:300]\n",
    "    results['acc_train'] = accuracy_score(y_train[:300], predictions_train)\n",
    "        \n",
    "    # TODO: Compute accuracy on test set using accuracy_score()\n",
    "    results['acc_test'] =  accuracy_score(y_test, predictions_test)\n",
    "    \n",
    "    # TODO: Compute F-score on the the first 300 training samples using fbeta_score()\n",
    "    b=0.5\n",
    "    results['f_train'] = fbeta_score(y_train[:300], predictions_train, b)\n",
    "        \n",
    "    # TODO: Compute F-score on the test set which is y_test\n",
    "    results['f_test'] =  fbeta_score(y_test, predictions_test, b)\n",
    "       \n",
    "    # Success\n",
    "    print \"{} trained on {} samples.\".format(learner.__class__.__name__, sample_size)\n",
    "        \n",
    "    # Return the results\n",
    "    return results\n",
    "  "
   ]
  },
  {
   "cell_type": "code",
   "execution_count": 20,
   "metadata": {},
   "outputs": [
    {
     "name": "stdout",
     "output_type": "stream",
     "text": [
      "AdaBoostClassifier trained on 17046 samples.\n",
      "AdaBoostClassifier trained on 170462 samples.\n",
      "AdaBoostClassifier trained on 1704626 samples.\n"
     ]
    },
    {
     "name": "stderr",
     "output_type": "stream",
     "text": [
      "/anaconda2/lib/python2.7/site-packages/ipykernel_launcher.py:18: DataConversionWarning: A column-vector y was passed when a 1d array was expected. Please change the shape of y to (n_samples,), for example using ravel().\n"
     ]
    },
    {
     "name": "stdout",
     "output_type": "stream",
     "text": [
      "RandomForestClassifier trained on 17046 samples.\n",
      "RandomForestClassifier trained on 170462 samples.\n",
      "RandomForestClassifier trained on 1704626 samples.\n"
     ]
    },
    {
     "name": "stderr",
     "output_type": "stream",
     "text": [
      "/anaconda2/lib/python2.7/site-packages/sklearn/preprocessing/label.py:95: DataConversionWarning: A column-vector y was passed when a 1d array was expected. Please change the shape of y to (n_samples, ), for example using ravel().\n",
      "  y = column_or_1d(y, warn=True)\n",
      "/anaconda2/lib/python2.7/site-packages/sklearn/preprocessing/label.py:128: DataConversionWarning: A column-vector y was passed when a 1d array was expected. Please change the shape of y to (n_samples, ), for example using ravel().\n",
      "  y = column_or_1d(y, warn=True)\n",
      "/anaconda2/lib/python2.7/site-packages/sklearn/preprocessing/label.py:151: DeprecationWarning: The truth value of an empty array is ambiguous. Returning False, but in future this will result in an error. Use `array.size > 0` to check that an array is not empty.\n",
      "  if diff:\n",
      "/anaconda2/lib/python2.7/site-packages/sklearn/preprocessing/label.py:151: DeprecationWarning: The truth value of an empty array is ambiguous. Returning False, but in future this will result in an error. Use `array.size > 0` to check that an array is not empty.\n",
      "  if diff:\n"
     ]
    },
    {
     "name": "stdout",
     "output_type": "stream",
     "text": [
      "XGBClassifier trained on 17046 samples.\n"
     ]
    },
    {
     "name": "stderr",
     "output_type": "stream",
     "text": [
      "/anaconda2/lib/python2.7/site-packages/sklearn/preprocessing/label.py:151: DeprecationWarning: The truth value of an empty array is ambiguous. Returning False, but in future this will result in an error. Use `array.size > 0` to check that an array is not empty.\n",
      "  if diff:\n",
      "/anaconda2/lib/python2.7/site-packages/sklearn/preprocessing/label.py:151: DeprecationWarning: The truth value of an empty array is ambiguous. Returning False, but in future this will result in an error. Use `array.size > 0` to check that an array is not empty.\n",
      "  if diff:\n"
     ]
    },
    {
     "name": "stdout",
     "output_type": "stream",
     "text": [
      "XGBClassifier trained on 170462 samples.\n"
     ]
    },
    {
     "name": "stderr",
     "output_type": "stream",
     "text": [
      "/anaconda2/lib/python2.7/site-packages/sklearn/preprocessing/label.py:151: DeprecationWarning: The truth value of an empty array is ambiguous. Returning False, but in future this will result in an error. Use `array.size > 0` to check that an array is not empty.\n",
      "  if diff:\n",
      "/anaconda2/lib/python2.7/site-packages/sklearn/preprocessing/label.py:151: DeprecationWarning: The truth value of an empty array is ambiguous. Returning False, but in future this will result in an error. Use `array.size > 0` to check that an array is not empty.\n",
      "  if diff:\n"
     ]
    },
    {
     "name": "stdout",
     "output_type": "stream",
     "text": [
      "XGBClassifier trained on 1704626 samples.\n"
     ]
    },
    {
     "data": {
      "image/png": "[encoded data removed]",
      "text/plain": [
       "<matplotlib.figure.Figure at 0x1a162ebe90>"
      ]
     },
     "metadata": {},
     "output_type": "display_data"
    }
   ],
   "source": [
    "import visuals as vs\n",
    "from sklearn.ensemble import AdaBoostClassifier\n",
    "from sklearn.ensemble import RandomForestClassifier\n",
    "from xgboost import XGBClassifier\n",
    "\n",
    "# Initialize the three models\n",
    "clf_A = AdaBoostClassifier(random_state = 300)\n",
    "clf_B = RandomForestClassifier(random_state = 300)\n",
    "clf_C = XGBClassifier(random_state = 300)\n",
    "\n",
    "samples_100 = len(y_train)\n",
    "samples_10 = int(samples_100*0.1)\n",
    "samples_1 = int(samples_10*0.1)\n",
    "\n",
    "# Collect results on the learners\n",
    "results = {}\n",
    "for clf in [clf_A, clf_B, clf_C]:\n",
    "    clf_name = clf.__class__.__name__\n",
    "    results[clf_name] = {}\n",
    "    for i, samples in enumerate([samples_1, samples_10, samples_100]):\n",
    "        results[clf_name][i] = \\\n",
    "        train_predict(clf, samples, X_train, y_train, X_test, y_test)\n",
    "\n",
    "# Run metrics visualization for the three supervised learning models chosen\n",
    "vs.evaluate(results, accuracy, fscore)"
   ]
  },
  {
   "cell_type": "code",
   "execution_count": 19,
   "metadata": {},
   "outputs": [
    {
     "name": "stdout",
     "output_type": "stream",
     "text": [
      "{'SGDClassifier': {0: {'pred_time': 0.016196012496948242, 'f_test': 0.7480755906109703, 'train_time': 0.029757976531982422, 'acc_train': 0.9133333333333333, 'acc_test': 0.9224182636915503, 'f_train': 0.7371794871794872}, 1: {'pred_time': 0.01516413688659668, 'f_test': 0.724839964767975, 'train_time': 0.21039605140686035, 'acc_train': 0.9133333333333333, 'acc_test': 0.9251003738058978, 'f_train': 0.6991525423728814}, 2: {'pred_time': 0.015463829040527344, 'f_test': 0.7486333061474979, 'train_time': 2.781812906265259, 'acc_train': 0.92, 'acc_test': 0.926818050624535, 'f_train': 0.7352941176470588}}, 'AdaBoostClassifier': {0: {'pred_time': 1.633246898651123, 'f_test': 0.7542389928672606, 'train_time': 0.56593918800354, 'acc_train': 0.9233333333333333, 'acc_test': 0.9270222007382256, 'f_train': 0.7738095238095237}, 1: {'pred_time': 1.8406219482421875, 'f_test': 0.756092011087667, 'train_time': 5.16279411315918, 'acc_train': 0.9266666666666666, 'acc_test': 0.9278176822157093, 'f_train': 0.7598039215686275}, 2: {'pred_time': 1.6949059963226318, 'f_test': 0.7600852331499027, 'train_time': 218.3985550403595, 'acc_train': 0.9266666666666666, 'acc_test': 0.9287211051326154, 'f_train': 0.7598039215686275}}, 'RandomForestClassifier': {0: {'pred_time': 0.4519660472869873, 'f_test': 0.7540032860050516, 'train_time': 0.19076299667358398, 'acc_train': 0.9933333333333333, 'acc_test': 0.9277027011171939, 'f_train': 0.9905660377358492}, 1: {'pred_time': 0.9779210090637207, 'f_test': 0.789040841234047, 'train_time': 2.3143179416656494, 'acc_train': 0.9966666666666667, 'acc_test': 0.9361761041118649, 'f_train': 0.982142857142857}, 2: {'pred_time': 1.400909185409546, 'f_test': 0.8041169711138408, 'train_time': 80.61128282546997, 'acc_train': 0.99, 'acc_test': 0.940505494453922, 'f_train': 0.9598214285714286}}}\n"
     ]
    }
   ],
   "source": [
    "print(results)"
   ]
  },
  {
   "cell_type": "markdown",
   "metadata": {},
   "source": [
    "## Tuning Model"
   ]
  }
 ],
 "metadata": {
  "kernelspec": {
   "display_name": "Python 2",
   "language": "python",
   "name": "python2"
  },
  "language_info": {
   "codemirror_mode": {
    "name": "ipython",
    "version": 2
   },
   "file_extension": ".py",
   "mimetype": "text/x-python",
   "name": "python",
   "nbconvert_exporter": "python",
   "pygments_lexer": "ipython2",
   "version": "2.7.14"
  }
 },
 "nbformat": 4,
 "nbformat_minor": 2
}
