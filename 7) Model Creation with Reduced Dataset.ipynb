{
 "cells": [
  {
   "cell_type": "code",
   "execution_count": 1,
   "metadata": {
    "scrolled": false
   },
   "outputs": [
    {
     "data": {
      "text/html": [
       "<div>\n",
       "<style scoped>\n",
       "    .dataframe tbody tr th:only-of-type {\n",
       "        vertical-align: middle;\n",
       "    }\n",
       "\n",
       "    .dataframe tbody tr th {\n",
       "        vertical-align: top;\n",
       "    }\n",
       "\n",
       "    .dataframe thead th {\n",
       "        text-align: right;\n",
       "    }\n",
       "</style>\n",
       "<table border=\"1\" class=\"dataframe\">\n",
       "  <thead>\n",
       "    <tr style=\"text-align: right;\">\n",
       "      <th></th>\n",
       "      <th>AFEC_DPTO</th>\n",
       "      <th>AFEC_EDADR</th>\n",
       "      <th>AFEC_EDUC</th>\n",
       "      <th>AFEC_GENERO</th>\n",
       "      <th>AFEC_GETNICO</th>\n",
       "      <th>AFEC_MPIO</th>\n",
       "      <th>AFEC_PARENTESCO</th>\n",
       "      <th>AFEC_POBESPECIAL</th>\n",
       "      <th>AFEC_REGAFILIACION</th>\n",
       "      <th>AFEC_TIPOPER</th>\n",
       "      <th>...</th>\n",
       "      <th>PATOLOGIA_TIPO</th>\n",
       "      <th>PET_COD_DEPTO</th>\n",
       "      <th>PET_MPIO</th>\n",
       "      <th>PET_TIPOPER</th>\n",
       "      <th>PQR_CANAL</th>\n",
       "      <th>PQR_CLASE_SNS</th>\n",
       "      <th>PQR_TIPOATENCION</th>\n",
       "      <th>PQR_TIPOPETICION</th>\n",
       "      <th>TRIM</th>\n",
       "      <th>RIESGO_VIDA</th>\n",
       "    </tr>\n",
       "  </thead>\n",
       "  <tbody>\n",
       "    <tr>\n",
       "      <th>0</th>\n",
       "      <td>0.666667</td>\n",
       "      <td>0.764765</td>\n",
       "      <td>1.000000e-07</td>\n",
       "      <td>9.999999e-01</td>\n",
       "      <td>0.085085</td>\n",
       "      <td>0.887549</td>\n",
       "      <td>0.910410</td>\n",
       "      <td>0.959960</td>\n",
       "      <td>0.870871</td>\n",
       "      <td>1.0</td>\n",
       "      <td>...</td>\n",
       "      <td>0.916416</td>\n",
       "      <td>0.611111</td>\n",
       "      <td>0.873584</td>\n",
       "      <td>1.0</td>\n",
       "      <td>2.122122e-01</td>\n",
       "      <td>9.999999e-01</td>\n",
       "      <td>0.192693</td>\n",
       "      <td>5.625626e-01</td>\n",
       "      <td>1.000000</td>\n",
       "      <td>0</td>\n",
       "    </tr>\n",
       "    <tr>\n",
       "      <th>1</th>\n",
       "      <td>0.723223</td>\n",
       "      <td>0.339840</td>\n",
       "      <td>1.000000e-07</td>\n",
       "      <td>9.999999e-01</td>\n",
       "      <td>0.981982</td>\n",
       "      <td>0.772773</td>\n",
       "      <td>0.412412</td>\n",
       "      <td>0.478478</td>\n",
       "      <td>0.401902</td>\n",
       "      <td>1.0</td>\n",
       "      <td>...</td>\n",
       "      <td>0.442442</td>\n",
       "      <td>0.708709</td>\n",
       "      <td>0.772773</td>\n",
       "      <td>1.0</td>\n",
       "      <td>1.000000e-07</td>\n",
       "      <td>1.000000e-07</td>\n",
       "      <td>0.192693</td>\n",
       "      <td>1.000000e-07</td>\n",
       "      <td>1.000000</td>\n",
       "      <td>0</td>\n",
       "    </tr>\n",
       "    <tr>\n",
       "      <th>2</th>\n",
       "      <td>0.593594</td>\n",
       "      <td>0.201702</td>\n",
       "      <td>1.000000e-07</td>\n",
       "      <td>9.999999e-01</td>\n",
       "      <td>0.981982</td>\n",
       "      <td>0.138639</td>\n",
       "      <td>0.354354</td>\n",
       "      <td>0.478478</td>\n",
       "      <td>0.466466</td>\n",
       "      <td>1.0</td>\n",
       "      <td>...</td>\n",
       "      <td>0.698198</td>\n",
       "      <td>0.577578</td>\n",
       "      <td>0.063564</td>\n",
       "      <td>1.0</td>\n",
       "      <td>2.122122e-01</td>\n",
       "      <td>9.999999e-01</td>\n",
       "      <td>0.192693</td>\n",
       "      <td>5.625626e-01</td>\n",
       "      <td>0.350350</td>\n",
       "      <td>0</td>\n",
       "    </tr>\n",
       "    <tr>\n",
       "      <th>3</th>\n",
       "      <td>0.926426</td>\n",
       "      <td>1.000000</td>\n",
       "      <td>1.000000e-07</td>\n",
       "      <td>1.000000e-07</td>\n",
       "      <td>0.514515</td>\n",
       "      <td>0.904905</td>\n",
       "      <td>0.763764</td>\n",
       "      <td>0.505255</td>\n",
       "      <td>0.466466</td>\n",
       "      <td>1.0</td>\n",
       "      <td>...</td>\n",
       "      <td>0.887137</td>\n",
       "      <td>0.926426</td>\n",
       "      <td>0.907908</td>\n",
       "      <td>1.0</td>\n",
       "      <td>2.122122e-01</td>\n",
       "      <td>9.999999e-01</td>\n",
       "      <td>0.192693</td>\n",
       "      <td>5.625626e-01</td>\n",
       "      <td>0.350350</td>\n",
       "      <td>0</td>\n",
       "    </tr>\n",
       "    <tr>\n",
       "      <th>4</th>\n",
       "      <td>0.982482</td>\n",
       "      <td>0.689189</td>\n",
       "      <td>7.572573e-01</td>\n",
       "      <td>9.999999e-01</td>\n",
       "      <td>0.981982</td>\n",
       "      <td>0.988521</td>\n",
       "      <td>0.692693</td>\n",
       "      <td>0.478478</td>\n",
       "      <td>0.870871</td>\n",
       "      <td>1.0</td>\n",
       "      <td>...</td>\n",
       "      <td>0.442442</td>\n",
       "      <td>0.982983</td>\n",
       "      <td>0.988183</td>\n",
       "      <td>1.0</td>\n",
       "      <td>9.999999e-01</td>\n",
       "      <td>9.999999e-01</td>\n",
       "      <td>1.000000</td>\n",
       "      <td>5.625626e-01</td>\n",
       "      <td>0.638639</td>\n",
       "      <td>1</td>\n",
       "    </tr>\n",
       "  </tbody>\n",
       "</table>\n",
       "<p>5 rows × 36 columns</p>\n",
       "</div>"
      ],
      "text/plain": [
       "   AFEC_DPTO  AFEC_EDADR     AFEC_EDUC   AFEC_GENERO  AFEC_GETNICO  AFEC_MPIO  \\\n",
       "0  0.666667   0.764765    1.000000e-07  9.999999e-01  0.085085      0.887549    \n",
       "1  0.723223   0.339840    1.000000e-07  9.999999e-01  0.981982      0.772773    \n",
       "2  0.593594   0.201702    1.000000e-07  9.999999e-01  0.981982      0.138639    \n",
       "3  0.926426   1.000000    1.000000e-07  1.000000e-07  0.514515      0.904905    \n",
       "4  0.982482   0.689189    7.572573e-01  9.999999e-01  0.981982      0.988521    \n",
       "\n",
       "   AFEC_PARENTESCO  AFEC_POBESPECIAL  AFEC_REGAFILIACION  AFEC_TIPOPER  \\\n",
       "0  0.910410         0.959960          0.870871            1.0            \n",
       "1  0.412412         0.478478          0.401902            1.0            \n",
       "2  0.354354         0.478478          0.466466            1.0            \n",
       "3  0.763764         0.505255          0.466466            1.0            \n",
       "4  0.692693         0.478478          0.870871            1.0            \n",
       "\n",
       "      ...       PATOLOGIA_TIPO  PET_COD_DEPTO  PET_MPIO  PET_TIPOPER  \\\n",
       "0     ...       0.916416        0.611111       0.873584  1.0           \n",
       "1     ...       0.442442        0.708709       0.772773  1.0           \n",
       "2     ...       0.698198        0.577578       0.063564  1.0           \n",
       "3     ...       0.887137        0.926426       0.907908  1.0           \n",
       "4     ...       0.442442        0.982983       0.988183  1.0           \n",
       "\n",
       "      PQR_CANAL  PQR_CLASE_SNS  PQR_TIPOATENCION  PQR_TIPOPETICION      TRIM  \\\n",
       "0  2.122122e-01  9.999999e-01   0.192693          5.625626e-01      1.000000   \n",
       "1  1.000000e-07  1.000000e-07   0.192693          1.000000e-07      1.000000   \n",
       "2  2.122122e-01  9.999999e-01   0.192693          5.625626e-01      0.350350   \n",
       "3  2.122122e-01  9.999999e-01   0.192693          5.625626e-01      0.350350   \n",
       "4  9.999999e-01  9.999999e-01   1.000000          5.625626e-01      0.638639   \n",
       "\n",
       "   RIESGO_VIDA  \n",
       "0  0            \n",
       "1  0            \n",
       "2  0            \n",
       "3  0            \n",
       "4  1            \n",
       "\n",
       "[5 rows x 36 columns]"
      ]
     },
     "metadata": {},
     "output_type": "display_data"
    }
   ],
   "source": [
    "import numpy as np\n",
    "import pandas as pd\n",
    "from time import time\n",
    "import matplotlib.pyplot as plt\n",
    "from IPython.display import display \n",
    "from sklearn.metrics import fbeta_score\n",
    "import model_utils as utils\n",
    "from sklearn.externals import joblib\n",
    "\n",
    "# Pretty display for notebooks\n",
    "%matplotlib inline\n",
    "pd.set_option('display.max_colwidth', -1)\n",
    "\n",
    "dataset, features, labels = utils.getDataSet(\"datasets/dataset_reduced.csv\")\n"
   ]
  },
  {
   "cell_type": "markdown",
   "metadata": {},
   "source": [
    "## Shuffle and Split Data"
   ]
  },
  {
   "cell_type": "code",
   "execution_count": 2,
   "metadata": {},
   "outputs": [
    {
     "name": "stdout",
     "output_type": "stream",
     "text": [
      "features_final set has 967187 samples.\n",
      "Training set has 822108 samples.\n",
      "Testing set has 130571 samples.\n",
      "Validation set has 14508 samples.\n"
     ]
    }
   ],
   "source": [
    "# Import train_test_split\n",
    "from sklearn.model_selection import train_test_split\n",
    "\n",
    "# Split the 'features' and 'labels' data into training and testing sets\n",
    "X_train, X_test, y_train, y_test = train_test_split(features, labels, test_size = 0.15, random_state = 10, stratify=labels)\n",
    "\n",
    "X_test, X_validation, y_test, y_validation = train_test_split(X_test, y_test, test_size = 0.1, random_state = 10, stratify=y_test)\n",
    "# Show the results of the split\n",
    "print \"features_final set has {} samples.\".format(features.shape[0])\n",
    "print \"Training set has {} samples.\".format(X_train.shape[0])\n",
    "print \"Testing set has {} samples.\".format(X_test.shape[0])\n",
    "print \"Validation set has {} samples.\".format(X_validation.shape[0])"
   ]
  },
  {
   "cell_type": "code",
   "execution_count": 3,
   "metadata": {},
   "outputs": [
    {
     "name": "stderr",
     "output_type": "stream",
     "text": [
      "/anaconda2/lib/python2.7/site-packages/sklearn/utils/validation.py:752: DataConversionWarning: A column-vector y was passed when a 1d array was expected. Please change the shape of y to (n_samples, ), for example using ravel().\n",
      "  y = column_or_1d(y, warn=True)\n"
     ]
    },
    {
     "name": "stdout",
     "output_type": "stream",
     "text": [
      "GaussianNB trained.\n"
     ]
    },
    {
     "name": "stderr",
     "output_type": "stream",
     "text": [
      "/anaconda2/lib/python2.7/site-packages/sklearn/ensemble/forest.py:248: FutureWarning: The default value of n_estimators will change from 10 in version 0.20 to 100 in 0.22.\n",
      "  \"10 in version 0.20 to 100 in 0.22.\", FutureWarning)\n",
      "model_utils.py:28: DataConversionWarning: A column-vector y was passed when a 1d array was expected. Please change the shape of y to (n_samples,), for example using ravel().\n",
      "  learner = learner.fit(X_train, y_train)\n"
     ]
    },
    {
     "name": "stdout",
     "output_type": "stream",
     "text": [
      "RandomForestClassifier trained.\n",
      "AdaBoostClassifier trained.\n"
     ]
    }
   ],
   "source": [
    "from sklearn.ensemble import AdaBoostClassifier\n",
    "from sklearn.ensemble import RandomForestClassifier\n",
    "from sklearn.naive_bayes import GaussianNB\n",
    "\n",
    "# Initialize the three models\n",
    "clf_A = GaussianNB()\n",
    "clf_B = RandomForestClassifier(random_state = 300)\n",
    "clf_C = AdaBoostClassifier(random_state = 300)\n",
    "\n",
    "\n",
    "# Collect results on the learners\n",
    "dfResults = pd.DataFrame(columns=['learner', 'train_time', 'pred_time', 'f_test', 'f_train'])\n",
    "\n",
    "for k, clf in enumerate([clf_A, clf_B, clf_C]):\n",
    "    clf_name = clf.__class__.__name__  \n",
    "    clf, dfResults = utils.train_predict(clf, 2, X_train, y_train, X_test, y_test, dfResults)\n"
   ]
  },
  {
   "cell_type": "code",
   "execution_count": 4,
   "metadata": {
    "scrolled": true
   },
   "outputs": [
    {
     "data": {
      "text/html": [
       "<div>\n",
       "<style scoped>\n",
       "    .dataframe tbody tr th:only-of-type {\n",
       "        vertical-align: middle;\n",
       "    }\n",
       "\n",
       "    .dataframe tbody tr th {\n",
       "        vertical-align: top;\n",
       "    }\n",
       "\n",
       "    .dataframe thead th {\n",
       "        text-align: right;\n",
       "    }\n",
       "</style>\n",
       "<table border=\"1\" class=\"dataframe\">\n",
       "  <thead>\n",
       "    <tr style=\"text-align: right;\">\n",
       "      <th></th>\n",
       "      <th>learner</th>\n",
       "      <th>f_test</th>\n",
       "    </tr>\n",
       "  </thead>\n",
       "  <tbody>\n",
       "    <tr>\n",
       "      <th>1</th>\n",
       "      <td>RandomForestClassifier</td>\n",
       "      <td>0.716901</td>\n",
       "    </tr>\n",
       "    <tr>\n",
       "      <th>0</th>\n",
       "      <td>GaussianNB</td>\n",
       "      <td>0.714472</td>\n",
       "    </tr>\n",
       "    <tr>\n",
       "      <th>2</th>\n",
       "      <td>AdaBoostClassifier</td>\n",
       "      <td>0.664567</td>\n",
       "    </tr>\n",
       "  </tbody>\n",
       "</table>\n",
       "</div>"
      ],
      "text/plain": [
       "                  learner    f_test\n",
       "1  RandomForestClassifier  0.716901\n",
       "0  GaussianNB              0.714472\n",
       "2  AdaBoostClassifier      0.664567"
      ]
     },
     "metadata": {},
     "output_type": "display_data"
    }
   ],
   "source": [
    "display( dfResults.sort_values(by=['f_test'], ascending = False)[['learner', 'f_test']])\n"
   ]
  },
  {
   "cell_type": "markdown",
   "metadata": {},
   "source": [
    "# Tuning Models"
   ]
  },
  {
   "cell_type": "markdown",
   "metadata": {},
   "source": [
    "## Tuning RandomForestClassifier"
   ]
  },
  {
   "cell_type": "code",
   "execution_count": 5,
   "metadata": {},
   "outputs": [
    {
     "name": "stderr",
     "output_type": "stream",
     "text": [
      "/anaconda2/lib/python2.7/site-packages/sklearn/model_selection/_split.py:1943: FutureWarning: You should specify a value for 'cv' instead of relying on the default value. The default value will change from 3 to 5 in version 0.22.\n",
      "  warnings.warn(CV_WARNING, FutureWarning)\n"
     ]
    },
    {
     "name": "stdout",
     "output_type": "stream",
     "text": [
      "Unoptimized model\n",
      "------\n",
      "F-score on testing data: 0.7169\n",
      "\n",
      "Optimized Model\n",
      "------\n",
      "Final F-score on the testing data: 0.7986\n"
     ]
    },
    {
     "data": {
      "text/plain": [
       "['rfClassifier_reduced.joblib']"
      ]
     },
     "execution_count": 5,
     "metadata": {},
     "output_type": "execute_result"
    },
    {
     "data": {
      "image/png": "[encoded data removed]",
      "text/plain": [
       "<matplotlib.figure.Figure at 0x110834750>"
      ]
     },
     "metadata": {},
     "output_type": "display_data"
    }
   ],
   "source": [
    "from sklearn.metrics import make_scorer\n",
    "rfClassifier = RandomForestClassifier(random_state = 300)\n",
    "\n",
    "rfParameters = {    \n",
    "  'criterion':['gini', 'entropy'],\n",
    "  'max_depth':[5, 10],\n",
    "  'max_features':['auto', 'sqrt', 'log2', None],\n",
    "  'class_weight': ['balanced', 'balanced_subsample'], \n",
    "}\n",
    "\n",
    "rfClassifier = utils.tuneClassifier(rfClassifier, rfParameters, X_train, X_test, y_train, y_test)\n",
    "\n",
    "joblib.dump(rfClassifier, 'rfClassifier_reduced.joblib') \n"
   ]
  },
  {
   "cell_type": "markdown",
   "metadata": {},
   "source": [
    "## Tuning AdaBoostClassifier"
   ]
  },
  {
   "cell_type": "code",
   "execution_count": 6,
   "metadata": {
    "scrolled": true
   },
   "outputs": [
    {
     "name": "stdout",
     "output_type": "stream",
     "text": [
      "Unoptimized model\n",
      "------\n",
      "F-score on testing data: 0.6646\n",
      "\n",
      "Optimized Model\n",
      "------\n",
      "Final F-score on the testing data: 0.6646\n"
     ]
    },
    {
     "data": {
      "text/plain": [
       "['adaClassifier_reduced.joblib']"
      ]
     },
     "execution_count": 6,
     "metadata": {},
     "output_type": "execute_result"
    },
    {
     "data": {
      "image/png": "[encoded data removed]",
      "text/plain": [
       "<matplotlib.figure.Figure at 0x1a13eb7350>"
      ]
     },
     "metadata": {},
     "output_type": "display_data"
    }
   ],
   "source": [
    "\n",
    "from sklearn.ensemble import AdaBoostClassifier\n",
    "adaClassifier = AdaBoostClassifier(random_state = 300)\n",
    "\n",
    "adaParameters = {\n",
    "  'learning_rate':[0.1, 0.5, 1],\n",
    "  'algorithm' :['SAMME', 'SAMME.R']\n",
    "  #'max_features':['auto', 'sqrt', 'log2', None],\n",
    "}\n",
    "\n",
    "adaClassifier = utils.tuneClassifier(adaClassifier, adaParameters,  X_train, X_test, y_train, y_test)\n",
    "\n",
    "joblib.dump(rfClassifier, 'adaClassifier_reduced.joblib') \n"
   ]
  },
  {
   "cell_type": "markdown",
   "metadata": {},
   "source": [
    "# Stacking\n",
    "## Stacking with to best classifiers"
   ]
  },
  {
   "cell_type": "code",
   "execution_count": 7,
   "metadata": {},
   "outputs": [
    {
     "name": "stderr",
     "output_type": "stream",
     "text": [
      "/anaconda2/lib/python2.7/site-packages/mlxtend/classifier/stacking_classification.py:154: DataConversionWarning: A column-vector y was passed when a 1d array was expected. Please change the shape of y to (n_samples,), for example using ravel().\n",
      "  clf.fit(X, y)\n",
      "/anaconda2/lib/python2.7/site-packages/mlxtend/classifier/stacking_classification.py:171: DataConversionWarning: A column-vector y was passed when a 1d array was expected. Please change the shape of y to (n_samples,), for example using ravel().\n",
      "  self.meta_clf_.fit(meta_features, y)\n"
     ]
    },
    {
     "name": "stdout",
     "output_type": "stream",
     "text": [
      "F-score on validation data: 0.7242\n",
      "tn: 94680.000000, fp: 4362.000000, fn:9430.000000, tp: 22099.000000\n"
     ]
    },
    {
     "data": {
      "text/plain": [
       "StackingClassifier(average_probas=False,\n",
       "          classifiers=[RandomForestClassifier(bootstrap=True, class_weight='balanced_subsample',\n",
       "            criterion='gini', max_depth=10, max_features=None,\n",
       "            max_leaf_nodes=None, min_impurity_decrease=0.0,\n",
       "            min_impurity_split=None, min_samples_leaf=1,\n",
       "            min_samples_split=2, ...rithm='SAMME.R', base_estimator=None, learning_rate=1,\n",
       "          n_estimators=50, random_state=300)],\n",
       "          meta_classifier=RandomForestClassifier(bootstrap=True, class_weight=None, criterion='gini',\n",
       "            max_depth=None, max_features='auto', max_leaf_nodes=None,\n",
       "            min_impurity_decrease=0.0, min_impurity_split=None,\n",
       "            min_samples_leaf=1, min_samples_split=2,\n",
       "            min_weight_fraction_leaf=0.0, n_estimators='warn', n_jobs=None,\n",
       "            oob_score=False, random_state=20, verbose=0, warm_start=False),\n",
       "          store_train_meta_features=False, use_clones=True,\n",
       "          use_features_in_secondary=True, use_probas=False, verbose=0)"
      ]
     },
     "execution_count": 7,
     "metadata": {},
     "output_type": "execute_result"
    },
    {
     "data": {
      "image/png": "[encoded data removed]",
      "text/plain": [
       "<matplotlib.figure.Figure at 0x1a13e050d0>"
      ]
     },
     "metadata": {},
     "output_type": "display_data"
    }
   ],
   "source": [
    "from mlxtend.classifier import StackingClassifier\n",
    "from sklearn.naive_bayes import GaussianNB\n",
    "from sklearn import model_selection\n",
    "from sklearn.metrics import fbeta_score, make_scorer\n",
    "#meta with Gaussian\n",
    "sclf = StackingClassifier(classifiers=[rfClassifier, adaClassifier], \n",
    "                          use_features_in_secondary = True,\n",
    "                          meta_classifier=RandomForestClassifier(random_state = 20))\n",
    "sclf = sclf.fit(X_train, y_train)\n",
    "joblib.dump(sclf, 'sclfb_reduced.joblib') \n",
    "\n",
    "utils.modelValidation('sclfb_reduced.joblib', X_test, y_test)"
   ]
  },
  {
   "cell_type": "markdown",
   "metadata": {},
   "source": [
    "## Stacking with all classifiers"
   ]
  },
  {
   "cell_type": "code",
   "execution_count": 8,
   "metadata": {},
   "outputs": [
    {
     "name": "stdout",
     "output_type": "stream",
     "text": [
      "F-score on validation data: 0.7264\n",
      "tn: 94650.000000, fp: 4392.000000, fn:9346.000000, tp: 22183.000000\n"
     ]
    },
    {
     "data": {
      "text/plain": [
       "StackingClassifier(average_probas=False,\n",
       "          classifiers=[RandomForestClassifier(bootstrap=True, class_weight='balanced_subsample',\n",
       "            criterion='gini', max_depth=10, max_features=None,\n",
       "            max_leaf_nodes=None, min_impurity_decrease=0.0,\n",
       "            min_impurity_split=None, min_samples_leaf=1,\n",
       "            min_samples_split=2, ..._rate=1,\n",
       "          n_estimators=50, random_state=300), GaussianNB(priors=None, var_smoothing=1e-09)],\n",
       "          meta_classifier=RandomForestClassifier(bootstrap=True, class_weight=None, criterion='gini',\n",
       "            max_depth=None, max_features='auto', max_leaf_nodes=None,\n",
       "            min_impurity_decrease=0.0, min_impurity_split=None,\n",
       "            min_samples_leaf=1, min_samples_split=2,\n",
       "            min_weight_fraction_leaf=0.0, n_estimators='warn', n_jobs=None,\n",
       "            oob_score=False, random_state=20, verbose=0, warm_start=False),\n",
       "          store_train_meta_features=False, use_clones=True,\n",
       "          use_features_in_secondary=True, use_probas=False, verbose=0)"
      ]
     },
     "execution_count": 8,
     "metadata": {},
     "output_type": "execute_result"
    },
    {
     "data": {
      "image/png": "[encoded data removed]",
      "text/plain": [
       "<matplotlib.figure.Figure at 0x1a13e10610>"
      ]
     },
     "metadata": {},
     "output_type": "display_data"
    }
   ],
   "source": [
    "from mlxtend.classifier import StackingClassifier\n",
    "from sklearn.naive_bayes import GaussianNB\n",
    "from sklearn import model_selection\n",
    "from sklearn.metrics import fbeta_score, make_scorer\n",
    "#meta with Gaussian\n",
    "sclf2 = StackingClassifier(classifiers=[rfClassifier, adaClassifier, GaussianNB()], \n",
    "                          use_features_in_secondary = True,\n",
    "                          meta_classifier=RandomForestClassifier(random_state = 20))\n",
    "sclf2 = sclf2.fit(X_train, y_train)\n",
    "joblib.dump(sclf2, 'sclf2_reduced.joblib') \n",
    "\n",
    "utils.modelValidation('sclf2_reduced.joblib', X_test, y_test)"
   ]
  },
  {
   "cell_type": "code",
   "execution_count": 9,
   "metadata": {},
   "outputs": [
    {
     "name": "stdout",
     "output_type": "stream",
     "text": [
      "F-score on validation data: 0.7264\n",
      "tn: 94650.000000, fp: 4392.000000, fn:9346.000000, tp: 22183.000000\n"
     ]
    },
    {
     "data": {
      "text/plain": [
       "StackingClassifier(average_probas=False,\n",
       "          classifiers=[RandomForestClassifier(bootstrap=True, class_weight='balanced_subsample',\n",
       "            criterion='gini', max_depth=10, max_features=None,\n",
       "            max_leaf_nodes=None, min_impurity_decrease=0.0,\n",
       "            min_impurity_split=None, min_samples_leaf=1,\n",
       "            min_samples_split=2, ..._rate=1,\n",
       "          n_estimators=50, random_state=300), GaussianNB(priors=None, var_smoothing=1e-09)],\n",
       "          meta_classifier=RandomForestClassifier(bootstrap=True, class_weight=None, criterion='gini',\n",
       "            max_depth=None, max_features='auto', max_leaf_nodes=None,\n",
       "            min_impurity_decrease=0.0, min_impurity_split=None,\n",
       "            min_samples_leaf=1, min_samples_split=2,\n",
       "            min_weight_fraction_leaf=0.0, n_estimators='warn', n_jobs=None,\n",
       "            oob_score=False, random_state=20, verbose=0, warm_start=False),\n",
       "          store_train_meta_features=False, use_clones=True,\n",
       "          use_features_in_secondary=True, use_probas=False, verbose=0)"
      ]
     },
     "execution_count": 9,
     "metadata": {},
     "output_type": "execute_result"
    },
    {
     "data": {
      "image/png": "[encoded data removed]",
      "text/plain": [
       "<matplotlib.figure.Figure at 0x11089ae90>"
      ]
     },
     "metadata": {},
     "output_type": "display_data"
    }
   ],
   "source": [
    "from imblearn.over_sampling import RandomOverSampler\n",
    "\n",
    "ros = RandomOverSampler(sampling_strategy = 'not majority')\n",
    "X_oversampled_train, y_oversampled_train = ros.fit_sample(X_train, y_train)\n",
    "\n",
    "clfRFC = RandomForestClassifier(random_state = 300)\n",
    "clfRFC = rfClassifier.fit(X_oversampled_train, y_oversampled_train)\n",
    "joblib.dump(clfRFC, 'clfRFC_reduced.joblib') \n",
    "\n",
    "utils.modelValidation('sclf2_reduced.joblib', X_test, y_test)"
   ]
  },
  {
   "cell_type": "code",
   "execution_count": 10,
   "metadata": {},
   "outputs": [
    {
     "data": {
      "text/plain": [
       "'\\nfrom hpsklearn import HyperoptEstimator, random_forest\\n\\nestim = HyperoptEstimator( classifier=random_forest(\\'myRFC\\') )\\nestim.fit( X_train.values, y_train.values )\\n\\npredictions_hyper_test = estim.predict(X_test)\\nf_hyper_test =  recall_score(y_test, predictions_hyper_test)\\nprint(\"HyperoptEstimator score: %f\"%(f_hyper_test))\\n'"
      ]
     },
     "execution_count": 10,
     "metadata": {},
     "output_type": "execute_result"
    }
   ],
   "source": [
    "'''\n",
    "from hpsklearn import HyperoptEstimator, random_forest\n",
    "\n",
    "estim = HyperoptEstimator( classifier=random_forest('myRFC') )\n",
    "estim.fit( X_train.values, y_train.values )\n",
    "\n",
    "predictions_hyper_test = estim.predict(X_test)\n",
    "f_hyper_test =  recall_score(y_test, predictions_hyper_test)\n",
    "print(\"HyperoptEstimator score: %f\"%(f_hyper_test))\n",
    "'''"
   ]
  },
  {
   "cell_type": "code",
   "execution_count": null,
   "metadata": {},
   "outputs": [],
   "source": []
  }
 ],
 "metadata": {
  "kernelspec": {
   "display_name": "Python 2",
   "language": "python",
   "name": "python2"
  },
  "language_info": {
   "codemirror_mode": {
    "name": "ipython",
    "version": 2
   },
   "file_extension": ".py",
   "mimetype": "text/x-python",
   "name": "python",
   "nbconvert_exporter": "python",
   "pygments_lexer": "ipython2",
   "version": "2.7.14"
  }
 },
 "nbformat": 4,
 "nbformat_minor": 2
}
