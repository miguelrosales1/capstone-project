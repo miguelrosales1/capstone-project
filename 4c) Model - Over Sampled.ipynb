{
 "cells": [
  {
   "cell_type": "code",
   "execution_count": 1,
   "metadata": {
    "colab": {
     "base_uri": "https://localhost:8080/",
     "height": 253
    },
    "colab_type": "code",
    "executionInfo": {
     "elapsed": 35211,
     "status": "ok",
     "timestamp": 1542075502348,
     "user": {
      "displayName": "Mario Rugeles",
      "photoUrl": "https://lh3.googleusercontent.com/--oO1Q7krrEw/AAAAAAAAAAI/AAAAAAAAVNM/PnWpg-9Ytsk/s64/photo.jpg",
      "userId": "18266523861382958643"
     },
     "user_tz": 300
    },
    "id": "QdPdXHHYdLUl",
    "outputId": "942197da-0937-4f13-f08c-9ef99a32f84a"
   },
   "outputs": [
    {
     "data": {
      "text/html": [
       "<div>\n",
       "<style scoped>\n",
       "    .dataframe tbody tr th:only-of-type {\n",
       "        vertical-align: middle;\n",
       "    }\n",
       "\n",
       "    .dataframe tbody tr th {\n",
       "        vertical-align: top;\n",
       "    }\n",
       "\n",
       "    .dataframe thead th {\n",
       "        text-align: right;\n",
       "    }\n",
       "</style>\n",
       "<table border=\"1\" class=\"dataframe\">\n",
       "  <thead>\n",
       "    <tr style=\"text-align: right;\">\n",
       "      <th></th>\n",
       "      <th>AFEC_EDADR</th>\n",
       "      <th>AFEC_EDUC</th>\n",
       "      <th>AFEC_GENERO</th>\n",
       "      <th>AFEC_GETNICO</th>\n",
       "      <th>AFEC_PARENTESCO</th>\n",
       "      <th>AFEC_POBESPECIAL</th>\n",
       "      <th>AFEC_REGAFILIACION</th>\n",
       "      <th>AFEC_TIPOPER</th>\n",
       "      <th>ALTO_COSTO</th>\n",
       "      <th>CIE_10</th>\n",
       "      <th>...</th>\n",
       "      <th>PQR_CLASE_SNS</th>\n",
       "      <th>PQR_ESTADO</th>\n",
       "      <th>PQR_TIPOATENCION</th>\n",
       "      <th>PQR_TIPOPETICION</th>\n",
       "      <th>TRIM</th>\n",
       "      <th>AFEC_LOCATION</th>\n",
       "      <th>ENT_LOCATION</th>\n",
       "      <th>PET_LOCATION</th>\n",
       "      <th>COMPLETE_MOTIVE</th>\n",
       "      <th>RIESGO_VIDA</th>\n",
       "    </tr>\n",
       "  </thead>\n",
       "  <tbody>\n",
       "    <tr>\n",
       "      <th>0</th>\n",
       "      <td>1.000000e-07</td>\n",
       "      <td>1.000000e-07</td>\n",
       "      <td>1.000000e-07</td>\n",
       "      <td>1.000000e-07</td>\n",
       "      <td>1.000000e-07</td>\n",
       "      <td>1.000000e-07</td>\n",
       "      <td>1.000000e-07</td>\n",
       "      <td>1.000000e-07</td>\n",
       "      <td>1.000000e-07</td>\n",
       "      <td>0.445445</td>\n",
       "      <td>...</td>\n",
       "      <td>1.000000e-07</td>\n",
       "      <td>1.000000e-07</td>\n",
       "      <td>1.000000</td>\n",
       "      <td>1.000000e-07</td>\n",
       "      <td>1.000000e-07</td>\n",
       "      <td>0.246246</td>\n",
       "      <td>0.185686</td>\n",
       "      <td>0.053053</td>\n",
       "      <td>0.274775</td>\n",
       "      <td>0</td>\n",
       "    </tr>\n",
       "    <tr>\n",
       "      <th>1</th>\n",
       "      <td>1.000000e-07</td>\n",
       "      <td>1.000000e-07</td>\n",
       "      <td>1.000000e-07</td>\n",
       "      <td>1.000000e-07</td>\n",
       "      <td>1.000000e-07</td>\n",
       "      <td>1.000000e-07</td>\n",
       "      <td>1.000000e-07</td>\n",
       "      <td>1.000000e-07</td>\n",
       "      <td>1.000000e-07</td>\n",
       "      <td>0.445445</td>\n",
       "      <td>...</td>\n",
       "      <td>1.000000e-07</td>\n",
       "      <td>1.000000e-07</td>\n",
       "      <td>1.000000</td>\n",
       "      <td>1.000000e-07</td>\n",
       "      <td>6.481481e-01</td>\n",
       "      <td>0.076577</td>\n",
       "      <td>0.185686</td>\n",
       "      <td>0.368869</td>\n",
       "      <td>0.142142</td>\n",
       "      <td>0</td>\n",
       "    </tr>\n",
       "    <tr>\n",
       "      <th>2</th>\n",
       "      <td>1.000000e-07</td>\n",
       "      <td>1.000000e-07</td>\n",
       "      <td>1.000000e-07</td>\n",
       "      <td>1.000000e-07</td>\n",
       "      <td>1.000000e-07</td>\n",
       "      <td>1.000000e-07</td>\n",
       "      <td>1.000000e-07</td>\n",
       "      <td>1.000000e-07</td>\n",
       "      <td>1.000000e-07</td>\n",
       "      <td>0.445445</td>\n",
       "      <td>...</td>\n",
       "      <td>1.000000e-07</td>\n",
       "      <td>1.000000e-07</td>\n",
       "      <td>1.000000</td>\n",
       "      <td>1.000000e-07</td>\n",
       "      <td>1.000000e-07</td>\n",
       "      <td>0.076577</td>\n",
       "      <td>0.185686</td>\n",
       "      <td>0.890891</td>\n",
       "      <td>0.142142</td>\n",
       "      <td>0</td>\n",
       "    </tr>\n",
       "    <tr>\n",
       "      <th>3</th>\n",
       "      <td>5.805806e-01</td>\n",
       "      <td>5.970971e-01</td>\n",
       "      <td>5.270270e-01</td>\n",
       "      <td>7.267267e-01</td>\n",
       "      <td>9.454454e-01</td>\n",
       "      <td>7.082082e-01</td>\n",
       "      <td>9.999999e-01</td>\n",
       "      <td>9.999999e-01</td>\n",
       "      <td>1.000000e-07</td>\n",
       "      <td>0.239239</td>\n",
       "      <td>...</td>\n",
       "      <td>9.999999e-01</td>\n",
       "      <td>3.413413e-01</td>\n",
       "      <td>0.168669</td>\n",
       "      <td>9.919920e-01</td>\n",
       "      <td>3.806306e-01</td>\n",
       "      <td>0.246246</td>\n",
       "      <td>0.958458</td>\n",
       "      <td>0.845846</td>\n",
       "      <td>0.883383</td>\n",
       "      <td>0</td>\n",
       "    </tr>\n",
       "    <tr>\n",
       "      <th>4</th>\n",
       "      <td>1.000000e-07</td>\n",
       "      <td>1.000000e-07</td>\n",
       "      <td>1.000000e-07</td>\n",
       "      <td>1.000000e-07</td>\n",
       "      <td>1.000000e-07</td>\n",
       "      <td>1.000000e-07</td>\n",
       "      <td>1.000000e-07</td>\n",
       "      <td>1.000000e-07</td>\n",
       "      <td>1.000000e-07</td>\n",
       "      <td>0.453954</td>\n",
       "      <td>...</td>\n",
       "      <td>1.000000e-07</td>\n",
       "      <td>1.000000e-07</td>\n",
       "      <td>1.000000</td>\n",
       "      <td>1.000000e-07</td>\n",
       "      <td>9.999999e-01</td>\n",
       "      <td>0.076577</td>\n",
       "      <td>0.909910</td>\n",
       "      <td>0.618619</td>\n",
       "      <td>0.274775</td>\n",
       "      <td>0</td>\n",
       "    </tr>\n",
       "  </tbody>\n",
       "</table>\n",
       "<p>5 rows × 33 columns</p>\n",
       "</div>"
      ],
      "text/plain": [
       "     AFEC_EDADR     AFEC_EDUC   AFEC_GENERO  AFEC_GETNICO  AFEC_PARENTESCO  \\\n",
       "0  1.000000e-07  1.000000e-07  1.000000e-07  1.000000e-07  1.000000e-07      \n",
       "1  1.000000e-07  1.000000e-07  1.000000e-07  1.000000e-07  1.000000e-07      \n",
       "2  1.000000e-07  1.000000e-07  1.000000e-07  1.000000e-07  1.000000e-07      \n",
       "3  5.805806e-01  5.970971e-01  5.270270e-01  7.267267e-01  9.454454e-01      \n",
       "4  1.000000e-07  1.000000e-07  1.000000e-07  1.000000e-07  1.000000e-07      \n",
       "\n",
       "   AFEC_POBESPECIAL  AFEC_REGAFILIACION  AFEC_TIPOPER    ALTO_COSTO    CIE_10  \\\n",
       "0  1.000000e-07      1.000000e-07        1.000000e-07  1.000000e-07  0.445445   \n",
       "1  1.000000e-07      1.000000e-07        1.000000e-07  1.000000e-07  0.445445   \n",
       "2  1.000000e-07      1.000000e-07        1.000000e-07  1.000000e-07  0.445445   \n",
       "3  7.082082e-01      9.999999e-01        9.999999e-01  1.000000e-07  0.239239   \n",
       "4  1.000000e-07      1.000000e-07        1.000000e-07  1.000000e-07  0.453954   \n",
       "\n",
       "      ...       PQR_CLASE_SNS    PQR_ESTADO  PQR_TIPOATENCION  \\\n",
       "0     ...       1.000000e-07   1.000000e-07  1.000000           \n",
       "1     ...       1.000000e-07   1.000000e-07  1.000000           \n",
       "2     ...       1.000000e-07   1.000000e-07  1.000000           \n",
       "3     ...       9.999999e-01   3.413413e-01  0.168669           \n",
       "4     ...       1.000000e-07   1.000000e-07  1.000000           \n",
       "\n",
       "   PQR_TIPOPETICION          TRIM  AFEC_LOCATION  ENT_LOCATION  PET_LOCATION  \\\n",
       "0  1.000000e-07      1.000000e-07  0.246246       0.185686      0.053053       \n",
       "1  1.000000e-07      6.481481e-01  0.076577       0.185686      0.368869       \n",
       "2  1.000000e-07      1.000000e-07  0.076577       0.185686      0.890891       \n",
       "3  9.919920e-01      3.806306e-01  0.246246       0.958458      0.845846       \n",
       "4  1.000000e-07      9.999999e-01  0.076577       0.909910      0.618619       \n",
       "\n",
       "   COMPLETE_MOTIVE  RIESGO_VIDA  \n",
       "0  0.274775         0            \n",
       "1  0.142142         0            \n",
       "2  0.142142         0            \n",
       "3  0.883383         0            \n",
       "4  0.274775         0            \n",
       "\n",
       "[5 rows x 33 columns]"
      ]
     },
     "metadata": {},
     "output_type": "display_data"
    }
   ],
   "source": [
    "import numpy as np\n",
    "import pandas as pd\n",
    "from time import time\n",
    "import matplotlib.pyplot as plt\n",
    "from IPython.display import display \n",
    "\n",
    "import model_utils as utils\n",
    "\n",
    "# Pretty display for notebooks\n",
    "%matplotlib inline\n",
    "pd.set_option('display.max_colwidth', -1)\n",
    "\n",
    "dataset, features, labels = utils.getDataSet(\"datasets/dataset_over_sampled.csv.gz\")"
   ]
  },
  {
   "cell_type": "markdown",
   "metadata": {
    "colab_type": "text",
    "id": "9pYUs1SydLUq"
   },
   "source": [
    "## Shuffle and Split Data"
   ]
  },
  {
   "cell_type": "code",
   "execution_count": 2,
   "metadata": {
    "colab": {
     "base_uri": "https://localhost:8080/",
     "height": 68
    },
    "colab_type": "code",
    "executionInfo": {
     "elapsed": 3787,
     "status": "ok",
     "timestamp": 1542075507274,
     "user": {
      "displayName": "Mario Rugeles",
      "photoUrl": "https://lh3.googleusercontent.com/--oO1Q7krrEw/AAAAAAAAAAI/AAAAAAAAVNM/PnWpg-9Ytsk/s64/photo.jpg",
      "userId": "18266523861382958643"
     },
     "user_tz": 300
    },
    "id": "xm7ZTuEvdLUr",
    "outputId": "0b20a109-efdd-4b03-cfc0-ff51e02a727a"
   },
   "outputs": [
    {
     "name": "stdout",
     "output_type": "stream",
     "text": [
      "features_final set has 3315592 samples.\n",
      "Training set has 2652473 samples.\n",
      "Testing set has 663119 samples.\n"
     ]
    }
   ],
   "source": [
    "# Import train_test_split\n",
    "from sklearn.model_selection import train_test_split\n",
    "\n",
    "# Split the 'features' and 'labels' data into training and testing sets\n",
    "X_train, X_test, y_train, y_test = train_test_split(features, \n",
    "                                                    labels, \n",
    "                                                    test_size = 0.20, \n",
    "                                                    random_state = 10)\n",
    "\n",
    "# Show the results of the split\n",
    "print \"features_final set has {} samples.\".format(features.shape[0])\n",
    "print \"Training set has {} samples.\".format(X_train.shape[0])\n",
    "print \"Testing set has {} samples.\".format(X_test.shape[0])"
   ]
  },
  {
   "cell_type": "markdown",
   "metadata": {
    "colab_type": "text",
    "id": "D6Wdu9q4dLUu"
   },
   "source": [
    "### Creating a Training and Predicting Pipeline"
   ]
  },
  {
   "cell_type": "code",
   "execution_count": 3,
   "metadata": {
    "colab": {
     "base_uri": "https://localhost:8080/",
     "height": 51
    },
    "colab_type": "code",
    "executionInfo": {
     "elapsed": 821,
     "status": "ok",
     "timestamp": 1542075508123,
     "user": {
      "displayName": "Mario Rugeles",
      "photoUrl": "https://lh3.googleusercontent.com/--oO1Q7krrEw/AAAAAAAAAAI/AAAAAAAAVNM/PnWpg-9Ytsk/s64/photo.jpg",
      "userId": "18266523861382958643"
     },
     "user_tz": 300
    },
    "id": "abnhKqsydLUv",
    "outputId": "7e3987a6-c534-4756-b4b4-9b1019652dbe"
   },
   "outputs": [
    {
     "name": "stdout",
     "output_type": "stream",
     "text": [
      "Naive Predictor: [F-score: 0.8333]\n"
     ]
    }
   ],
   "source": [
    "'''\n",
    "TP = np.sum(income) # Counting the ones as this is the naive case. Note that 'income' is the 'income_raw' data \n",
    "encoded to numerical values done in the data preprocessing step.\n",
    "FP = income.count() - TP # Specific to the naive case\n",
    "\n",
    "TN = 0 # No predicted negatives in the naive case\n",
    "FN = 0 # No predicted negatives in the naive case\n",
    "'''\n",
    "\n",
    "tp = float(np.sum(labels['RIESGO_VIDA']))\n",
    "fp = float(labels['RIESGO_VIDA'].count() - tp)\n",
    "tn = 0\n",
    "fn = 0\n",
    "\n",
    "# TODO: Calculate accuracy, precision and recall\n",
    "recall = tp / (tp + fn)\n",
    "precision = tp / (tp + fp)\n",
    "\n",
    "# TODO: Calculate F-score using the formula above for beta = 0.5 and correct values for precision and recall.\n",
    "# HINT: The formula above can be written as (1 + beta**2) * (precision * recall) / ((beta**2 * precision) + recall)\n",
    "beta = 2\n",
    "fscore = (1 + beta**2) * (precision * recall) / ((beta**2 * precision) + recall)\n",
    "\n",
    "# Print the results \n",
    "print \"Naive Predictor: [F-score: {:.4f}]\".format(fscore)"
   ]
  },
  {
   "cell_type": "code",
   "execution_count": 4,
   "metadata": {
    "colab": {
     "base_uri": "https://localhost:8080/",
     "height": 292
    },
    "colab_type": "code",
    "executionInfo": {
     "elapsed": 723205,
     "status": "ok",
     "timestamp": 1542076232270,
     "user": {
      "displayName": "Mario Rugeles",
      "photoUrl": "https://lh3.googleusercontent.com/--oO1Q7krrEw/AAAAAAAAAAI/AAAAAAAAVNM/PnWpg-9Ytsk/s64/photo.jpg",
      "userId": "18266523861382958643"
     },
     "user_tz": 300
    },
    "id": "9JMVKOlQdLU0",
    "outputId": "7f345260-d5e3-4b9e-f1ff-bdc8e05fdfb7",
    "scrolled": true
   },
   "outputs": [
    {
     "name": "stderr",
     "output_type": "stream",
     "text": [
      "/anaconda2/lib/python2.7/site-packages/sklearn/linear_model/stochastic_gradient.py:144: FutureWarning: max_iter and tol parameters have been added in SGDClassifier in 0.19. If both are left unset, they default to max_iter=5 and tol=None. If tol is not None, max_iter defaults to max_iter=1000. From 0.21, default max_iter will be 1000, and default tol will be 1e-3.\n",
      "  FutureWarning)\n",
      "/anaconda2/lib/python2.7/site-packages/sklearn/utils/validation.py:752: DataConversionWarning: A column-vector y was passed when a 1d array was expected. Please change the shape of y to (n_samples, ), for example using ravel().\n",
      "  y = column_or_1d(y, warn=True)\n"
     ]
    },
    {
     "name": "stdout",
     "output_type": "stream",
     "text": [
      "SGDClassifier trained on 2652473 samples.\n"
     ]
    },
    {
     "name": "stderr",
     "output_type": "stream",
     "text": [
      "/anaconda2/lib/python2.7/site-packages/sklearn/ensemble/forest.py:248: FutureWarning: The default value of n_estimators will change from 10 in version 0.20 to 100 in 0.22.\n",
      "  \"10 in version 0.20 to 100 in 0.22.\", FutureWarning)\n",
      "model_utils.py:35: DataConversionWarning: A column-vector y was passed when a 1d array was expected. Please change the shape of y to (n_samples,), for example using ravel().\n",
      "  learner = learner.fit(X_train[:sample_size], y_train[:sample_size])\n"
     ]
    },
    {
     "name": "stdout",
     "output_type": "stream",
     "text": [
      "RandomForestClassifier trained on 2652473 samples.\n",
      "AdaBoostClassifier trained on 2652473 samples.\n"
     ]
    }
   ],
   "source": [
    "import visuals as vs\n",
    "from sklearn.metrics import fbeta_score\n",
    "from sklearn.ensemble import AdaBoostClassifier\n",
    "from sklearn.ensemble import RandomForestClassifier\n",
    "from sklearn.linear_model import SGDClassifier\n",
    "# Initialize the three models\n",
    "clf_A = SGDClassifier(random_state = 300)\n",
    "clf_B = RandomForestClassifier(random_state = 300)\n",
    "clf_C = AdaBoostClassifier(random_state = 300)\n",
    "\n",
    "\n",
    "samples_100 = len(y_train)\n",
    "\n",
    "# Collect results on the learners\n",
    "dfResults = pd.DataFrame(columns=['learner', 'learner_index', 'size_index', 'train_time', 'pred_time', 'f_test', 'f_train'])\n",
    "\n",
    "for k, clf in enumerate([clf_A, clf_B, clf_C]):\n",
    "    clf_name = clf.__class__.__name__    \n",
    "    dfResults = utils.train_predict(clf, k, 0, samples_100, X_train, y_train, X_test, y_test, dfResults)\n"
   ]
  },
  {
   "cell_type": "code",
   "execution_count": 5,
   "metadata": {},
   "outputs": [
    {
     "data": {
      "text/html": [
       "<div>\n",
       "<style scoped>\n",
       "    .dataframe tbody tr th:only-of-type {\n",
       "        vertical-align: middle;\n",
       "    }\n",
       "\n",
       "    .dataframe tbody tr th {\n",
       "        vertical-align: top;\n",
       "    }\n",
       "\n",
       "    .dataframe thead th {\n",
       "        text-align: right;\n",
       "    }\n",
       "</style>\n",
       "<table border=\"1\" class=\"dataframe\">\n",
       "  <thead>\n",
       "    <tr style=\"text-align: right;\">\n",
       "      <th></th>\n",
       "      <th>learner</th>\n",
       "      <th>f_test</th>\n",
       "    </tr>\n",
       "  </thead>\n",
       "  <tbody>\n",
       "    <tr>\n",
       "      <th>1</th>\n",
       "      <td>RandomForestClassifier</td>\n",
       "      <td>0.991604</td>\n",
       "    </tr>\n",
       "    <tr>\n",
       "      <th>2</th>\n",
       "      <td>AdaBoostClassifier</td>\n",
       "      <td>0.882436</td>\n",
       "    </tr>\n",
       "    <tr>\n",
       "      <th>0</th>\n",
       "      <td>SGDClassifier</td>\n",
       "      <td>0.882184</td>\n",
       "    </tr>\n",
       "  </tbody>\n",
       "</table>\n",
       "</div>"
      ],
      "text/plain": [
       "                  learner    f_test\n",
       "1  RandomForestClassifier  0.991604\n",
       "2  AdaBoostClassifier      0.882436\n",
       "0  SGDClassifier           0.882184"
      ]
     },
     "metadata": {},
     "output_type": "display_data"
    }
   ],
   "source": [
    "display( dfResults.sort_values(by=['f_test'], ascending = False)[['learner', 'f_test']])"
   ]
  },
  {
   "cell_type": "markdown",
   "metadata": {},
   "source": [
    "# Tuning Models\n"
   ]
  },
  {
   "cell_type": "markdown",
   "metadata": {},
   "source": [
    "## Tuning SGDClassifier"
   ]
  },
  {
   "cell_type": "code",
   "execution_count": 7,
   "metadata": {},
   "outputs": [
    {
     "name": "stdout",
     "output_type": "stream",
     "text": [
      "Unoptimized model\n",
      "------\n",
      "F-score on testing data: 0.8910\n",
      "\n",
      "Optimized Model\n",
      "------\n",
      "Final F-score on the testing data: 0.8983\n"
     ]
    },
    {
     "data": {
      "text/plain": [
       "['sdgClassifier_over_sampled.joblib']"
      ]
     },
     "execution_count": 7,
     "metadata": {},
     "output_type": "execute_result"
    }
   ],
   "source": [
    "sdgClassifier = SGDClassifier(random_state = 20)\n",
    "\n",
    "sdgParameters = {\n",
    "  'eta0':[0.01],\n",
    "  'loss':['hinge', 'log', 'modified_huber', 'squared_hinge', 'perceptron'],\n",
    "  'penalty':['none', 'l2', 'l1', 'elasticnet'],\n",
    "  'learning_rate':['constant', 'optimal', 'invscaling'],\n",
    "  'class_weight' :['balanced']\n",
    "  #'max_features':['auto', 'sqrt', 'log2', None],\n",
    "}\n",
    "\n",
    "sdgClassifier = utils.tuneClassifier(sdgClassifier, sdgParameters, X_train, X_test, y_train, y_test)\n",
    "\n",
    "joblib.dump(rfClassifier, 'sdgClassifier_over_sampled.joblib') "
   ]
  },
  {
   "cell_type": "markdown",
   "metadata": {},
   "source": [
    "## Testing Model with the validation dataset\n"
   ]
  },
  {
   "cell_type": "code",
   "execution_count": 14,
   "metadata": {},
   "outputs": [
    {
     "data": {
      "text/html": [
       "<div>\n",
       "<style scoped>\n",
       "    .dataframe tbody tr th:only-of-type {\n",
       "        vertical-align: middle;\n",
       "    }\n",
       "\n",
       "    .dataframe tbody tr th {\n",
       "        vertical-align: top;\n",
       "    }\n",
       "\n",
       "    .dataframe thead th {\n",
       "        text-align: right;\n",
       "    }\n",
       "</style>\n",
       "<table border=\"1\" class=\"dataframe\">\n",
       "  <thead>\n",
       "    <tr style=\"text-align: right;\">\n",
       "      <th></th>\n",
       "      <th>AFEC_EDADR</th>\n",
       "      <th>AFEC_EDUC</th>\n",
       "      <th>AFEC_GENERO</th>\n",
       "      <th>AFEC_GETNICO</th>\n",
       "      <th>AFEC_PARENTESCO</th>\n",
       "      <th>AFEC_POBESPECIAL</th>\n",
       "      <th>AFEC_REGAFILIACION</th>\n",
       "      <th>AFEC_TIPOPER</th>\n",
       "      <th>ALTO_COSTO</th>\n",
       "      <th>CIE_10</th>\n",
       "      <th>...</th>\n",
       "      <th>PQR_CLASE_SNS</th>\n",
       "      <th>PQR_ESTADO</th>\n",
       "      <th>PQR_TIPOATENCION</th>\n",
       "      <th>PQR_TIPOPETICION</th>\n",
       "      <th>TRIM</th>\n",
       "      <th>AFEC_LOCATION</th>\n",
       "      <th>ENT_LOCATION</th>\n",
       "      <th>PET_LOCATION</th>\n",
       "      <th>COMPLETE_MOTIVE</th>\n",
       "      <th>RIESGO_VIDA</th>\n",
       "    </tr>\n",
       "  </thead>\n",
       "  <tbody>\n",
       "    <tr>\n",
       "      <th>0</th>\n",
       "      <td>1.000000e-07</td>\n",
       "      <td>1.000000e-07</td>\n",
       "      <td>1.000000e-07</td>\n",
       "      <td>1.000000e-07</td>\n",
       "      <td>1.000000e-07</td>\n",
       "      <td>1.000000e-07</td>\n",
       "      <td>1.000000e-07</td>\n",
       "      <td>1.000000e-07</td>\n",
       "      <td>1.000000e-07</td>\n",
       "      <td>0.445445</td>\n",
       "      <td>...</td>\n",
       "      <td>1.000000e-07</td>\n",
       "      <td>1.000000e-07</td>\n",
       "      <td>1.000000</td>\n",
       "      <td>1.000000e-07</td>\n",
       "      <td>1.000000e-07</td>\n",
       "      <td>0.076577</td>\n",
       "      <td>0.185686</td>\n",
       "      <td>0.053053</td>\n",
       "      <td>0.372873</td>\n",
       "      <td>0</td>\n",
       "    </tr>\n",
       "    <tr>\n",
       "      <th>1</th>\n",
       "      <td>5.805806e-01</td>\n",
       "      <td>5.970971e-01</td>\n",
       "      <td>5.270270e-01</td>\n",
       "      <td>7.267267e-01</td>\n",
       "      <td>5.580581e-01</td>\n",
       "      <td>7.082082e-01</td>\n",
       "      <td>5.730731e-01</td>\n",
       "      <td>9.999999e-01</td>\n",
       "      <td>1.000000e-07</td>\n",
       "      <td>0.445445</td>\n",
       "      <td>...</td>\n",
       "      <td>9.999999e-01</td>\n",
       "      <td>6.316316e-01</td>\n",
       "      <td>0.168669</td>\n",
       "      <td>6.571572e-01</td>\n",
       "      <td>4.119119e-01</td>\n",
       "      <td>0.779349</td>\n",
       "      <td>0.917076</td>\n",
       "      <td>0.437668</td>\n",
       "      <td>0.647648</td>\n",
       "      <td>0</td>\n",
       "    </tr>\n",
       "    <tr>\n",
       "      <th>2</th>\n",
       "      <td>9.999999e-01</td>\n",
       "      <td>5.970971e-01</td>\n",
       "      <td>9.999999e-01</td>\n",
       "      <td>7.267267e-01</td>\n",
       "      <td>9.114114e-01</td>\n",
       "      <td>7.082082e-01</td>\n",
       "      <td>8.268268e-01</td>\n",
       "      <td>9.999999e-01</td>\n",
       "      <td>1.000000e-07</td>\n",
       "      <td>0.377878</td>\n",
       "      <td>...</td>\n",
       "      <td>1.000000e-07</td>\n",
       "      <td>6.316316e-01</td>\n",
       "      <td>0.168669</td>\n",
       "      <td>1.000000e-07</td>\n",
       "      <td>1.000000e-07</td>\n",
       "      <td>0.865365</td>\n",
       "      <td>0.842843</td>\n",
       "      <td>0.890891</td>\n",
       "      <td>0.372873</td>\n",
       "      <td>0</td>\n",
       "    </tr>\n",
       "    <tr>\n",
       "      <th>3</th>\n",
       "      <td>7.374875e-01</td>\n",
       "      <td>9.096597e-01</td>\n",
       "      <td>5.270270e-01</td>\n",
       "      <td>7.267267e-01</td>\n",
       "      <td>9.454454e-01</td>\n",
       "      <td>9.789790e-01</td>\n",
       "      <td>5.730731e-01</td>\n",
       "      <td>9.999999e-01</td>\n",
       "      <td>1.000000e-07</td>\n",
       "      <td>0.445445</td>\n",
       "      <td>...</td>\n",
       "      <td>9.999999e-01</td>\n",
       "      <td>6.316316e-01</td>\n",
       "      <td>1.000000</td>\n",
       "      <td>8.298298e-01</td>\n",
       "      <td>1.000000e-07</td>\n",
       "      <td>0.703203</td>\n",
       "      <td>0.710711</td>\n",
       "      <td>0.514014</td>\n",
       "      <td>0.647648</td>\n",
       "      <td>0</td>\n",
       "    </tr>\n",
       "    <tr>\n",
       "      <th>4</th>\n",
       "      <td>1.000000e-07</td>\n",
       "      <td>1.000000e-07</td>\n",
       "      <td>1.000000e-07</td>\n",
       "      <td>1.000000e-07</td>\n",
       "      <td>1.000000e-07</td>\n",
       "      <td>1.000000e-07</td>\n",
       "      <td>1.000000e-07</td>\n",
       "      <td>1.000000e-07</td>\n",
       "      <td>1.000000e-07</td>\n",
       "      <td>0.445445</td>\n",
       "      <td>...</td>\n",
       "      <td>1.000000e-07</td>\n",
       "      <td>1.000000e-07</td>\n",
       "      <td>1.000000</td>\n",
       "      <td>1.000000e-07</td>\n",
       "      <td>9.999999e-01</td>\n",
       "      <td>0.246246</td>\n",
       "      <td>0.036036</td>\n",
       "      <td>0.262262</td>\n",
       "      <td>0.274775</td>\n",
       "      <td>0</td>\n",
       "    </tr>\n",
       "  </tbody>\n",
       "</table>\n",
       "<p>5 rows × 33 columns</p>\n",
       "</div>"
      ],
      "text/plain": [
       "     AFEC_EDADR     AFEC_EDUC   AFEC_GENERO  AFEC_GETNICO  AFEC_PARENTESCO  \\\n",
       "0  1.000000e-07  1.000000e-07  1.000000e-07  1.000000e-07  1.000000e-07      \n",
       "1  5.805806e-01  5.970971e-01  5.270270e-01  7.267267e-01  5.580581e-01      \n",
       "2  9.999999e-01  5.970971e-01  9.999999e-01  7.267267e-01  9.114114e-01      \n",
       "3  7.374875e-01  9.096597e-01  5.270270e-01  7.267267e-01  9.454454e-01      \n",
       "4  1.000000e-07  1.000000e-07  1.000000e-07  1.000000e-07  1.000000e-07      \n",
       "\n",
       "   AFEC_POBESPECIAL  AFEC_REGAFILIACION  AFEC_TIPOPER    ALTO_COSTO    CIE_10  \\\n",
       "0  1.000000e-07      1.000000e-07        1.000000e-07  1.000000e-07  0.445445   \n",
       "1  7.082082e-01      5.730731e-01        9.999999e-01  1.000000e-07  0.445445   \n",
       "2  7.082082e-01      8.268268e-01        9.999999e-01  1.000000e-07  0.377878   \n",
       "3  9.789790e-01      5.730731e-01        9.999999e-01  1.000000e-07  0.445445   \n",
       "4  1.000000e-07      1.000000e-07        1.000000e-07  1.000000e-07  0.445445   \n",
       "\n",
       "      ...       PQR_CLASE_SNS    PQR_ESTADO  PQR_TIPOATENCION  \\\n",
       "0     ...       1.000000e-07   1.000000e-07  1.000000           \n",
       "1     ...       9.999999e-01   6.316316e-01  0.168669           \n",
       "2     ...       1.000000e-07   6.316316e-01  0.168669           \n",
       "3     ...       9.999999e-01   6.316316e-01  1.000000           \n",
       "4     ...       1.000000e-07   1.000000e-07  1.000000           \n",
       "\n",
       "   PQR_TIPOPETICION          TRIM  AFEC_LOCATION  ENT_LOCATION  PET_LOCATION  \\\n",
       "0  1.000000e-07      1.000000e-07  0.076577       0.185686      0.053053       \n",
       "1  6.571572e-01      4.119119e-01  0.779349       0.917076      0.437668       \n",
       "2  1.000000e-07      1.000000e-07  0.865365       0.842843      0.890891       \n",
       "3  8.298298e-01      1.000000e-07  0.703203       0.710711      0.514014       \n",
       "4  1.000000e-07      9.999999e-01  0.246246       0.036036      0.262262       \n",
       "\n",
       "   COMPLETE_MOTIVE  RIESGO_VIDA  \n",
       "0  0.372873         0            \n",
       "1  0.647648         0            \n",
       "2  0.372873         0            \n",
       "3  0.647648         0            \n",
       "4  0.274775         0            \n",
       "\n",
       "[5 rows x 33 columns]"
      ]
     },
     "metadata": {},
     "output_type": "display_data"
    },
    {
     "name": "stderr",
     "output_type": "stream",
     "text": [
      "/anaconda2/lib/python2.7/site-packages/ipykernel_launcher.py:4: DataConversionWarning: A column-vector y was passed when a 1d array was expected. Please change the shape of y to (n_samples,), for example using ravel().\n",
      "  after removing the cwd from sys.path.\n"
     ]
    },
    {
     "name": "stdout",
     "output_type": "stream",
     "text": [
      "0.6921063907933399\n"
     ]
    }
   ],
   "source": [
    "dataset_excluded, features_excluded, labels_excluded = utils.getDataSet(\"datasets/dataset_over_sampled_validation.csv.gz\")\n",
    "\n",
    "from sklearn.base import clone\n",
    "rfClassifier = (clone(clf_B)).fit(X_train, y_train)\n",
    "\n",
    "predictions_excluded = sdgClassifier.predict(features_excluded)\n",
    "f_test_excluded =  fbeta_score(labels_excluded, predictions_excluded, 2)\n",
    "print(f_test_excluded)"
   ]
  }
 ],
 "metadata": {
  "accelerator": "GPU",
  "colab": {
   "collapsed_sections": [],
   "name": "3) Model - Over Sampled Model.ipynb",
   "provenance": [
    {
     "file_id": "10zGqvTAESuu0S-pODE_6_-yebkEHmhf0",
     "timestamp": 1542074077253
    }
   ],
   "toc_visible": true,
   "version": "0.3.2"
  },
  "kernelspec": {
   "display_name": "Python 2",
   "language": "python",
   "name": "python2"
  },
  "language_info": {
   "codemirror_mode": {
    "name": "ipython",
    "version": 2
   },
   "file_extension": ".py",
   "mimetype": "text/x-python",
   "name": "python",
   "nbconvert_exporter": "python",
   "pygments_lexer": "ipython2",
   "version": "2.7.14"
  }
 },
 "nbformat": 4,
 "nbformat_minor": 1
}
