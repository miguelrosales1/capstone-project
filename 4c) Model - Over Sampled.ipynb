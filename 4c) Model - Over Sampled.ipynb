{
 "cells": [
  {
   "cell_type": "code",
   "execution_count": 1,
   "metadata": {
    "colab": {
     "base_uri": "https://localhost:8080/",
     "height": 253
    },
    "colab_type": "code",
    "executionInfo": {
     "elapsed": 35211,
     "status": "ok",
     "timestamp": 1542075502348,
     "user": {
      "displayName": "Mario Rugeles",
      "photoUrl": "https://lh3.googleusercontent.com/--oO1Q7krrEw/AAAAAAAAAAI/AAAAAAAAVNM/PnWpg-9Ytsk/s64/photo.jpg",
      "userId": "18266523861382958643"
     },
     "user_tz": 300
    },
    "id": "QdPdXHHYdLUl",
    "outputId": "942197da-0937-4f13-f08c-9ef99a32f84a"
   },
   "outputs": [
    {
     "data": {
      "text/html": [
       "<div>\n",
       "<style scoped>\n",
       "    .dataframe tbody tr th:only-of-type {\n",
       "        vertical-align: middle;\n",
       "    }\n",
       "\n",
       "    .dataframe tbody tr th {\n",
       "        vertical-align: top;\n",
       "    }\n",
       "\n",
       "    .dataframe thead th {\n",
       "        text-align: right;\n",
       "    }\n",
       "</style>\n",
       "<table border=\"1\" class=\"dataframe\">\n",
       "  <thead>\n",
       "    <tr style=\"text-align: right;\">\n",
       "      <th></th>\n",
       "      <th>AFEC_EDADR</th>\n",
       "      <th>AFEC_EDUC</th>\n",
       "      <th>AFEC_GENERO</th>\n",
       "      <th>AFEC_GETNICO</th>\n",
       "      <th>AFEC_PARENTESCO</th>\n",
       "      <th>AFEC_POBESPECIAL</th>\n",
       "      <th>AFEC_REGAFILIACION</th>\n",
       "      <th>AFEC_TIPOPER</th>\n",
       "      <th>ALTO_COSTO</th>\n",
       "      <th>CIE_10</th>\n",
       "      <th>...</th>\n",
       "      <th>PQR_CLASE_SNS</th>\n",
       "      <th>PQR_ESTADO</th>\n",
       "      <th>PQR_TIPOATENCION</th>\n",
       "      <th>PQR_TIPOPETICION</th>\n",
       "      <th>TRIM</th>\n",
       "      <th>AFEC_LOCATION</th>\n",
       "      <th>ENT_LOCATION</th>\n",
       "      <th>PET_LOCATION</th>\n",
       "      <th>COMPLETE_MOTIVE</th>\n",
       "      <th>RIESGO_VIDA</th>\n",
       "    </tr>\n",
       "  </thead>\n",
       "  <tbody>\n",
       "    <tr>\n",
       "      <th>0</th>\n",
       "      <td>0.862194</td>\n",
       "      <td>0.530003</td>\n",
       "      <td>0.865504</td>\n",
       "      <td>0.445166</td>\n",
       "      <td>0.478849</td>\n",
       "      <td>0.304503</td>\n",
       "      <td>1.000000</td>\n",
       "      <td>1.0</td>\n",
       "      <td>0.0</td>\n",
       "      <td>0.086716</td>\n",
       "      <td>...</td>\n",
       "      <td>1.0</td>\n",
       "      <td>0.091348</td>\n",
       "      <td>0.512068</td>\n",
       "      <td>0.658277</td>\n",
       "      <td>0.150914</td>\n",
       "      <td>0.230700</td>\n",
       "      <td>0.280929</td>\n",
       "      <td>0.278713</td>\n",
       "      <td>0.328084</td>\n",
       "      <td>0</td>\n",
       "    </tr>\n",
       "    <tr>\n",
       "      <th>1</th>\n",
       "      <td>0.909893</td>\n",
       "      <td>0.530003</td>\n",
       "      <td>1.000000</td>\n",
       "      <td>0.445166</td>\n",
       "      <td>0.478849</td>\n",
       "      <td>0.304503</td>\n",
       "      <td>1.000000</td>\n",
       "      <td>1.0</td>\n",
       "      <td>0.0</td>\n",
       "      <td>0.125322</td>\n",
       "      <td>...</td>\n",
       "      <td>1.0</td>\n",
       "      <td>0.091348</td>\n",
       "      <td>1.000000</td>\n",
       "      <td>0.658277</td>\n",
       "      <td>0.150914</td>\n",
       "      <td>0.221327</td>\n",
       "      <td>0.213105</td>\n",
       "      <td>0.174609</td>\n",
       "      <td>0.209656</td>\n",
       "      <td>0</td>\n",
       "    </tr>\n",
       "    <tr>\n",
       "      <th>2</th>\n",
       "      <td>0.862194</td>\n",
       "      <td>0.640631</td>\n",
       "      <td>1.000000</td>\n",
       "      <td>0.445166</td>\n",
       "      <td>0.565950</td>\n",
       "      <td>0.304503</td>\n",
       "      <td>0.661319</td>\n",
       "      <td>1.0</td>\n",
       "      <td>0.0</td>\n",
       "      <td>0.469485</td>\n",
       "      <td>...</td>\n",
       "      <td>1.0</td>\n",
       "      <td>0.091348</td>\n",
       "      <td>1.000000</td>\n",
       "      <td>0.658277</td>\n",
       "      <td>0.150914</td>\n",
       "      <td>0.303620</td>\n",
       "      <td>0.343342</td>\n",
       "      <td>0.307024</td>\n",
       "      <td>0.298898</td>\n",
       "      <td>0</td>\n",
       "    </tr>\n",
       "    <tr>\n",
       "      <th>3</th>\n",
       "      <td>0.862194</td>\n",
       "      <td>1.000000</td>\n",
       "      <td>1.000000</td>\n",
       "      <td>0.445166</td>\n",
       "      <td>0.549692</td>\n",
       "      <td>0.304503</td>\n",
       "      <td>0.661319</td>\n",
       "      <td>1.0</td>\n",
       "      <td>0.0</td>\n",
       "      <td>0.023123</td>\n",
       "      <td>...</td>\n",
       "      <td>1.0</td>\n",
       "      <td>0.091348</td>\n",
       "      <td>1.000000</td>\n",
       "      <td>0.658277</td>\n",
       "      <td>0.150914</td>\n",
       "      <td>0.420555</td>\n",
       "      <td>0.531137</td>\n",
       "      <td>0.399282</td>\n",
       "      <td>0.143884</td>\n",
       "      <td>0</td>\n",
       "    </tr>\n",
       "    <tr>\n",
       "      <th>4</th>\n",
       "      <td>0.862194</td>\n",
       "      <td>0.530003</td>\n",
       "      <td>1.000000</td>\n",
       "      <td>0.445166</td>\n",
       "      <td>0.549692</td>\n",
       "      <td>0.591697</td>\n",
       "      <td>0.661319</td>\n",
       "      <td>1.0</td>\n",
       "      <td>0.0</td>\n",
       "      <td>0.844386</td>\n",
       "      <td>...</td>\n",
       "      <td>1.0</td>\n",
       "      <td>1.000000</td>\n",
       "      <td>1.000000</td>\n",
       "      <td>0.658277</td>\n",
       "      <td>0.150914</td>\n",
       "      <td>0.287032</td>\n",
       "      <td>0.346242</td>\n",
       "      <td>0.261890</td>\n",
       "      <td>0.361776</td>\n",
       "      <td>1</td>\n",
       "    </tr>\n",
       "  </tbody>\n",
       "</table>\n",
       "<p>5 rows × 33 columns</p>\n",
       "</div>"
      ],
      "text/plain": [
       "   AFEC_EDADR  AFEC_EDUC  AFEC_GENERO  AFEC_GETNICO  AFEC_PARENTESCO  \\\n",
       "0  0.862194    0.530003   0.865504     0.445166      0.478849          \n",
       "1  0.909893    0.530003   1.000000     0.445166      0.478849          \n",
       "2  0.862194    0.640631   1.000000     0.445166      0.565950          \n",
       "3  0.862194    1.000000   1.000000     0.445166      0.549692          \n",
       "4  0.862194    0.530003   1.000000     0.445166      0.549692          \n",
       "\n",
       "   AFEC_POBESPECIAL  AFEC_REGAFILIACION  AFEC_TIPOPER  ALTO_COSTO    CIE_10  \\\n",
       "0  0.304503          1.000000            1.0           0.0         0.086716   \n",
       "1  0.304503          1.000000            1.0           0.0         0.125322   \n",
       "2  0.304503          0.661319            1.0           0.0         0.469485   \n",
       "3  0.304503          0.661319            1.0           0.0         0.023123   \n",
       "4  0.591697          0.661319            1.0           0.0         0.844386   \n",
       "\n",
       "      ...       PQR_CLASE_SNS  PQR_ESTADO  PQR_TIPOATENCION  PQR_TIPOPETICION  \\\n",
       "0     ...       1.0            0.091348    0.512068          0.658277           \n",
       "1     ...       1.0            0.091348    1.000000          0.658277           \n",
       "2     ...       1.0            0.091348    1.000000          0.658277           \n",
       "3     ...       1.0            0.091348    1.000000          0.658277           \n",
       "4     ...       1.0            1.000000    1.000000          0.658277           \n",
       "\n",
       "       TRIM  AFEC_LOCATION  ENT_LOCATION  PET_LOCATION  COMPLETE_MOTIVE  \\\n",
       "0  0.150914  0.230700       0.280929      0.278713      0.328084          \n",
       "1  0.150914  0.221327       0.213105      0.174609      0.209656          \n",
       "2  0.150914  0.303620       0.343342      0.307024      0.298898          \n",
       "3  0.150914  0.420555       0.531137      0.399282      0.143884          \n",
       "4  0.150914  0.287032       0.346242      0.261890      0.361776          \n",
       "\n",
       "   RIESGO_VIDA  \n",
       "0  0            \n",
       "1  0            \n",
       "2  0            \n",
       "3  0            \n",
       "4  1            \n",
       "\n",
       "[5 rows x 33 columns]"
      ]
     },
     "metadata": {
      "tags": []
     },
     "output_type": "display_data"
    }
   ],
   "source": [
    "import numpy as np\n",
    "import pandas as pd\n",
    "from time import time\n",
    "import matplotlib.pyplot as plt\n",
    "from IPython.display import display \n",
    "\n",
    "import model_utils as utils\n",
    "\n",
    "# Pretty display for notebooks\n",
    "%matplotlib inline\n",
    "pd.set_option('display.max_colwidth', -1)\n",
    "\n",
    "dataset, features, labels = utils.getDataSet(\"datasets/dataset_over_sampled.csv.gz\")"
   ]
  },
  {
   "cell_type": "markdown",
   "metadata": {
    "colab_type": "text",
    "id": "9pYUs1SydLUq"
   },
   "source": [
    "## Shuffle and Split Data"
   ]
  },
  {
   "cell_type": "code",
   "execution_count": 2,
   "metadata": {
    "colab": {
     "base_uri": "https://localhost:8080/",
     "height": 68
    },
    "colab_type": "code",
    "executionInfo": {
     "elapsed": 3787,
     "status": "ok",
     "timestamp": 1542075507274,
     "user": {
      "displayName": "Mario Rugeles",
      "photoUrl": "https://lh3.googleusercontent.com/--oO1Q7krrEw/AAAAAAAAAAI/AAAAAAAAVNM/PnWpg-9Ytsk/s64/photo.jpg",
      "userId": "18266523861382958643"
     },
     "user_tz": 300
    },
    "id": "xm7ZTuEvdLUr",
    "outputId": "0b20a109-efdd-4b03-cfc0-ff51e02a727a"
   },
   "outputs": [
    {
     "name": "stdout",
     "output_type": "stream",
     "text": [
      "features_final set has 3683944 samples.\n",
      "Training set has 2947155 samples.\n",
      "Testing set has 736789 samples.\n"
     ]
    }
   ],
   "source": [
    "# Import train_test_split\n",
    "from sklearn.model_selection import train_test_split\n",
    "\n",
    "# Split the 'features' and 'labels' data into training and testing sets\n",
    "X_train, X_test, y_train, y_test = train_test_split(features, \n",
    "                                                    labels, \n",
    "                                                    test_size = 0.20, \n",
    "                                                    random_state = 10)\n",
    "\n",
    "# Show the results of the split\n",
    "print \"features_final set has {} samples.\".format(features.shape[0])\n",
    "print \"Training set has {} samples.\".format(X_train.shape[0])\n",
    "print \"Testing set has {} samples.\".format(X_test.shape[0])"
   ]
  },
  {
   "cell_type": "markdown",
   "metadata": {
    "colab_type": "text",
    "id": "D6Wdu9q4dLUu"
   },
   "source": [
    "### Creating a Training and Predicting Pipeline"
   ]
  },
  {
   "cell_type": "code",
   "execution_count": 3,
   "metadata": {
    "colab": {
     "base_uri": "https://localhost:8080/",
     "height": 51
    },
    "colab_type": "code",
    "executionInfo": {
     "elapsed": 821,
     "status": "ok",
     "timestamp": 1542075508123,
     "user": {
      "displayName": "Mario Rugeles",
      "photoUrl": "https://lh3.googleusercontent.com/--oO1Q7krrEw/AAAAAAAAAAI/AAAAAAAAVNM/PnWpg-9Ytsk/s64/photo.jpg",
      "userId": "18266523861382958643"
     },
     "user_tz": 300
    },
    "id": "abnhKqsydLUv",
    "outputId": "7e3987a6-c534-4756-b4b4-9b1019652dbe"
   },
   "outputs": [
    {
     "name": "stdout",
     "output_type": "stream",
     "text": [
      "0.5\n",
      "Naive Predictor: [Accuracy score: 0.5000, F-score: 0.8333]\n"
     ]
    }
   ],
   "source": [
    "'''\n",
    "TP = np.sum(income) # Counting the ones as this is the naive case. Note that 'income' is the 'income_raw' data \n",
    "encoded to numerical values done in the data preprocessing step.\n",
    "FP = income.count() - TP # Specific to the naive case\n",
    "\n",
    "TN = 0 # No predicted negatives in the naive case\n",
    "FN = 0 # No predicted negatives in the naive case\n",
    "'''\n",
    "\n",
    "tp = float(np.sum(labels['RIESGO_VIDA']))\n",
    "fp = float(labels['RIESGO_VIDA'].count() - tp)\n",
    "tn = 0\n",
    "fn = 0\n",
    "\n",
    "# TODO: Calculate accuracy, precision and recall\n",
    "recall = tp / (tp + fn)\n",
    "precision = tp / (tp + fp)\n",
    "\n",
    "# TODO: Calculate F-score using the formula above for beta = 0.5 and correct values for precision and recall.\n",
    "# HINT: The formula above can be written as (1 + beta**2) * (precision * recall) / ((beta**2 * precision) + recall)\n",
    "beta = 2\n",
    "fscore = (1 + beta**2) * (precision * recall) / ((beta**2 * precision) + recall)\n",
    "\n",
    "# Print the results \n",
    "print \"Naive Predictor: [F-score: {:.4f}]\".format(fscore)"
   ]
  },
  {
   "cell_type": "code",
   "execution_count": 5,
   "metadata": {
    "colab": {
     "base_uri": "https://localhost:8080/",
     "height": 292
    },
    "colab_type": "code",
    "executionInfo": {
     "elapsed": 723205,
     "status": "ok",
     "timestamp": 1542076232270,
     "user": {
      "displayName": "Mario Rugeles",
      "photoUrl": "https://lh3.googleusercontent.com/--oO1Q7krrEw/AAAAAAAAAAI/AAAAAAAAVNM/PnWpg-9Ytsk/s64/photo.jpg",
      "userId": "18266523861382958643"
     },
     "user_tz": 300
    },
    "id": "9JMVKOlQdLU0",
    "outputId": "7f345260-d5e3-4b9e-f1ff-bdc8e05fdfb7"
   },
   "outputs": [
    {
     "name": "stderr",
     "output_type": "stream",
     "text": [
      "/usr/local/lib/python2.7/dist-packages/sklearn/utils/validation.py:578: DataConversionWarning: A column-vector y was passed when a 1d array was expected. Please change the shape of y to (n_samples, ), for example using ravel().\n",
      "  y = column_or_1d(y, warn=True)\n"
     ]
    },
    {
     "name": "stdout",
     "output_type": "stream",
     "text": [
      "AdaBoostClassifier trained on 29471 samples.\n",
      "AdaBoostClassifier trained on 294715 samples.\n",
      "AdaBoostClassifier trained on 2947155 samples.\n"
     ]
    },
    {
     "name": "stderr",
     "output_type": "stream",
     "text": [
      "/usr/local/lib/python2.7/dist-packages/ipykernel_launcher.py:16: DataConversionWarning: A column-vector y was passed when a 1d array was expected. Please change the shape of y to (n_samples,), for example using ravel().\n",
      "  app.launch_new_instance()\n"
     ]
    },
    {
     "name": "stdout",
     "output_type": "stream",
     "text": [
      "RandomForestClassifier trained on 29471 samples.\n",
      "RandomForestClassifier trained on 294715 samples.\n",
      "RandomForestClassifier trained on 2947155 samples.\n"
     ]
    },
    {
     "name": "stderr",
     "output_type": "stream",
     "text": [
      "/usr/local/lib/python2.7/dist-packages/sklearn/linear_model/stochastic_gradient.py:128: FutureWarning: max_iter and tol parameters have been added in <class 'sklearn.linear_model.stochastic_gradient.SGDClassifier'> in 0.19. If both are left unset, they default to max_iter=5 and tol=None. If tol is not None, max_iter defaults to max_iter=1000. From 0.21, default max_iter will be 1000, and default tol will be 1e-3.\n",
      "  \"and default tol will be 1e-3.\" % type(self), FutureWarning)\n"
     ]
    },
    {
     "name": "stdout",
     "output_type": "stream",
     "text": [
      "SGDClassifier trained on 29471 samples.\n",
      "SGDClassifier trained on 294715 samples.\n",
      "SGDClassifier trained on 2947155 samples.\n"
     ]
    }
   ],
   "source": [
    "import visuals as vs\n",
    "from sklearn.metrics import fbeta_score\n",
    "from sklearn.ensemble import AdaBoostClassifier\n",
    "from sklearn.ensemble import RandomForestClassifier\n",
    "from sklearn.linear_model import SGDClassifier\n",
    "# Initialize the three models\n",
    "clf_A = SGDClassifier(random_state = 300)\n",
    "clf_B = RandomForestClassifier(random_state = 300)\n",
    "clf_C = AdaBoostClassifier(random_state = 300)\n",
    "\n",
    "\n",
    "samples_100 = len(y_train)\n",
    "\n",
    "# Collect results on the learners\n",
    "dfResults = pd.DataFrame(columns=['learner', 'learner_index', 'size_index', 'train_time', 'pred_time', 'f_test', 'f_train'])\n",
    "\n",
    "for k, clf in enumerate([clf_A, clf_B, clf_C]):\n",
    "    clf_name = clf.__class__.__name__    \n",
    "    dfResults = utils.train_predict(clf, k, 0, samples_100, X_train, y_train, X_test, y_test, dfResults)\n"
   ]
  }
 ],
 "metadata": {
  "accelerator": "GPU",
  "colab": {
   "collapsed_sections": [],
   "name": "3) Model - Over Sampled Model.ipynb",
   "provenance": [
    {
     "file_id": "10zGqvTAESuu0S-pODE_6_-yebkEHmhf0",
     "timestamp": 1542074077253
    }
   ],
   "toc_visible": true,
   "version": "0.3.2"
  },
  "kernelspec": {
   "display_name": "Python 2",
   "language": "python",
   "name": "python2"
  },
  "language_info": {
   "codemirror_mode": {
    "name": "ipython",
    "version": 2
   },
   "file_extension": ".py",
   "mimetype": "text/x-python",
   "name": "python",
   "nbconvert_exporter": "python",
   "pygments_lexer": "ipython2",
   "version": "2.7.14"
  }
 },
 "nbformat": 4,
 "nbformat_minor": 1
}
