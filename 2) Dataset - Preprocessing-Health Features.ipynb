{
 "cells": [
  {
   "cell_type": "code",
   "execution_count": 72,
   "metadata": {
    "scrolled": true
   },
   "outputs": [
    {
     "data": {
      "text/html": [
       "<div>\n",
       "<style scoped>\n",
       "    .dataframe tbody tr th:only-of-type {\n",
       "        vertical-align: middle;\n",
       "    }\n",
       "\n",
       "    .dataframe tbody tr th {\n",
       "        vertical-align: top;\n",
       "    }\n",
       "\n",
       "    .dataframe thead th {\n",
       "        text-align: right;\n",
       "    }\n",
       "</style>\n",
       "<table border=\"1\" class=\"dataframe\">\n",
       "  <thead>\n",
       "    <tr style=\"text-align: right;\">\n",
       "      <th></th>\n",
       "      <th>AFEC_DPTO</th>\n",
       "      <th>AFEC_EDADR</th>\n",
       "      <th>AFEC_EDUC</th>\n",
       "      <th>AFEC_GENERO</th>\n",
       "      <th>AFEC_GETNICO</th>\n",
       "      <th>AFEC_MPIO</th>\n",
       "      <th>AFEC_PARENTESCO</th>\n",
       "      <th>AFEC_POBESPECIAL</th>\n",
       "      <th>AFEC_REGAFILIACION</th>\n",
       "      <th>AFEC_TIPOPER</th>\n",
       "      <th>...</th>\n",
       "      <th>PET_DPTO</th>\n",
       "      <th>PET_MPIO</th>\n",
       "      <th>PET_TIPOPER</th>\n",
       "      <th>PQR_CANAL</th>\n",
       "      <th>PQR_CLASE_SNS</th>\n",
       "      <th>PQR_ESTADO</th>\n",
       "      <th>PQR_TIPOATENCION</th>\n",
       "      <th>PQR_TIPOPETICION</th>\n",
       "      <th>RIESGO_VIDA</th>\n",
       "      <th>TRIM</th>\n",
       "    </tr>\n",
       "  </thead>\n",
       "  <tbody>\n",
       "    <tr>\n",
       "      <th>0</th>\n",
       "      <td>bogota d.c.</td>\n",
       "      <td>de 13 a 17 años</td>\n",
       "      <td>ninguno</td>\n",
       "      <td>mujer</td>\n",
       "      <td>no aplica</td>\n",
       "      <td>bogotá</td>\n",
       "      <td>otro</td>\n",
       "      <td>no aplica</td>\n",
       "      <td>subsidiado</td>\n",
       "      <td>natural</td>\n",
       "      <td>...</td>\n",
       "      <td>bogota d.c.</td>\n",
       "      <td>bogotá</td>\n",
       "      <td>juridica</td>\n",
       "      <td>escrito</td>\n",
       "      <td>pqr</td>\n",
       "      <td>cerrado</td>\n",
       "      <td>peticion directa</td>\n",
       "      <td>reclamo</td>\n",
       "      <td>0</td>\n",
       "      <td>trim i</td>\n",
       "    </tr>\n",
       "    <tr>\n",
       "      <th>1</th>\n",
       "      <td>nariño</td>\n",
       "      <td>de 0 a 5 años</td>\n",
       "      <td>ninguno</td>\n",
       "      <td>hombre</td>\n",
       "      <td>no aplica</td>\n",
       "      <td>puerres</td>\n",
       "      <td>otro</td>\n",
       "      <td>no aplica</td>\n",
       "      <td>subsidiado</td>\n",
       "      <td>natural</td>\n",
       "      <td>...</td>\n",
       "      <td>nariño</td>\n",
       "      <td>puerres</td>\n",
       "      <td>natural</td>\n",
       "      <td>telefonico</td>\n",
       "      <td>pqr</td>\n",
       "      <td>cerrado</td>\n",
       "      <td>0</td>\n",
       "      <td>reclamo</td>\n",
       "      <td>0</td>\n",
       "      <td>trim i</td>\n",
       "    </tr>\n",
       "    <tr>\n",
       "      <th>2</th>\n",
       "      <td>valle</td>\n",
       "      <td>de 13 a 17 años</td>\n",
       "      <td>secundaria</td>\n",
       "      <td>hombre</td>\n",
       "      <td>no aplica</td>\n",
       "      <td>cali</td>\n",
       "      <td>abuelo (a)</td>\n",
       "      <td>no aplica</td>\n",
       "      <td>contributivo</td>\n",
       "      <td>natural</td>\n",
       "      <td>...</td>\n",
       "      <td>valle</td>\n",
       "      <td>cali</td>\n",
       "      <td>natural</td>\n",
       "      <td>telefonico</td>\n",
       "      <td>pqr</td>\n",
       "      <td>cerrado</td>\n",
       "      <td>0</td>\n",
       "      <td>reclamo</td>\n",
       "      <td>0</td>\n",
       "      <td>trim i</td>\n",
       "    </tr>\n",
       "    <tr>\n",
       "      <th>3</th>\n",
       "      <td>huila</td>\n",
       "      <td>de 13 a 17 años</td>\n",
       "      <td>universitario incompleto</td>\n",
       "      <td>hombre</td>\n",
       "      <td>no aplica</td>\n",
       "      <td>neiva</td>\n",
       "      <td>padre</td>\n",
       "      <td>no aplica</td>\n",
       "      <td>contributivo</td>\n",
       "      <td>natural</td>\n",
       "      <td>...</td>\n",
       "      <td>huila</td>\n",
       "      <td>neiva</td>\n",
       "      <td>natural</td>\n",
       "      <td>personalizado</td>\n",
       "      <td>pqr</td>\n",
       "      <td>cerrado</td>\n",
       "      <td>0</td>\n",
       "      <td>reclamo</td>\n",
       "      <td>0</td>\n",
       "      <td>trim i</td>\n",
       "    </tr>\n",
       "    <tr>\n",
       "      <th>4</th>\n",
       "      <td>risaralda</td>\n",
       "      <td>de 13 a 17 años</td>\n",
       "      <td>ninguno</td>\n",
       "      <td>hombre</td>\n",
       "      <td>no aplica</td>\n",
       "      <td>dosquebradas</td>\n",
       "      <td>padre</td>\n",
       "      <td>persona en condición de discapacidad</td>\n",
       "      <td>contributivo</td>\n",
       "      <td>natural</td>\n",
       "      <td>...</td>\n",
       "      <td>risaralda</td>\n",
       "      <td>dosquebradas</td>\n",
       "      <td>natural</td>\n",
       "      <td>personalizado</td>\n",
       "      <td>pqr</td>\n",
       "      <td>pendiente (avance)</td>\n",
       "      <td>0</td>\n",
       "      <td>reclamo</td>\n",
       "      <td>1</td>\n",
       "      <td>trim i</td>\n",
       "    </tr>\n",
       "  </tbody>\n",
       "</table>\n",
       "<p>5 rows × 43 columns</p>\n",
       "</div>"
      ],
      "text/plain": [
       "     AFEC_DPTO       AFEC_EDADR                 AFEC_EDUC AFEC_GENERO  \\\n",
       "0  bogota d.c.  de 13 a 17 años  ninguno                   mujer        \n",
       "1  nariño       de 0 a 5 años    ninguno                   hombre       \n",
       "2  valle        de 13 a 17 años  secundaria                hombre       \n",
       "3  huila        de 13 a 17 años  universitario incompleto  hombre       \n",
       "4  risaralda    de 13 a 17 años  ninguno                   hombre       \n",
       "\n",
       "  AFEC_GETNICO     AFEC_MPIO AFEC_PARENTESCO  \\\n",
       "0  no aplica    bogotá        otro             \n",
       "1  no aplica    puerres       otro             \n",
       "2  no aplica    cali          abuelo (a)       \n",
       "3  no aplica    neiva         padre            \n",
       "4  no aplica    dosquebradas  padre            \n",
       "\n",
       "                       AFEC_POBESPECIAL AFEC_REGAFILIACION AFEC_TIPOPER  \\\n",
       "0  no aplica                             subsidiado         natural       \n",
       "1  no aplica                             subsidiado         natural       \n",
       "2  no aplica                             contributivo       natural       \n",
       "3  no aplica                             contributivo       natural       \n",
       "4  persona en condición de discapacidad  contributivo       natural       \n",
       "\n",
       "    ...       PET_DPTO      PET_MPIO  PET_TIPOPER      PQR_CANAL  \\\n",
       "0   ...    bogota d.c.  bogotá        juridica     escrito         \n",
       "1   ...    nariño       puerres       natural      telefonico      \n",
       "2   ...    valle        cali          natural      telefonico      \n",
       "3   ...    huila        neiva         natural      personalizado   \n",
       "4   ...    risaralda    dosquebradas  natural      personalizado   \n",
       "\n",
       "   PQR_CLASE_SNS          PQR_ESTADO  PQR_TIPOATENCION  PQR_TIPOPETICION  \\\n",
       "0  pqr            cerrado             peticion directa  reclamo            \n",
       "1  pqr            cerrado             0                 reclamo            \n",
       "2  pqr            cerrado             0                 reclamo            \n",
       "3  pqr            cerrado             0                 reclamo            \n",
       "4  pqr            pendiente (avance)  0                 reclamo            \n",
       "\n",
       "  RIESGO_VIDA    TRIM  \n",
       "0  0           trim i  \n",
       "1  0           trim i  \n",
       "2  0           trim i  \n",
       "3  0           trim i  \n",
       "4  1           trim i  \n",
       "\n",
       "[5 rows x 43 columns]"
      ]
     },
     "metadata": {},
     "output_type": "display_data"
    }
   ],
   "source": [
    "import numpy as np\n",
    "import pandas as pd\n",
    "from time import time\n",
    "import matplotlib.pyplot as plt\n",
    "from IPython.display import display \n",
    "\n",
    "\n",
    "# Pretty display for notebooks\n",
    "%matplotlib inline\n",
    "pd.set_option('display.max_colwidth', -1)\n",
    "\n",
    "dataset = pd.read_csv(\"datasets/dataset_clean.csv.gz\", compression='gzip')\n",
    "dataset['RIESGO_VIDA'] = np.where(dataset['RIESGO_VIDA'] == 'si', 1,0)\n",
    "dataset = dataset.drop(['Unnamed: 0'], axis = 1)\n",
    "display(dataset.head(n = 5))\n",
    "\n",
    "labels_raw = dataset[['RIESGO_VIDA']]\n",
    "features_raw = dataset.drop(['RIESGO_VIDA'], axis = 1)"
   ]
  },
  {
   "cell_type": "markdown",
   "metadata": {},
   "source": [
    "# Only Health related features\n",
    "\n",
    "Hypothesis I: The severity of any illness is independ of any demographic feature: i.e: Cancer is bad regardless you are rich or poor. To test this hypothesis we keep only health related features."
   ]
  },
  {
   "cell_type": "code",
   "execution_count": 82,
   "metadata": {
    "scrolled": true
   },
   "outputs": [
    {
     "data": {
      "text/html": [
       "<div>\n",
       "<style scoped>\n",
       "    .dataframe tbody tr th:only-of-type {\n",
       "        vertical-align: middle;\n",
       "    }\n",
       "\n",
       "    .dataframe tbody tr th {\n",
       "        vertical-align: top;\n",
       "    }\n",
       "\n",
       "    .dataframe thead th {\n",
       "        text-align: right;\n",
       "    }\n",
       "</style>\n",
       "<table border=\"1\" class=\"dataframe\">\n",
       "  <thead>\n",
       "    <tr style=\"text-align: right;\">\n",
       "      <th></th>\n",
       "      <th>COD_MACROMOT</th>\n",
       "      <th>MACROMOTIVO</th>\n",
       "      <th>COD_MOTGEN</th>\n",
       "      <th>MOTIVO_GENERAL</th>\n",
       "      <th>COD_MOTESP</th>\n",
       "      <th>MOTIVO_ESPECIFICO</th>\n",
       "      <th>PATOLOGIA_1</th>\n",
       "      <th>PATOLOGIA_TIPO</th>\n",
       "      <th>CIE_10</th>\n",
       "    </tr>\n",
       "  </thead>\n",
       "  <tbody>\n",
       "    <tr>\n",
       "      <th>0</th>\n",
       "      <td>1</td>\n",
       "      <td>restriccion en el acceso a los servicios de salud</td>\n",
       "      <td>101</td>\n",
       "      <td>restriccion en el acceso por falta de oportunidad para la atencion</td>\n",
       "      <td>10115</td>\n",
       "      <td>falta de oportunidad para la prestacion de servicios de laboratorio clinico y anatomo-patologia</td>\n",
       "      <td>problemas relacionados con facilidades de atencion medica u otros servicios de salud</td>\n",
       "      <td>problemas relacionados con facilidades de atencion medica u otros servicios de salud</td>\n",
       "      <td>otra atención médica</td>\n",
       "    </tr>\n",
       "    <tr>\n",
       "      <th>1</th>\n",
       "      <td>1</td>\n",
       "      <td>restriccion en el acceso a los servicios de salud</td>\n",
       "      <td>101</td>\n",
       "      <td>restriccion en el acceso por falta de oportunidad para la atencion</td>\n",
       "      <td>10109</td>\n",
       "      <td>falta de oportunidad en la asignacion de citas de consulta medica especializada de otras especialidades medicas</td>\n",
       "      <td>problemas relacionados con facilidades de atencion medica u otros servicios de salud</td>\n",
       "      <td>problemas relacionados con facilidades de atencion medica u otros servicios de salud</td>\n",
       "      <td>0</td>\n",
       "    </tr>\n",
       "  </tbody>\n",
       "</table>\n",
       "</div>"
      ],
      "text/plain": [
       "   COD_MACROMOT                                        MACROMOTIVO  \\\n",
       "0  1             restriccion en el acceso a los servicios de salud   \n",
       "1  1             restriccion en el acceso a los servicios de salud   \n",
       "\n",
       "   COD_MOTGEN  \\\n",
       "0  101          \n",
       "1  101          \n",
       "\n",
       "                                                        MOTIVO_GENERAL  \\\n",
       "0  restriccion en el acceso por falta de oportunidad para la atencion    \n",
       "1  restriccion en el acceso por falta de oportunidad para la atencion    \n",
       "\n",
       "   COD_MOTESP  \\\n",
       "0  10115        \n",
       "1  10109        \n",
       "\n",
       "                                                                                                 MOTIVO_ESPECIFICO  \\\n",
       "0  falta de oportunidad para la prestacion de servicios de laboratorio clinico y anatomo-patologia                   \n",
       "1  falta de oportunidad en la asignacion de citas de consulta medica especializada de otras especialidades medicas   \n",
       "\n",
       "                                                                            PATOLOGIA_1  \\\n",
       "0  problemas relacionados con facilidades de atencion medica u otros servicios de salud   \n",
       "1  problemas relacionados con facilidades de atencion medica u otros servicios de salud   \n",
       "\n",
       "                                                                         PATOLOGIA_TIPO  \\\n",
       "0  problemas relacionados con facilidades de atencion medica u otros servicios de salud   \n",
       "1  problemas relacionados con facilidades de atencion medica u otros servicios de salud   \n",
       "\n",
       "                 CIE_10  \n",
       "0  otra atención médica  \n",
       "1  0                     "
      ]
     },
     "metadata": {},
     "output_type": "display_data"
    }
   ],
   "source": [
    "dfHealthFeatures = features_raw[[\n",
    "    'COD_MACROMOT', \n",
    "    'MACROMOTIVO', \n",
    "    'COD_MOTGEN', \n",
    "    'MOTIVO_GENERAL', \n",
    "    'COD_MOTESP', \n",
    "    'MOTIVO_ESPECIFICO', \n",
    "    'PATOLOGIA_1', \n",
    "    'PATOLOGIA_TIPO', \n",
    "    'CIE_10']]\n",
    "\n",
    "display(dfHealthFeatures.head(n = 2))\n"
   ]
  },
  {
   "cell_type": "markdown",
   "metadata": {},
   "source": [
    "## Redundant and shared features\n",
    "\n",
    "These features represent the same data, so we can keep only the codes and loose the descripion.\n",
    "\n",
    "* COD_MACROMOT, MACROMOTIVO\n",
    "* COD_MOTGEN, MOTIVO_GENERAL\n",
    "* COD_MOTESP, MOTIVO_ESPECIFICO"
   ]
  },
  {
   "cell_type": "code",
   "execution_count": 99,
   "metadata": {
    "scrolled": true
   },
   "outputs": [
    {
     "data": {
      "text/html": [
       "<div>\n",
       "<style scoped>\n",
       "    .dataframe tbody tr th:only-of-type {\n",
       "        vertical-align: middle;\n",
       "    }\n",
       "\n",
       "    .dataframe tbody tr th {\n",
       "        vertical-align: top;\n",
       "    }\n",
       "\n",
       "    .dataframe thead th {\n",
       "        text-align: right;\n",
       "    }\n",
       "</style>\n",
       "<table border=\"1\" class=\"dataframe\">\n",
       "  <thead>\n",
       "    <tr style=\"text-align: right;\">\n",
       "      <th></th>\n",
       "      <th>COD_MACROMOT</th>\n",
       "      <th>COD_MOTGEN</th>\n",
       "      <th>COD_MOTESP</th>\n",
       "      <th>PATOLOGIA_1</th>\n",
       "      <th>PATOLOGIA_TIPO</th>\n",
       "      <th>CIE_10</th>\n",
       "    </tr>\n",
       "  </thead>\n",
       "  <tbody>\n",
       "    <tr>\n",
       "      <th>0</th>\n",
       "      <td>1</td>\n",
       "      <td>101</td>\n",
       "      <td>10115</td>\n",
       "      <td>problemas relacionados con facilidades de atencion medica u otros servicios de salud</td>\n",
       "      <td>problemas relacionados con facilidades de atencion medica u otros servicios de salud</td>\n",
       "      <td>otra atención médica</td>\n",
       "    </tr>\n",
       "    <tr>\n",
       "      <th>1</th>\n",
       "      <td>1</td>\n",
       "      <td>101</td>\n",
       "      <td>10109</td>\n",
       "      <td>problemas relacionados con facilidades de atencion medica u otros servicios de salud</td>\n",
       "      <td>problemas relacionados con facilidades de atencion medica u otros servicios de salud</td>\n",
       "      <td>0</td>\n",
       "    </tr>\n",
       "    <tr>\n",
       "      <th>2</th>\n",
       "      <td>1</td>\n",
       "      <td>103</td>\n",
       "      <td>10314</td>\n",
       "      <td>problemas relacionados con facilidades de atencion medica u otros servicios de salud</td>\n",
       "      <td>problemas relacionados con facilidades de atencion medica u otros servicios de salud</td>\n",
       "      <td>asma, no especificada</td>\n",
       "    </tr>\n",
       "    <tr>\n",
       "      <th>3</th>\n",
       "      <td>1</td>\n",
       "      <td>106</td>\n",
       "      <td>10613</td>\n",
       "      <td>problemas relacionados con facilidades de atencion medica u otros servicios de salud</td>\n",
       "      <td>problemas relacionados con facilidades de atencion medica u otros servicios de salud</td>\n",
       "      <td>agentes virales como causa de enfermedades clasificadas en otros capítulos</td>\n",
       "    </tr>\n",
       "    <tr>\n",
       "      <th>4</th>\n",
       "      <td>1</td>\n",
       "      <td>101</td>\n",
       "      <td>10119</td>\n",
       "      <td>enfermedaes neurologicas</td>\n",
       "      <td>epilepsia</td>\n",
       "      <td>epilepsia y sindromes epilepticos idiopaticos generalizados</td>\n",
       "    </tr>\n",
       "  </tbody>\n",
       "</table>\n",
       "</div>"
      ],
      "text/plain": [
       "  COD_MACROMOT COD_MOTGEN COD_MOTESP  \\\n",
       "0  1            101        10115       \n",
       "1  1            101        10109       \n",
       "2  1            103        10314       \n",
       "3  1            106        10613       \n",
       "4  1            101        10119       \n",
       "\n",
       "                                                                            PATOLOGIA_1  \\\n",
       "0  problemas relacionados con facilidades de atencion medica u otros servicios de salud   \n",
       "1  problemas relacionados con facilidades de atencion medica u otros servicios de salud   \n",
       "2  problemas relacionados con facilidades de atencion medica u otros servicios de salud   \n",
       "3  problemas relacionados con facilidades de atencion medica u otros servicios de salud   \n",
       "4  enfermedaes neurologicas                                                               \n",
       "\n",
       "                                                                         PATOLOGIA_TIPO  \\\n",
       "0  problemas relacionados con facilidades de atencion medica u otros servicios de salud   \n",
       "1  problemas relacionados con facilidades de atencion medica u otros servicios de salud   \n",
       "2  problemas relacionados con facilidades de atencion medica u otros servicios de salud   \n",
       "3  problemas relacionados con facilidades de atencion medica u otros servicios de salud   \n",
       "4  epilepsia                                                                              \n",
       "\n",
       "                                                                       CIE_10  \n",
       "0  otra atención médica                                                        \n",
       "1  0                                                                           \n",
       "2  asma, no especificada                                                       \n",
       "3  agentes virales como causa de enfermedades clasificadas en otros capítulos  \n",
       "4  epilepsia y sindromes epilepticos idiopaticos generalizados                 "
      ]
     },
     "metadata": {},
     "output_type": "display_data"
    }
   ],
   "source": [
    "dfHealthFeatures = dfHealthFeatures.drop(['MACROMOTIVO', 'MOTIVO_GENERAL', 'MOTIVO_ESPECIFICO'], axis = 1)\n",
    "dfHealthFeatures = dfHealthFeatures.astype(str)\n",
    "display(dfHealthFeatures.head(n = 5))\n"
   ]
  },
  {
   "cell_type": "markdown",
   "metadata": {},
   "source": [
    "Features COD_MACROMOT, COD_MOTGEN, COD_MOTESP are codependent feature as represent linked subcategories (COD_MACROMOT -> COD_MOTGEN -> COD_MOTESP), same for PATOLOGIA_1 and PATOLOGIA_TIPO, so we can merge this features.\n"
   ]
  },
  {
   "cell_type": "code",
   "execution_count": 100,
   "metadata": {},
   "outputs": [],
   "source": [
    "#dfHealthFeatures['MOTIVO'] = dfHealthFeatures['COD_MACROMOT'] + dfHealthFeatures['COD_MOTGEN'] + dfHealthFeatures['COD_MOTESP']\n",
    "#dfHealthFeatures['PATOLOGIA'] = dfHealthFeatures['PATOLOGIA_1'] + dfHealthFeatures['PATOLOGIA_TIPO']\n",
    "\n",
    "#dfHealthFeatures = dfHealthFeatures.drop(['COD_MACROMOT', 'COD_MOTGEN', 'COD_MOTESP', 'PATOLOGIA_1', 'PATOLOGIA_TIPO'], axis = 1)\n",
    "\n",
    "#display(dfHealthFeatures.head(n = 5))\n",
    "\n",
    "\n"
   ]
  },
  {
   "cell_type": "markdown",
   "metadata": {},
   "source": [
    "# Data Exploration"
   ]
  },
  {
   "cell_type": "markdown",
   "metadata": {},
   "source": [
    "## Features Class Distribution"
   ]
  },
  {
   "cell_type": "code",
   "execution_count": 101,
   "metadata": {},
   "outputs": [
    {
     "data": {
      "image/png": "[encoded data removed]",
      "text/plain": [
       "<matplotlib.figure.Figure at 0x11a4623d0>"
      ]
     },
     "metadata": {},
     "output_type": "display_data"
    }
   ],
   "source": [
    "\n",
    "def getFeaturesDistribution(features):\n",
    "    dfColumns = pd.DataFrame(columns=['Feature','Distinct Values'])\n",
    "    for colName in features.columns.values:\n",
    "        dfColumns = dfColumns.append({'Feature': colName, 'Distinct Values': features[colName].unique().size}, ignore_index=True)\n",
    "    return dfColumns.infer_objects()\n",
    "\n",
    "def showFeaturesDistribution(dfColumns):\n",
    "    dfFeatures = dfColumns.copy(deep=True)\n",
    "    dfFeatures.set_index(\"Feature\",drop=True,inplace=True)\n",
    "    dfFeatures.plot( kind='bar', figsize = (15,5))\n",
    "dfColumns = getFeaturesDistribution(dfHealthFeatures)\n",
    "showFeaturesDistribution(dfColumns)\n"
   ]
  },
  {
   "cell_type": "code",
   "execution_count": 102,
   "metadata": {},
   "outputs": [
    {
     "name": "stdout",
     "output_type": "stream",
     "text": [
      "Total number of records: 2,130,783\n",
      "Individuals with life at risk: 288,811\n",
      "Individuals with life not at risk: 1,841,972\n",
      "Percentage of individuals with life at risk: 13.55%\n"
     ]
    }
   ],
   "source": [
    "from __future__ import division\n",
    "# TODO: Total number of records\n",
    "n_records = dataset['RIESGO_VIDA'].count()\n",
    "\n",
    "# TODO: Number of records where individual's life is at risk\n",
    "life_risk = dataset[dataset[\"RIESGO_VIDA\"] == 1]\n",
    "n_life_risk = life_risk['RIESGO_VIDA'].count()\n",
    "\n",
    "# TODO: Number of records where individual's life is not at risk\n",
    "no_life_risk =  dataset[dataset[\"RIESGO_VIDA\"] == 0]\n",
    "n_no_life_risk = no_life_risk['RIESGO_VIDA'].count()\n",
    "\n",
    "# TODO: Percentage of individuals whose income is more than $50,000\n",
    "greater_percent = (n_life_risk/n_records)*100\n",
    "\n",
    "# Print the results\n",
    "print \"Total number of records: {:,}\".format(n_records)\n",
    "print \"Individuals with life at risk: {:,}\".format(n_life_risk)\n",
    "print \"Individuals with life not at risk: {:,}\".format(n_no_life_risk)\n",
    "print \"Percentage of individuals with life at risk: {:.2f}%\".format(greater_percent)"
   ]
  },
  {
   "cell_type": "markdown",
   "metadata": {},
   "source": [
    "## Encoding dataset\n",
    "\n",
    "All features in the dataset are categorical. Some of them have too many classes to be one hot encoded. Mean encoding transformation will be perform on the dataset to encode features instead hot encoding it."
   ]
  },
  {
   "cell_type": "code",
   "execution_count": 104,
   "metadata": {
    "scrolled": true
   },
   "outputs": [
    {
     "name": "stdout",
     "output_type": "stream",
     "text": [
      "--- 1246.56012297 seconds ---\n"
     ]
    },
    {
     "data": {
      "text/html": [
       "<div>\n",
       "<style scoped>\n",
       "    .dataframe tbody tr th:only-of-type {\n",
       "        vertical-align: middle;\n",
       "    }\n",
       "\n",
       "    .dataframe tbody tr th {\n",
       "        vertical-align: top;\n",
       "    }\n",
       "\n",
       "    .dataframe thead th {\n",
       "        text-align: right;\n",
       "    }\n",
       "</style>\n",
       "<table border=\"1\" class=\"dataframe\">\n",
       "  <thead>\n",
       "    <tr style=\"text-align: right;\">\n",
       "      <th></th>\n",
       "      <th>COD_MACROMOT</th>\n",
       "      <th>COD_MOTGEN</th>\n",
       "      <th>COD_MOTESP</th>\n",
       "      <th>PATOLOGIA_1</th>\n",
       "      <th>PATOLOGIA_TIPO</th>\n",
       "      <th>CIE_10</th>\n",
       "    </tr>\n",
       "  </thead>\n",
       "  <tbody>\n",
       "    <tr>\n",
       "      <th>0</th>\n",
       "      <td>0.264236</td>\n",
       "      <td>0.203051</td>\n",
       "      <td>0.255345</td>\n",
       "      <td>0.151759</td>\n",
       "      <td>0.151759</td>\n",
       "      <td>0.061950</td>\n",
       "    </tr>\n",
       "    <tr>\n",
       "      <th>1</th>\n",
       "      <td>0.264236</td>\n",
       "      <td>0.203051</td>\n",
       "      <td>0.156412</td>\n",
       "      <td>0.151759</td>\n",
       "      <td>0.151759</td>\n",
       "      <td>0.090751</td>\n",
       "    </tr>\n",
       "    <tr>\n",
       "      <th>2</th>\n",
       "      <td>0.264236</td>\n",
       "      <td>0.449348</td>\n",
       "      <td>0.230204</td>\n",
       "      <td>0.151759</td>\n",
       "      <td>0.151759</td>\n",
       "      <td>0.384615</td>\n",
       "    </tr>\n",
       "    <tr>\n",
       "      <th>3</th>\n",
       "      <td>0.264236</td>\n",
       "      <td>0.121258</td>\n",
       "      <td>0.104876</td>\n",
       "      <td>0.151759</td>\n",
       "      <td>0.151759</td>\n",
       "      <td>0.016157</td>\n",
       "    </tr>\n",
       "    <tr>\n",
       "      <th>4</th>\n",
       "      <td>0.264236</td>\n",
       "      <td>0.203051</td>\n",
       "      <td>0.285007</td>\n",
       "      <td>0.404018</td>\n",
       "      <td>0.404018</td>\n",
       "      <td>0.795501</td>\n",
       "    </tr>\n",
       "  </tbody>\n",
       "</table>\n",
       "</div>"
      ],
      "text/plain": [
       "   COD_MACROMOT  COD_MOTGEN  COD_MOTESP  PATOLOGIA_1  PATOLOGIA_TIPO    CIE_10\n",
       "0  0.264236      0.203051    0.255345    0.151759     0.151759        0.061950\n",
       "1  0.264236      0.203051    0.156412    0.151759     0.151759        0.090751\n",
       "2  0.264236      0.449348    0.230204    0.151759     0.151759        0.384615\n",
       "3  0.264236      0.121258    0.104876    0.151759     0.151759        0.016157\n",
       "4  0.264236      0.203051    0.285007    0.404018     0.404018        0.795501"
      ]
     },
     "metadata": {},
     "output_type": "display_data"
    }
   ],
   "source": [
    "from category_encoders import *\n",
    "import time\n",
    "\n",
    "\n",
    "start_time = time.time()   \n",
    "enc = TargetEncoder(cols= dfHealthFeatures.columns.values.tolist(), return_df = True).fit(dfHealthFeatures, labels_raw)\n",
    "dataset_encoded = enc.transform(dfHealthFeatures)\n",
    "print(\"--- %s seconds ---\" % (time.time() - start_time))\n",
    "\n",
    "display(dataset_encoded.head(n = 5))  \n"
   ]
  },
  {
   "cell_type": "code",
   "execution_count": 105,
   "metadata": {},
   "outputs": [
    {
     "data": {
      "image/png": "[encoded data removed]",
      "text/plain": [
       "<matplotlib.figure.Figure at 0x11a95bf50>"
      ]
     },
     "metadata": {},
     "output_type": "display_data"
    }
   ],
   "source": [
    "\n",
    "dataset_encoded.hist(bins=15, color='steelblue', edgecolor='black', linewidth=1.0,\n",
    "           xlabelsize=8, ylabelsize=8, grid=False)    \n",
    "plt.tight_layout(rect=(0, 0, 1.2, 1.2))   "
   ]
  },
  {
   "cell_type": "code",
   "execution_count": 106,
   "metadata": {
    "scrolled": true
   },
   "outputs": [
    {
     "data": {
      "text/html": [
       "<div>\n",
       "<style scoped>\n",
       "    .dataframe tbody tr th:only-of-type {\n",
       "        vertical-align: middle;\n",
       "    }\n",
       "\n",
       "    .dataframe tbody tr th {\n",
       "        vertical-align: top;\n",
       "    }\n",
       "\n",
       "    .dataframe thead th {\n",
       "        text-align: right;\n",
       "    }\n",
       "</style>\n",
       "<table border=\"1\" class=\"dataframe\">\n",
       "  <thead>\n",
       "    <tr style=\"text-align: right;\">\n",
       "      <th></th>\n",
       "      <th>COD_MACROMOT</th>\n",
       "      <th>COD_MOTGEN</th>\n",
       "      <th>COD_MOTESP</th>\n",
       "      <th>PATOLOGIA_1</th>\n",
       "      <th>PATOLOGIA_TIPO</th>\n",
       "      <th>CIE_10</th>\n",
       "    </tr>\n",
       "  </thead>\n",
       "  <tbody>\n",
       "    <tr>\n",
       "      <th>0</th>\n",
       "      <td>0.234468</td>\n",
       "      <td>0.184861</td>\n",
       "      <td>0.227410</td>\n",
       "      <td>0.141291</td>\n",
       "      <td>0.141291</td>\n",
       "      <td>0.060107</td>\n",
       "    </tr>\n",
       "    <tr>\n",
       "      <th>1</th>\n",
       "      <td>0.234468</td>\n",
       "      <td>0.184861</td>\n",
       "      <td>0.145322</td>\n",
       "      <td>0.141291</td>\n",
       "      <td>0.141291</td>\n",
       "      <td>0.086867</td>\n",
       "    </tr>\n",
       "  </tbody>\n",
       "</table>\n",
       "</div>"
      ],
      "text/plain": [
       "   COD_MACROMOT  COD_MOTGEN  COD_MOTESP  PATOLOGIA_1  PATOLOGIA_TIPO    CIE_10\n",
       "0  0.234468      0.184861    0.227410    0.141291     0.141291        0.060107\n",
       "1  0.234468      0.184861    0.145322    0.141291     0.141291        0.086867"
      ]
     },
     "metadata": {},
     "output_type": "display_data"
    }
   ],
   "source": [
    "\n",
    "# Log-transform the skewed features\n",
    "features_log_transformed = dataset_encoded.apply(lambda x: np.log(x + 1))\n",
    "\n",
    "# Visualize the new log distributions\n",
    "display(features_log_transformed.head(n = 2))\n",
    "#distribution(features_log_transformed, transformed = True)"
   ]
  },
  {
   "cell_type": "code",
   "execution_count": 107,
   "metadata": {
    "scrolled": true
   },
   "outputs": [
    {
     "data": {
      "image/png": "[encoded data removed]",
      "text/plain": [
       "<matplotlib.figure.Figure at 0x13236d150>"
      ]
     },
     "metadata": {},
     "output_type": "display_data"
    }
   ],
   "source": [
    "\n",
    "features_log_transformed.hist(bins=15, color='steelblue', edgecolor='black', linewidth=1.0,\n",
    "           xlabelsize=8, ylabelsize=8, grid=False)    \n",
    "plt.tight_layout(rect=(0, 0, 1.2, 1.2))   "
   ]
  },
  {
   "cell_type": "code",
   "execution_count": 108,
   "metadata": {
    "scrolled": true
   },
   "outputs": [
    {
     "data": {
      "text/html": [
       "<div>\n",
       "<style scoped>\n",
       "    .dataframe tbody tr th:only-of-type {\n",
       "        vertical-align: middle;\n",
       "    }\n",
       "\n",
       "    .dataframe tbody tr th {\n",
       "        vertical-align: top;\n",
       "    }\n",
       "\n",
       "    .dataframe thead th {\n",
       "        text-align: right;\n",
       "    }\n",
       "</style>\n",
       "<table border=\"1\" class=\"dataframe\">\n",
       "  <thead>\n",
       "    <tr style=\"text-align: right;\">\n",
       "      <th></th>\n",
       "      <th>COD_MACROMOT</th>\n",
       "      <th>COD_MOTGEN</th>\n",
       "      <th>COD_MOTESP</th>\n",
       "      <th>PATOLOGIA_1</th>\n",
       "      <th>PATOLOGIA_TIPO</th>\n",
       "      <th>CIE_10</th>\n",
       "    </tr>\n",
       "  </thead>\n",
       "  <tbody>\n",
       "    <tr>\n",
       "      <th>0</th>\n",
       "      <td>0.579116</td>\n",
       "      <td>0.306415</td>\n",
       "      <td>0.328084</td>\n",
       "      <td>0.242444</td>\n",
       "      <td>0.203936</td>\n",
       "      <td>0.086716</td>\n",
       "    </tr>\n",
       "    <tr>\n",
       "      <th>1</th>\n",
       "      <td>0.579116</td>\n",
       "      <td>0.306415</td>\n",
       "      <td>0.209656</td>\n",
       "      <td>0.242444</td>\n",
       "      <td>0.203936</td>\n",
       "      <td>0.125322</td>\n",
       "    </tr>\n",
       "    <tr>\n",
       "      <th>2</th>\n",
       "      <td>0.579116</td>\n",
       "      <td>0.615138</td>\n",
       "      <td>0.298898</td>\n",
       "      <td>0.242444</td>\n",
       "      <td>0.203936</td>\n",
       "      <td>0.469485</td>\n",
       "    </tr>\n",
       "    <tr>\n",
       "      <th>3</th>\n",
       "      <td>0.579116</td>\n",
       "      <td>0.189709</td>\n",
       "      <td>0.143884</td>\n",
       "      <td>0.242444</td>\n",
       "      <td>0.203936</td>\n",
       "      <td>0.023123</td>\n",
       "    </tr>\n",
       "    <tr>\n",
       "      <th>4</th>\n",
       "      <td>0.579116</td>\n",
       "      <td>0.306415</td>\n",
       "      <td>0.361776</td>\n",
       "      <td>0.582582</td>\n",
       "      <td>0.489828</td>\n",
       "      <td>0.844386</td>\n",
       "    </tr>\n",
       "  </tbody>\n",
       "</table>\n",
       "</div>"
      ],
      "text/plain": [
       "   COD_MACROMOT  COD_MOTGEN  COD_MOTESP  PATOLOGIA_1  PATOLOGIA_TIPO    CIE_10\n",
       "0  0.579116      0.306415    0.328084    0.242444     0.203936        0.086716\n",
       "1  0.579116      0.306415    0.209656    0.242444     0.203936        0.125322\n",
       "2  0.579116      0.615138    0.298898    0.242444     0.203936        0.469485\n",
       "3  0.579116      0.189709    0.143884    0.242444     0.203936        0.023123\n",
       "4  0.579116      0.306415    0.361776    0.582582     0.489828        0.844386"
      ]
     },
     "metadata": {},
     "output_type": "display_data"
    }
   ],
   "source": [
    "\n",
    "# Normalize features\n",
    "from sklearn.preprocessing import MinMaxScaler\n",
    "\n",
    "# Initialize a scaler, then apply it to the features\n",
    "scaler = MinMaxScaler() # default=(0, 1)\n",
    "\n",
    "features_log_minmax_transform = pd.DataFrame(data = features_log_transformed)\n",
    "features_log_minmax_transform[features_log_transformed.columns.values.tolist()] = scaler.fit_transform(features_log_transformed[features_log_transformed.columns.values.tolist()])\n",
    "\n",
    "# Show an example of a record with scaling applied\n",
    "display(features_log_minmax_transform.head(n = 5))"
   ]
  },
  {
   "cell_type": "code",
   "execution_count": 109,
   "metadata": {},
   "outputs": [
    {
     "data": {
      "image/png": "[encoded data removed]",
      "text/plain": [
       "<matplotlib.figure.Figure at 0x111087490>"
      ]
     },
     "metadata": {},
     "output_type": "display_data"
    }
   ],
   "source": [
    "features_log_minmax_transform.hist(bins=15, color='steelblue', edgecolor='black', linewidth=1.0,\n",
    "           xlabelsize=8, ylabelsize=8, grid=False)    \n",
    "plt.tight_layout(rect=(0, 0, 1.2, 1.2))  "
   ]
  },
  {
   "cell_type": "code",
   "execution_count": 110,
   "metadata": {},
   "outputs": [
    {
     "data": {
      "image/png": "[encoded data removed]",
      "text/plain": [
       "<matplotlib.figure.Figure at 0x111077a10>"
      ]
     },
     "metadata": {},
     "output_type": "display_data"
    }
   ],
   "source": [
    "\n",
    "dfEncodedDataset = features_log_minmax_transform\n",
    "# Correlation Matrix Heatmap\n",
    "import seaborn as sns\n",
    "f, ax = plt.subplots(figsize=(10, 6))\n",
    "corr = dfEncodedDataset.corr()\n",
    "hm = sns.heatmap(corr, annot=True, ax=ax, cmap=\"coolwarm\",fmt='.2f', linewidths=.05)\n",
    "f.subplots_adjust(top=0.93)\n",
    "t= f.suptitle('Features Correlation Heatmap', fontsize=14)"
   ]
  },
  {
   "cell_type": "code",
   "execution_count": 112,
   "metadata": {},
   "outputs": [
    {
     "data": {
      "image/png": "[encoded data removed]",
      "text/plain": [
       "<matplotlib.figure.Figure at 0x111193d50>"
      ]
     },
     "metadata": {},
     "output_type": "display_data"
    }
   ],
   "source": [
    "\n",
    "# Import sklearn.preprocessing.StandardScaler\n",
    "from sklearn.preprocessing import QuantileTransformer\n",
    "\n",
    "# Initialize a scaler, then apply it to the features\n",
    "scaler = QuantileTransformer() # default=(0, 1)\n",
    "\n",
    "\n",
    "features_log_minmax_transform = pd.DataFrame(data = features_log_transformed)\n",
    "features_log_minmax_transform[features_log_transformed.columns.values.tolist()] = scaler.fit_transform(features_log_transformed[features_log_transformed.columns.values.tolist()])\n",
    "\n",
    "#distribution(features_log_minmax_transform, transformed = True)\n",
    "# Show an example of a record with scaling applied\n",
    "dfLogColumns = getFeaturesDistribution(features_log_minmax_transform)\n",
    "showFeaturesDistribution(dfLogColumns)"
   ]
  },
  {
   "cell_type": "markdown",
   "metadata": {},
   "source": [
    "# Store Dataset"
   ]
  },
  {
   "cell_type": "code",
   "execution_count": 113,
   "metadata": {},
   "outputs": [],
   "source": [
    "features_log_minmax_transform['RIESGO_VIDA'] = dataset['RIESGO_VIDA']\n",
    "features_log_minmax_transform.to_csv(\"datasets/dataset_health_features.csv.gz\", encoding='utf-8', compression = 'gzip')"
   ]
  },
  {
   "cell_type": "markdown",
   "metadata": {},
   "source": [
    "# Resampling\n",
    "\n",
    "Target classes are highly unbalanced"
   ]
  },
  {
   "cell_type": "code",
   "execution_count": null,
   "metadata": {},
   "outputs": [
    {
     "name": "stdout",
     "output_type": "stream",
     "text": [
      "0    1841972\n",
      "1    288811 \n",
      "Name: RIESGO_VIDA, dtype: int64\n"
     ]
    },
    {
     "data": {
      "image/png": "[encoded data removed]",
      "text/plain": [
       "<matplotlib.figure.Figure at 0x117033250>"
      ]
     },
     "metadata": {},
     "output_type": "display_data"
    }
   ],
   "source": [
    "target_count = dataset['RIESGO_VIDA'].value_counts()\n",
    "print(target_count)\n",
    "target_count.plot(kind='bar', title='Count (target)');"
   ]
  },
  {
   "cell_type": "code",
   "execution_count": null,
   "metadata": {
    "scrolled": true
   },
   "outputs": [],
   "source": [
    "from imblearn.under_sampling import AllKNN\n",
    "\n",
    "rus = AllKNN(return_indices=True)\n",
    "X_rus, y_rus, id_rus = rus.fit_sample(features_log_minmax_transform, dataset['RIESGO_VIDA'])\n",
    "\n",
    "print('Removed indexes:', id_rus)\n"
   ]
  },
  {
   "cell_type": "markdown",
   "metadata": {},
   "source": [
    "## Storing removed records for future model validation"
   ]
  },
  {
   "cell_type": "code",
   "execution_count": null,
   "metadata": {
    "scrolled": true
   },
   "outputs": [],
   "source": [
    "X_rus = pd.DataFrame(np.array(X_rus), columns=features_log_minmax_transform.columns.values.tolist())\n",
    "y_rus = pd.DataFrame(np.array(y_rus), columns=['RIESGO_VIDA'])\n",
    "\n",
    "\n",
    "dataset_rus = X_rus\n",
    "dataset_rus['RIESGO_VIDA'] = y_rus\n",
    "\n",
    "dataset_rus = pd.concat([features_log_minmax_transform,dataset_rus]).drop_duplicates(keep=False)\n",
    "\n",
    "display(dataset_rus.head(n = 3))\n",
    "\n",
    "dataset_rus.to_csv(\"datasets/dataset_under_sampled_validation.csv.gz\", encoding='utf-8', compression = 'gzip')"
   ]
  },
  {
   "cell_type": "code",
   "execution_count": null,
   "metadata": {},
   "outputs": [],
   "source": [
    "target_count_rus = y['RIESGO_VIDA'].value_counts()\n",
    "print(target_count_rus)\n",
    "target_count_rus.plot(kind='bar', title='Count (target)');"
   ]
  },
  {
   "cell_type": "code",
   "execution_count": null,
   "metadata": {},
   "outputs": [],
   "source": [
    "X_rus['RIESGO_VIDA'] = y_rus['RIESGO_VIDA']\n",
    "X_rus.to_csv(\"datasets/dataset_under_sampled.csv.gz\", encoding='utf-8', compression = 'gzip')"
   ]
  },
  {
   "cell_type": "markdown",
   "metadata": {},
   "source": [
    "## Over Sampling"
   ]
  },
  {
   "cell_type": "code",
   "execution_count": 12,
   "metadata": {},
   "outputs": [
    {
     "name": "stdout",
     "output_type": "stream",
     "text": [
      "Training set has 1917704 samples.\n",
      "Validation set has 213079 samples.\n",
      "(1397888, 'new random picked points')\n"
     ]
    }
   ],
   "source": [
    "# Split the dataset to leave a separate dataset to verify the Over Sampled dataset is not overfitting\n",
    "# Import train_test_split\n",
    "from sklearn.model_selection import train_test_split\n",
    "\n",
    "XOS_set, XOS_validation, yOS_set, yOS_validation = train_test_split(features_log_minmax_transform, \n",
    "                                                    dataset['RIESGO_VIDA'], \n",
    "                                                    test_size = 0.10, \n",
    "                                                    random_state = 10)\n",
    "\n",
    "print \"Training set has {} samples.\".format(XOS_set.shape[0])\n",
    "print \"Validation set has {} samples.\".format(XOS_validation.shape[0])\n",
    "\n",
    "\n",
    "from imblearn.over_sampling import RandomOverSampler\n",
    "\n",
    "ros = RandomOverSampler(sampling_strategy = 'not majority')\n",
    "X_ros, y_ros = ros.fit_sample(XOS_set, yOS_set)\n",
    "\n",
    "print(X_ros.shape[0] - XOS_set.shape[0], 'new random picked points')\n"
   ]
  },
  {
   "cell_type": "code",
   "execution_count": 13,
   "metadata": {},
   "outputs": [],
   "source": [
    "X_ros = pd.DataFrame(np.array(X_ros), columns=features_log_minmax_transform.columns.values.tolist())\n",
    "y_ros = pd.DataFrame(np.array(y_ros), columns=['RIESGO_VIDA'])"
   ]
  },
  {
   "cell_type": "code",
   "execution_count": 14,
   "metadata": {
    "scrolled": false
   },
   "outputs": [
    {
     "name": "stdout",
     "output_type": "stream",
     "text": [
      "1    1657796\n",
      "0    1657796\n",
      "Name: RIESGO_VIDA, dtype: int64\n"
     ]
    },
    {
     "data": {
      "image/png": "[encoded data removed]",
      "text/plain": [
       "<matplotlib.figure.Figure at 0x120954d10>"
      ]
     },
     "metadata": {},
     "output_type": "display_data"
    }
   ],
   "source": [
    "target_count_ros = y_ros['RIESGO_VIDA'].value_counts()\n",
    "print(target_count_ros)\n",
    "target_count_ros.plot(kind='bar', title='Count (target)');"
   ]
  },
  {
   "cell_type": "code",
   "execution_count": 26,
   "metadata": {},
   "outputs": [
    {
     "name": "stderr",
     "output_type": "stream",
     "text": [
      "/anaconda2/lib/python2.7/site-packages/ipykernel_launcher.py:4: SettingWithCopyWarning: \n",
      "A value is trying to be set on a copy of a slice from a DataFrame.\n",
      "Try using .loc[row_indexer,col_indexer] = value instead\n",
      "\n",
      "See the caveats in the documentation: http://pandas.pydata.org/pandas-docs/stable/indexing.html#indexing-view-versus-copy\n",
      "  after removing the cwd from sys.path.\n"
     ]
    }
   ],
   "source": [
    "X_ros['RIESGO_VIDA'] = y_ros[['RIESGO_VIDA']]\n",
    "X_ros.to_csv(\"datasets/dataset_over_sampled.csv.gz\", encoding='utf-8', compression = 'gzip')\n",
    "\n",
    "XOS_validation['RIESGO_VIDA'] = pd.DataFrame(yOS_validation, columns = ['RIESGO_VIDA'])\n",
    "XOS_validation.to_csv(\"datasets/dataset_over_sampled_validation.csv.gz\", encoding='utf-8', compression = 'gzip')"
   ]
  }
 ],
 "metadata": {
  "kernelspec": {
   "display_name": "Python 2",
   "language": "python",
   "name": "python2"
  },
  "language_info": {
   "codemirror_mode": {
    "name": "ipython",
    "version": 2
   },
   "file_extension": ".py",
   "mimetype": "text/x-python",
   "name": "python",
   "nbconvert_exporter": "python",
   "pygments_lexer": "ipython2",
   "version": "2.7.14"
  }
 },
 "nbformat": 4,
 "nbformat_minor": 2
}
