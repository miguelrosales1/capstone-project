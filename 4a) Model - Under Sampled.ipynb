{
 "cells": [
  {
   "cell_type": "code",
   "execution_count": 1,
   "metadata": {
    "colab": {
     "base_uri": "https://localhost:8080/",
     "height": 253
    },
    "colab_type": "code",
    "executionInfo": {
     "elapsed": 7455,
     "status": "ok",
     "timestamp": 1542071868547,
     "user": {
      "displayName": "Mario Rugeles",
      "photoUrl": "https://lh3.googleusercontent.com/--oO1Q7krrEw/AAAAAAAAAAI/AAAAAAAAVNM/PnWpg-9Ytsk/s64/photo.jpg",
      "userId": "18266523861382958643"
     },
     "user_tz": 300
    },
    "id": "QdPdXHHYdLUl",
    "outputId": "5776ea51-6ae4-4ff1-ada9-a2c971ffb6f6"
   },
   "outputs": [
    {
     "data": {
      "text/html": [
       "<div>\n",
       "<style scoped>\n",
       "    .dataframe tbody tr th:only-of-type {\n",
       "        vertical-align: middle;\n",
       "    }\n",
       "\n",
       "    .dataframe tbody tr th {\n",
       "        vertical-align: top;\n",
       "    }\n",
       "\n",
       "    .dataframe thead th {\n",
       "        text-align: right;\n",
       "    }\n",
       "</style>\n",
       "<table border=\"1\" class=\"dataframe\">\n",
       "  <thead>\n",
       "    <tr style=\"text-align: right;\">\n",
       "      <th></th>\n",
       "      <th>AFEC_EDADR</th>\n",
       "      <th>AFEC_EDUC</th>\n",
       "      <th>AFEC_GENERO</th>\n",
       "      <th>AFEC_GETNICO</th>\n",
       "      <th>AFEC_PARENTESCO</th>\n",
       "      <th>AFEC_POBESPECIAL</th>\n",
       "      <th>AFEC_REGAFILIACION</th>\n",
       "      <th>AFEC_TIPOPER</th>\n",
       "      <th>ALTO_COSTO</th>\n",
       "      <th>CIE_10</th>\n",
       "      <th>...</th>\n",
       "      <th>PQR_CLASE_SNS</th>\n",
       "      <th>PQR_ESTADO</th>\n",
       "      <th>PQR_TIPOATENCION</th>\n",
       "      <th>PQR_TIPOPETICION</th>\n",
       "      <th>TRIM</th>\n",
       "      <th>AFEC_LOCATION</th>\n",
       "      <th>ENT_LOCATION</th>\n",
       "      <th>PET_LOCATION</th>\n",
       "      <th>COMPLETE_MOTIVE</th>\n",
       "      <th>RIESGO_VIDA</th>\n",
       "    </tr>\n",
       "  </thead>\n",
       "  <tbody>\n",
       "    <tr>\n",
       "      <th>0</th>\n",
       "      <td>0.000000</td>\n",
       "      <td>0.000000</td>\n",
       "      <td>0.000000</td>\n",
       "      <td>0.000000</td>\n",
       "      <td>0.000000</td>\n",
       "      <td>0.000000</td>\n",
       "      <td>0.000000</td>\n",
       "      <td>0.0</td>\n",
       "      <td>0.0</td>\n",
       "      <td>0.125322</td>\n",
       "      <td>...</td>\n",
       "      <td>0.0</td>\n",
       "      <td>0.000000</td>\n",
       "      <td>1.000000</td>\n",
       "      <td>0.000000</td>\n",
       "      <td>0.150914</td>\n",
       "      <td>0.000743</td>\n",
       "      <td>0.000581</td>\n",
       "      <td>0.159041</td>\n",
       "      <td>0.000486</td>\n",
       "      <td>0</td>\n",
       "    </tr>\n",
       "    <tr>\n",
       "      <th>1</th>\n",
       "      <td>0.855981</td>\n",
       "      <td>0.530003</td>\n",
       "      <td>1.000000</td>\n",
       "      <td>0.445166</td>\n",
       "      <td>0.290884</td>\n",
       "      <td>0.304503</td>\n",
       "      <td>1.000000</td>\n",
       "      <td>1.0</td>\n",
       "      <td>0.0</td>\n",
       "      <td>0.125322</td>\n",
       "      <td>...</td>\n",
       "      <td>1.0</td>\n",
       "      <td>0.091348</td>\n",
       "      <td>0.512068</td>\n",
       "      <td>0.658277</td>\n",
       "      <td>0.000000</td>\n",
       "      <td>0.342978</td>\n",
       "      <td>0.336340</td>\n",
       "      <td>0.296725</td>\n",
       "      <td>0.316076</td>\n",
       "      <td>0</td>\n",
       "    </tr>\n",
       "    <tr>\n",
       "      <th>2</th>\n",
       "      <td>0.487840</td>\n",
       "      <td>0.000000</td>\n",
       "      <td>0.865504</td>\n",
       "      <td>0.000000</td>\n",
       "      <td>0.290884</td>\n",
       "      <td>0.000000</td>\n",
       "      <td>0.661319</td>\n",
       "      <td>1.0</td>\n",
       "      <td>0.0</td>\n",
       "      <td>0.125322</td>\n",
       "      <td>...</td>\n",
       "      <td>1.0</td>\n",
       "      <td>0.091348</td>\n",
       "      <td>0.512068</td>\n",
       "      <td>0.658277</td>\n",
       "      <td>0.150914</td>\n",
       "      <td>0.261972</td>\n",
       "      <td>0.346242</td>\n",
       "      <td>0.228888</td>\n",
       "      <td>0.381179</td>\n",
       "      <td>0</td>\n",
       "    </tr>\n",
       "    <tr>\n",
       "      <th>3</th>\n",
       "      <td>0.449334</td>\n",
       "      <td>0.640631</td>\n",
       "      <td>1.000000</td>\n",
       "      <td>0.445166</td>\n",
       "      <td>0.290884</td>\n",
       "      <td>0.304503</td>\n",
       "      <td>0.661319</td>\n",
       "      <td>1.0</td>\n",
       "      <td>0.0</td>\n",
       "      <td>0.125322</td>\n",
       "      <td>...</td>\n",
       "      <td>0.0</td>\n",
       "      <td>0.091348</td>\n",
       "      <td>0.512068</td>\n",
       "      <td>0.000000</td>\n",
       "      <td>1.000000</td>\n",
       "      <td>0.257469</td>\n",
       "      <td>0.338034</td>\n",
       "      <td>0.215414</td>\n",
       "      <td>0.000622</td>\n",
       "      <td>0</td>\n",
       "    </tr>\n",
       "    <tr>\n",
       "      <th>4</th>\n",
       "      <td>0.000000</td>\n",
       "      <td>0.000000</td>\n",
       "      <td>0.000000</td>\n",
       "      <td>0.000000</td>\n",
       "      <td>0.000000</td>\n",
       "      <td>0.000000</td>\n",
       "      <td>0.000000</td>\n",
       "      <td>0.0</td>\n",
       "      <td>0.0</td>\n",
       "      <td>0.125322</td>\n",
       "      <td>...</td>\n",
       "      <td>0.0</td>\n",
       "      <td>0.000000</td>\n",
       "      <td>1.000000</td>\n",
       "      <td>0.000000</td>\n",
       "      <td>0.205221</td>\n",
       "      <td>0.044997</td>\n",
       "      <td>0.001214</td>\n",
       "      <td>0.159041</td>\n",
       "      <td>0.000000</td>\n",
       "      <td>0</td>\n",
       "    </tr>\n",
       "  </tbody>\n",
       "</table>\n",
       "<p>5 rows × 33 columns</p>\n",
       "</div>"
      ],
      "text/plain": [
       "   AFEC_EDADR  AFEC_EDUC  AFEC_GENERO  AFEC_GETNICO  AFEC_PARENTESCO  \\\n",
       "0  0.000000    0.000000   0.000000     0.000000      0.000000          \n",
       "1  0.855981    0.530003   1.000000     0.445166      0.290884          \n",
       "2  0.487840    0.000000   0.865504     0.000000      0.290884          \n",
       "3  0.449334    0.640631   1.000000     0.445166      0.290884          \n",
       "4  0.000000    0.000000   0.000000     0.000000      0.000000          \n",
       "\n",
       "   AFEC_POBESPECIAL  AFEC_REGAFILIACION  AFEC_TIPOPER  ALTO_COSTO    CIE_10  \\\n",
       "0  0.000000          0.000000            0.0           0.0         0.125322   \n",
       "1  0.304503          1.000000            1.0           0.0         0.125322   \n",
       "2  0.000000          0.661319            1.0           0.0         0.125322   \n",
       "3  0.304503          0.661319            1.0           0.0         0.125322   \n",
       "4  0.000000          0.000000            0.0           0.0         0.125322   \n",
       "\n",
       "      ...       PQR_CLASE_SNS  PQR_ESTADO  PQR_TIPOATENCION  PQR_TIPOPETICION  \\\n",
       "0     ...       0.0            0.000000    1.000000          0.000000           \n",
       "1     ...       1.0            0.091348    0.512068          0.658277           \n",
       "2     ...       1.0            0.091348    0.512068          0.658277           \n",
       "3     ...       0.0            0.091348    0.512068          0.000000           \n",
       "4     ...       0.0            0.000000    1.000000          0.000000           \n",
       "\n",
       "       TRIM  AFEC_LOCATION  ENT_LOCATION  PET_LOCATION  COMPLETE_MOTIVE  \\\n",
       "0  0.150914  0.000743       0.000581      0.159041      0.000486          \n",
       "1  0.000000  0.342978       0.336340      0.296725      0.316076          \n",
       "2  0.150914  0.261972       0.346242      0.228888      0.381179          \n",
       "3  1.000000  0.257469       0.338034      0.215414      0.000622          \n",
       "4  0.205221  0.044997       0.001214      0.159041      0.000000          \n",
       "\n",
       "   RIESGO_VIDA  \n",
       "0  0            \n",
       "1  0            \n",
       "2  0            \n",
       "3  0            \n",
       "4  0            \n",
       "\n",
       "[5 rows x 33 columns]"
      ]
     },
     "metadata": {},
     "output_type": "display_data"
    }
   ],
   "source": [
    "import numpy as np\n",
    "import pandas as pd\n",
    "from time import time\n",
    "import matplotlib.pyplot as plt\n",
    "from IPython.display import display \n",
    "\n",
    "import model_utils as utils\n",
    "\n",
    "# Pretty display for notebooks\n",
    "%matplotlib inline\n",
    "pd.set_option('display.max_colwidth', -1)\n",
    "\n",
    "dataset, features, labels = utils.getDataSet(\"datasets/dataset_under_sampled.csv.gz\")"
   ]
  },
  {
   "cell_type": "markdown",
   "metadata": {
    "colab_type": "text",
    "id": "9pYUs1SydLUq"
   },
   "source": [
    "## Shuffle and Split Data"
   ]
  },
  {
   "cell_type": "code",
   "execution_count": 3,
   "metadata": {
    "colab": {
     "base_uri": "https://localhost:8080/",
     "height": 68
    },
    "colab_type": "code",
    "executionInfo": {
     "elapsed": 1132,
     "status": "ok",
     "timestamp": 1542071869706,
     "user": {
      "displayName": "Mario Rugeles",
      "photoUrl": "https://lh3.googleusercontent.com/--oO1Q7krrEw/AAAAAAAAAAI/AAAAAAAAVNM/PnWpg-9Ytsk/s64/photo.jpg",
      "userId": "18266523861382958643"
     },
     "user_tz": 300
    },
    "id": "xm7ZTuEvdLUr",
    "outputId": "f78d70ed-77f9-44ab-d9bd-bc0224699d99"
   },
   "outputs": [
    {
     "name": "stdout",
     "output_type": "stream",
     "text": [
      "features_final set has 577622 samples.\n",
      "Training set has 462097 samples.\n",
      "Testing set has 115525 samples.\n"
     ]
    }
   ],
   "source": [
    "# Import train_test_split\n",
    "from sklearn.model_selection import train_test_split\n",
    "\n",
    "# Split the 'features' and 'labels' data into training and testing sets\n",
    "X_train, X_test, y_train, y_test = train_test_split(features, \n",
    "                                                    labels, \n",
    "                                                    test_size = 0.20, \n",
    "                                                    random_state = 10)\n",
    "\n",
    "# Show the results of the split\n",
    "print \"features_final set has {} samples.\".format(features.shape[0])\n",
    "print \"Training set has {} samples.\".format(X_train.shape[0])\n",
    "print \"Testing set has {} samples.\".format(X_test.shape[0])"
   ]
  },
  {
   "cell_type": "markdown",
   "metadata": {
    "colab_type": "text",
    "id": "D6Wdu9q4dLUu"
   },
   "source": [
    "### Creating a Training and Predicting Pipeline"
   ]
  },
  {
   "cell_type": "code",
   "execution_count": 5,
   "metadata": {
    "colab": {
     "base_uri": "https://localhost:8080/",
     "height": 51
    },
    "colab_type": "code",
    "executionInfo": {
     "elapsed": 907,
     "status": "ok",
     "timestamp": 1542071870651,
     "user": {
      "displayName": "Mario Rugeles",
      "photoUrl": "https://lh3.googleusercontent.com/--oO1Q7krrEw/AAAAAAAAAAI/AAAAAAAAVNM/PnWpg-9Ytsk/s64/photo.jpg",
      "userId": "18266523861382958643"
     },
     "user_tz": 300
    },
    "id": "abnhKqsydLUv",
    "outputId": "dc98bb44-d9b8-4072-ead4-ab20b7e69cfa"
   },
   "outputs": [
    {
     "name": "stdout",
     "output_type": "stream",
     "text": [
      "Naive Predictor: [F-score: 0.8333]\n"
     ]
    }
   ],
   "source": [
    "'''\n",
    "TP = np.sum(income) # Counting the ones as this is the naive case. Note that 'income' is the 'income_raw' data \n",
    "encoded to numerical values done in the data preprocessing step.\n",
    "FP = income.count() - TP # Specific to the naive case\n",
    "\n",
    "TN = 0 # No predicted negatives in the naive case\n",
    "FN = 0 # No predicted negatives in the naive case\n",
    "'''\n",
    "\n",
    "tp = float(np.sum(labels['RIESGO_VIDA']))\n",
    "fp = float(labels['RIESGO_VIDA'].count() - tp)\n",
    "tn = 0\n",
    "fn = 0\n",
    "\n",
    "# TODO: Calculate accuracy, precision and recall\n",
    "recall = tp / (tp + fn)\n",
    "precision = tp / (tp + fp)\n",
    "\n",
    "# TODO: Calculate F-score using the formula above for beta = 0.5 and correct values for precision and recall.\n",
    "# HINT: The formula above can be written as (1 + beta**2) * (precision * recall) / ((beta**2 * precision) + recall)\n",
    "beta = 2\n",
    "fscore = (1 + beta**2) * (precision * recall) / ((beta**2 * precision) + recall)\n",
    "\n",
    "# Print the results \n",
    "print \"Naive Predictor: [F-score: {:.4f}]\".format(fscore)"
   ]
  },
  {
   "cell_type": "code",
   "execution_count": 6,
   "metadata": {
    "colab": {
     "base_uri": "https://localhost:8080/",
     "height": 292
    },
    "colab_type": "code",
    "executionInfo": {
     "elapsed": 60952,
     "status": "ok",
     "timestamp": 1542071932280,
     "user": {
      "displayName": "Mario Rugeles",
      "photoUrl": "https://lh3.googleusercontent.com/--oO1Q7krrEw/AAAAAAAAAAI/AAAAAAAAVNM/PnWpg-9Ytsk/s64/photo.jpg",
      "userId": "18266523861382958643"
     },
     "user_tz": 300
    },
    "id": "9JMVKOlQdLU0",
    "outputId": "7bca759a-0883-4f65-d60b-3710e762587c"
   },
   "outputs": [
    {
     "name": "stderr",
     "output_type": "stream",
     "text": [
      "/anaconda2/lib/python2.7/site-packages/sklearn/linear_model/stochastic_gradient.py:144: FutureWarning: max_iter and tol parameters have been added in SGDClassifier in 0.19. If both are left unset, they default to max_iter=5 and tol=None. If tol is not None, max_iter defaults to max_iter=1000. From 0.21, default max_iter will be 1000, and default tol will be 1e-3.\n",
      "  FutureWarning)\n",
      "/anaconda2/lib/python2.7/site-packages/sklearn/utils/validation.py:752: DataConversionWarning: A column-vector y was passed when a 1d array was expected. Please change the shape of y to (n_samples, ), for example using ravel().\n",
      "  y = column_or_1d(y, warn=True)\n"
     ]
    },
    {
     "name": "stdout",
     "output_type": "stream",
     "text": [
      "SGDClassifier trained on 462097 samples.\n"
     ]
    },
    {
     "name": "stderr",
     "output_type": "stream",
     "text": [
      "/anaconda2/lib/python2.7/site-packages/sklearn/ensemble/forest.py:248: FutureWarning: The default value of n_estimators will change from 10 in version 0.20 to 100 in 0.22.\n",
      "  \"10 in version 0.20 to 100 in 0.22.\", FutureWarning)\n",
      "model_utils.py:35: DataConversionWarning: A column-vector y was passed when a 1d array was expected. Please change the shape of y to (n_samples,), for example using ravel().\n",
      "  learner = learner.fit(X_train[:sample_size], y_train[:sample_size])\n"
     ]
    },
    {
     "name": "stdout",
     "output_type": "stream",
     "text": [
      "RandomForestClassifier trained on 462097 samples.\n",
      "AdaBoostClassifier trained on 462097 samples.\n"
     ]
    }
   ],
   "source": [
    "import visuals as vs\n",
    "from sklearn.metrics import fbeta_score\n",
    "from sklearn.ensemble import AdaBoostClassifier\n",
    "from sklearn.ensemble import RandomForestClassifier\n",
    "from sklearn.linear_model import SGDClassifier\n",
    "# Initialize the three models\n",
    "clf_A = SGDClassifier(random_state = 300)\n",
    "clf_B = RandomForestClassifier(random_state = 300)\n",
    "clf_C = AdaBoostClassifier(random_state = 300)\n",
    "\n",
    "\n",
    "samples_100 = len(y_train)\n",
    "\n",
    "# Collect results on the learners\n",
    "dfResults = pd.DataFrame(columns=['learner', 'learner_index', 'size_index', 'train_time', 'pred_time', 'f_test', 'f_train'])\n",
    "\n",
    "for k, clf in enumerate([clf_A, clf_B, clf_C]):\n",
    "    clf_name = clf.__class__.__name__    \n",
    "    dfResults = utils.train_predict(clf, k, 0, samples_100, X_train, y_train, X_test, y_test, dfResults)\n"
   ]
  },
  {
   "cell_type": "code",
   "execution_count": 7,
   "metadata": {
    "colab": {
     "base_uri": "https://localhost:8080/",
     "height": 142
    },
    "colab_type": "code",
    "executionInfo": {
     "elapsed": 735,
     "status": "ok",
     "timestamp": 1542071935083,
     "user": {
      "displayName": "Mario Rugeles",
      "photoUrl": "https://lh3.googleusercontent.com/--oO1Q7krrEw/AAAAAAAAAAI/AAAAAAAAVNM/PnWpg-9Ytsk/s64/photo.jpg",
      "userId": "18266523861382958643"
     },
     "user_tz": 300
    },
    "id": "3caT5HlN4sjX",
    "outputId": "fb588ba7-e0a1-4a62-c7df-75a187ae5168"
   },
   "outputs": [
    {
     "data": {
      "text/html": [
       "<div>\n",
       "<style scoped>\n",
       "    .dataframe tbody tr th:only-of-type {\n",
       "        vertical-align: middle;\n",
       "    }\n",
       "\n",
       "    .dataframe tbody tr th {\n",
       "        vertical-align: top;\n",
       "    }\n",
       "\n",
       "    .dataframe thead th {\n",
       "        text-align: right;\n",
       "    }\n",
       "</style>\n",
       "<table border=\"1\" class=\"dataframe\">\n",
       "  <thead>\n",
       "    <tr style=\"text-align: right;\">\n",
       "      <th></th>\n",
       "      <th>learner</th>\n",
       "      <th>f_test</th>\n",
       "    </tr>\n",
       "  </thead>\n",
       "  <tbody>\n",
       "    <tr>\n",
       "      <th>0</th>\n",
       "      <td>SGDClassifier</td>\n",
       "      <td>0.895014</td>\n",
       "    </tr>\n",
       "    <tr>\n",
       "      <th>1</th>\n",
       "      <td>RandomForestClassifier</td>\n",
       "      <td>0.885759</td>\n",
       "    </tr>\n",
       "    <tr>\n",
       "      <th>2</th>\n",
       "      <td>AdaBoostClassifier</td>\n",
       "      <td>0.882964</td>\n",
       "    </tr>\n",
       "  </tbody>\n",
       "</table>\n",
       "</div>"
      ],
      "text/plain": [
       "                  learner    f_test\n",
       "0  SGDClassifier           0.895014\n",
       "1  RandomForestClassifier  0.885759\n",
       "2  AdaBoostClassifier      0.882964"
      ]
     },
     "metadata": {},
     "output_type": "display_data"
    }
   ],
   "source": [
    "display( dfResults.sort_values(by=['f_test'], ascending = False)[['learner', 'f_test']])"
   ]
  },
  {
   "cell_type": "markdown",
   "metadata": {
    "colab_type": "text",
    "id": "hFeESLfqdLU6"
   },
   "source": [
    "# Tuning Models"
   ]
  },
  {
   "cell_type": "markdown",
   "metadata": {
    "colab_type": "text",
    "id": "yexxb1yC5FbQ"
   },
   "source": [
    "## Tuning RandomForestClassifier"
   ]
  },
  {
   "cell_type": "code",
   "execution_count": 8,
   "metadata": {
    "colab": {
     "base_uri": "https://localhost:8080/",
     "height": 241
    },
    "colab_type": "code",
    "executionInfo": {
     "elapsed": 731727,
     "status": "ok",
     "timestamp": 1542072668167,
     "user": {
      "displayName": "Mario Rugeles",
      "photoUrl": "https://lh3.googleusercontent.com/--oO1Q7krrEw/AAAAAAAAAAI/AAAAAAAAVNM/PnWpg-9Ytsk/s64/photo.jpg",
      "userId": "18266523861382958643"
     },
     "user_tz": 300
    },
    "id": "XAL0mJdc5LzG",
    "outputId": "1f9b3e2a-d09d-4965-b4f1-6a07220b8ce6"
   },
   "outputs": [
    {
     "name": "stderr",
     "output_type": "stream",
     "text": [
      "/anaconda2/lib/python2.7/site-packages/sklearn/model_selection/_split.py:1943: FutureWarning: You should specify a value for 'cv' instead of relying on the default value. The default value will change from 3 to 5 in version 0.22.\n",
      "  warnings.warn(CV_WARNING, FutureWarning)\n"
     ]
    },
    {
     "name": "stdout",
     "output_type": "stream",
     "text": [
      "Unoptimized model\n",
      "------\n",
      "F-score on testing data: 0.8853\n",
      "\n",
      "Optimized Model\n",
      "------\n",
      "Final F-score on the testing data: 0.9131\n"
     ]
    },
    {
     "data": {
      "text/plain": [
       "['rfClassifier.joblib']"
      ]
     },
     "execution_count": 8,
     "metadata": {},
     "output_type": "execute_result"
    }
   ],
   "source": [
    "from sklearn.externals import joblib\n",
    "\n",
    "rfClassifier = RandomForestClassifier(random_state = 20)\n",
    "\n",
    "rfParameters = {    \n",
    "  'criterion':['gini', 'entropy'],\n",
    "  'max_depth':[5, 10],\n",
    "  'max_features':['auto', 'sqrt', 'log2', None],\n",
    "  'class_weight': ['balanced', 'balanced_subsample'], \n",
    "}\n",
    "\n",
    "rfClassifier = utils.tuneClassifier(rfClassifier, rfParameters, X_train, X_test, y_train, y_test)\n",
    "\n",
    "joblib.dump(rfClassifier, 'rfClassifier.joblib') "
   ]
  },
  {
   "cell_type": "markdown",
   "metadata": {
    "colab_type": "text",
    "id": "a0Px60T-5yyX"
   },
   "source": [
    "## Tuning SGDClassifier"
   ]
  },
  {
   "cell_type": "code",
   "execution_count": 9,
   "metadata": {
    "colab": {
     "base_uri": "https://localhost:8080/",
     "height": 153
    },
    "colab_type": "code",
    "executionInfo": {
     "elapsed": 166032,
     "status": "ok",
     "timestamp": 1542072839831,
     "user": {
      "displayName": "Mario Rugeles",
      "photoUrl": "https://lh3.googleusercontent.com/--oO1Q7krrEw/AAAAAAAAAAI/AAAAAAAAVNM/PnWpg-9Ytsk/s64/photo.jpg",
      "userId": "18266523861382958643"
     },
     "user_tz": 300
    },
    "id": "9Mtm6Mwu523p",
    "outputId": "c97759bd-51a7-4614-ceea-c284475ad8b2"
   },
   "outputs": [
    {
     "name": "stdout",
     "output_type": "stream",
     "text": [
      "Unoptimized model\n",
      "------\n",
      "F-score on testing data: 0.8886\n",
      "\n",
      "Optimized Model\n",
      "------\n",
      "Final F-score on the testing data: 0.8821\n"
     ]
    },
    {
     "data": {
      "text/plain": [
       "['sdgClassifier.joblib']"
      ]
     },
     "execution_count": 9,
     "metadata": {},
     "output_type": "execute_result"
    }
   ],
   "source": [
    "sdgClassifier = SGDClassifier(random_state = 20)\n",
    "\n",
    "sdgParameters = {\n",
    "  'eta0':[0.01],\n",
    "  'loss':['hinge', 'log', 'modified_huber', 'squared_hinge', 'perceptron'],\n",
    "  'penalty':['none', 'l2', 'l1', 'elasticnet'],\n",
    "  'learning_rate':['constant', 'optimal', 'invscaling'],\n",
    "  'class_weight' :['balanced']\n",
    "  #'max_features':['auto', 'sqrt', 'log2', None],\n",
    "}\n",
    "\n",
    "sdgClassifier = utils.tuneClassifier(sdgClassifier, sdgParameters, X_train, X_test, y_train, y_test)\n",
    "\n",
    "joblib.dump(rfClassifier, 'sdgClassifier.joblib') "
   ]
  },
  {
   "cell_type": "markdown",
   "metadata": {},
   "source": [
    "## Tuning AdaBoostClassifier"
   ]
  },
  {
   "cell_type": "code",
   "execution_count": 12,
   "metadata": {},
   "outputs": [
    {
     "name": "stderr",
     "output_type": "stream",
     "text": [
      "/anaconda2/lib/python2.7/site-packages/sklearn/model_selection/_split.py:1943: FutureWarning: You should specify a value for 'cv' instead of relying on the default value. The default value will change from 3 to 5 in version 0.22.\n",
      "  warnings.warn(CV_WARNING, FutureWarning)\n"
     ]
    },
    {
     "name": "stdout",
     "output_type": "stream",
     "text": [
      "Unoptimized model\n",
      "------\n",
      "F-score on testing data: 0.8830\n",
      "\n",
      "Optimized Model\n",
      "------\n",
      "Final F-score on the testing data: 0.9108\n"
     ]
    },
    {
     "data": {
      "text/plain": [
       "['adaClassifier.joblib']"
      ]
     },
     "execution_count": 12,
     "metadata": {},
     "output_type": "execute_result"
    }
   ],
   "source": [
    "from sklearn.ensemble import AdaBoostClassifier\n",
    "adaClassifier = AdaBoostClassifier(random_state = 20)\n",
    "\n",
    "adaParameters = {\n",
    "  'learning_rate':[0.1, 0.5, 1],\n",
    "  'algorithm' :['SAMME', 'SAMME.R']\n",
    "  #'max_features':['auto', 'sqrt', 'log2', None],\n",
    "}\n",
    "\n",
    "sdgClassifier = utils.tuneClassifier(adaClassifier, adaParameters, X_train, X_test, y_train, y_test)\n",
    "\n",
    "joblib.dump(rfClassifier, 'adaClassifier.joblib') "
   ]
  },
  {
   "cell_type": "markdown",
   "metadata": {},
   "source": [
    "## Testing Model with excluded records"
   ]
  },
  {
   "cell_type": "code",
   "execution_count": 9,
   "metadata": {
    "scrolled": true
   },
   "outputs": [
    {
     "data": {
      "text/html": [
       "<div>\n",
       "<style scoped>\n",
       "    .dataframe tbody tr th:only-of-type {\n",
       "        vertical-align: middle;\n",
       "    }\n",
       "\n",
       "    .dataframe tbody tr th {\n",
       "        vertical-align: top;\n",
       "    }\n",
       "\n",
       "    .dataframe thead th {\n",
       "        text-align: right;\n",
       "    }\n",
       "</style>\n",
       "<table border=\"1\" class=\"dataframe\">\n",
       "  <thead>\n",
       "    <tr style=\"text-align: right;\">\n",
       "      <th></th>\n",
       "      <th>AFEC_EDADR</th>\n",
       "      <th>AFEC_EDUC</th>\n",
       "      <th>AFEC_GENERO</th>\n",
       "      <th>AFEC_GETNICO</th>\n",
       "      <th>AFEC_PARENTESCO</th>\n",
       "      <th>AFEC_POBESPECIAL</th>\n",
       "      <th>AFEC_REGAFILIACION</th>\n",
       "      <th>AFEC_TIPOPER</th>\n",
       "      <th>ALTO_COSTO</th>\n",
       "      <th>CIE_10</th>\n",
       "      <th>...</th>\n",
       "      <th>PQR_CLASE_SNS</th>\n",
       "      <th>PQR_ESTADO</th>\n",
       "      <th>PQR_TIPOATENCION</th>\n",
       "      <th>PQR_TIPOPETICION</th>\n",
       "      <th>TRIM</th>\n",
       "      <th>AFEC_LOCATION</th>\n",
       "      <th>ENT_LOCATION</th>\n",
       "      <th>PET_LOCATION</th>\n",
       "      <th>COMPLETE_MOTIVE</th>\n",
       "      <th>RIESGO_VIDA</th>\n",
       "    </tr>\n",
       "  </thead>\n",
       "  <tbody>\n",
       "    <tr>\n",
       "      <th>0</th>\n",
       "      <td>0.862194</td>\n",
       "      <td>0.530003</td>\n",
       "      <td>0.865504</td>\n",
       "      <td>0.445166</td>\n",
       "      <td>0.478849</td>\n",
       "      <td>0.304503</td>\n",
       "      <td>1.000000</td>\n",
       "      <td>1.0</td>\n",
       "      <td>0.0</td>\n",
       "      <td>0.086716</td>\n",
       "      <td>...</td>\n",
       "      <td>1.0</td>\n",
       "      <td>0.091348</td>\n",
       "      <td>0.512068</td>\n",
       "      <td>0.658277</td>\n",
       "      <td>0.150914</td>\n",
       "      <td>0.230700</td>\n",
       "      <td>0.280929</td>\n",
       "      <td>0.278713</td>\n",
       "      <td>0.328084</td>\n",
       "      <td>0</td>\n",
       "    </tr>\n",
       "    <tr>\n",
       "      <th>1</th>\n",
       "      <td>0.862194</td>\n",
       "      <td>0.640631</td>\n",
       "      <td>1.000000</td>\n",
       "      <td>0.445166</td>\n",
       "      <td>0.565950</td>\n",
       "      <td>0.304503</td>\n",
       "      <td>0.661319</td>\n",
       "      <td>1.0</td>\n",
       "      <td>0.0</td>\n",
       "      <td>0.469485</td>\n",
       "      <td>...</td>\n",
       "      <td>1.0</td>\n",
       "      <td>0.091348</td>\n",
       "      <td>1.000000</td>\n",
       "      <td>0.658277</td>\n",
       "      <td>0.150914</td>\n",
       "      <td>0.303620</td>\n",
       "      <td>0.343342</td>\n",
       "      <td>0.307024</td>\n",
       "      <td>0.298898</td>\n",
       "      <td>0</td>\n",
       "    </tr>\n",
       "    <tr>\n",
       "      <th>2</th>\n",
       "      <td>0.862194</td>\n",
       "      <td>1.000000</td>\n",
       "      <td>1.000000</td>\n",
       "      <td>0.445166</td>\n",
       "      <td>0.549692</td>\n",
       "      <td>0.304503</td>\n",
       "      <td>0.661319</td>\n",
       "      <td>1.0</td>\n",
       "      <td>0.0</td>\n",
       "      <td>0.023123</td>\n",
       "      <td>...</td>\n",
       "      <td>1.0</td>\n",
       "      <td>0.091348</td>\n",
       "      <td>1.000000</td>\n",
       "      <td>0.658277</td>\n",
       "      <td>0.150914</td>\n",
       "      <td>0.420555</td>\n",
       "      <td>0.531137</td>\n",
       "      <td>0.399282</td>\n",
       "      <td>0.143884</td>\n",
       "      <td>0</td>\n",
       "    </tr>\n",
       "    <tr>\n",
       "      <th>3</th>\n",
       "      <td>0.487840</td>\n",
       "      <td>0.858045</td>\n",
       "      <td>0.865504</td>\n",
       "      <td>0.445166</td>\n",
       "      <td>0.459473</td>\n",
       "      <td>0.304503</td>\n",
       "      <td>0.661319</td>\n",
       "      <td>1.0</td>\n",
       "      <td>0.0</td>\n",
       "      <td>0.125322</td>\n",
       "      <td>...</td>\n",
       "      <td>1.0</td>\n",
       "      <td>0.091348</td>\n",
       "      <td>1.000000</td>\n",
       "      <td>0.658277</td>\n",
       "      <td>0.150914</td>\n",
       "      <td>0.212932</td>\n",
       "      <td>0.251380</td>\n",
       "      <td>0.179645</td>\n",
       "      <td>0.209656</td>\n",
       "      <td>0</td>\n",
       "    </tr>\n",
       "    <tr>\n",
       "      <th>4</th>\n",
       "      <td>0.862194</td>\n",
       "      <td>0.640631</td>\n",
       "      <td>1.000000</td>\n",
       "      <td>0.445166</td>\n",
       "      <td>0.549692</td>\n",
       "      <td>0.304503</td>\n",
       "      <td>0.661319</td>\n",
       "      <td>1.0</td>\n",
       "      <td>0.0</td>\n",
       "      <td>0.152003</td>\n",
       "      <td>...</td>\n",
       "      <td>1.0</td>\n",
       "      <td>0.091348</td>\n",
       "      <td>1.000000</td>\n",
       "      <td>0.658277</td>\n",
       "      <td>0.150914</td>\n",
       "      <td>0.341353</td>\n",
       "      <td>0.460581</td>\n",
       "      <td>0.291511</td>\n",
       "      <td>0.316076</td>\n",
       "      <td>0</td>\n",
       "    </tr>\n",
       "  </tbody>\n",
       "</table>\n",
       "<p>5 rows × 33 columns</p>\n",
       "</div>"
      ],
      "text/plain": [
       "   AFEC_EDADR  AFEC_EDUC  AFEC_GENERO  AFEC_GETNICO  AFEC_PARENTESCO  \\\n",
       "0  0.862194    0.530003   0.865504     0.445166      0.478849          \n",
       "1  0.862194    0.640631   1.000000     0.445166      0.565950          \n",
       "2  0.862194    1.000000   1.000000     0.445166      0.549692          \n",
       "3  0.487840    0.858045   0.865504     0.445166      0.459473          \n",
       "4  0.862194    0.640631   1.000000     0.445166      0.549692          \n",
       "\n",
       "   AFEC_POBESPECIAL  AFEC_REGAFILIACION  AFEC_TIPOPER  ALTO_COSTO    CIE_10  \\\n",
       "0  0.304503          1.000000            1.0           0.0         0.086716   \n",
       "1  0.304503          0.661319            1.0           0.0         0.469485   \n",
       "2  0.304503          0.661319            1.0           0.0         0.023123   \n",
       "3  0.304503          0.661319            1.0           0.0         0.125322   \n",
       "4  0.304503          0.661319            1.0           0.0         0.152003   \n",
       "\n",
       "      ...       PQR_CLASE_SNS  PQR_ESTADO  PQR_TIPOATENCION  PQR_TIPOPETICION  \\\n",
       "0     ...       1.0            0.091348    0.512068          0.658277           \n",
       "1     ...       1.0            0.091348    1.000000          0.658277           \n",
       "2     ...       1.0            0.091348    1.000000          0.658277           \n",
       "3     ...       1.0            0.091348    1.000000          0.658277           \n",
       "4     ...       1.0            0.091348    1.000000          0.658277           \n",
       "\n",
       "       TRIM  AFEC_LOCATION  ENT_LOCATION  PET_LOCATION  COMPLETE_MOTIVE  \\\n",
       "0  0.150914  0.230700       0.280929      0.278713      0.328084          \n",
       "1  0.150914  0.303620       0.343342      0.307024      0.298898          \n",
       "2  0.150914  0.420555       0.531137      0.399282      0.143884          \n",
       "3  0.150914  0.212932       0.251380      0.179645      0.209656          \n",
       "4  0.150914  0.341353       0.460581      0.291511      0.316076          \n",
       "\n",
       "   RIESGO_VIDA  \n",
       "0  0            \n",
       "1  0            \n",
       "2  0            \n",
       "3  0            \n",
       "4  0            \n",
       "\n",
       "[5 rows x 33 columns]"
      ]
     },
     "metadata": {},
     "output_type": "display_data"
    },
    {
     "name": "stdout",
     "output_type": "stream",
     "text": [
      "0.0\n"
     ]
    }
   ],
   "source": [
    "dataset_excluded, features_excluded, labels_excluded = utils.getDataSet(\"datasets/dataset_rus.csv.gz\")\n",
    "\n",
    "predictions_excluded = rfClassifier.predict(features_excluded)\n",
    "f_test_excluded =  fbeta_score(labels_excluded, predictions_excluded, 2)\n",
    "print(f_test_excluded)"
   ]
  },
  {
   "cell_type": "code",
   "execution_count": 8,
   "metadata": {},
   "outputs": [
    {
     "name": "stdout",
     "output_type": "stream",
     "text": [
      "False\n"
     ]
    }
   ],
   "source": [
    "print(dataset.equals(dataset_excluded))"
   ]
  }
 ],
 "metadata": {
  "accelerator": "GPU",
  "colab": {
   "collapsed_sections": [],
   "name": "3a) Model Under Sampled.ipynb",
   "provenance": [
    {
     "file_id": "10zGqvTAESuu0S-pODE_6_-yebkEHmhf0",
     "timestamp": 1542151464416
    }
   ],
   "toc_visible": true,
   "version": "0.3.2"
  },
  "kernelspec": {
   "display_name": "Python 2",
   "language": "python",
   "name": "python2"
  },
  "language_info": {
   "codemirror_mode": {
    "name": "ipython",
    "version": 2
   },
   "file_extension": ".py",
   "mimetype": "text/x-python",
   "name": "python",
   "nbconvert_exporter": "python",
   "pygments_lexer": "ipython2",
   "version": "2.7.14"
  }
 },
 "nbformat": 4,
 "nbformat_minor": 1
}
