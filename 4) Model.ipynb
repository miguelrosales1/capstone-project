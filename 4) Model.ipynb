{
 "cells": [
  {
   "cell_type": "code",
   "execution_count": 1,
   "metadata": {},
   "outputs": [
    {
     "data": {
      "text/html": [
       "<div>\n",
       "<style scoped>\n",
       "    .dataframe tbody tr th:only-of-type {\n",
       "        vertical-align: middle;\n",
       "    }\n",
       "\n",
       "    .dataframe tbody tr th {\n",
       "        vertical-align: top;\n",
       "    }\n",
       "\n",
       "    .dataframe thead th {\n",
       "        text-align: right;\n",
       "    }\n",
       "</style>\n",
       "<table border=\"1\" class=\"dataframe\">\n",
       "  <thead>\n",
       "    <tr style=\"text-align: right;\">\n",
       "      <th></th>\n",
       "      <th>AFEC_EDADR</th>\n",
       "      <th>AFEC_EDUC</th>\n",
       "      <th>AFEC_GENERO</th>\n",
       "      <th>AFEC_GETNICO</th>\n",
       "      <th>AFEC_PARENTESCO</th>\n",
       "      <th>AFEC_POBESPECIAL</th>\n",
       "      <th>AFEC_REGAFILIACION</th>\n",
       "      <th>AFEC_TIPOPER</th>\n",
       "      <th>ALTO_COSTO</th>\n",
       "      <th>CIE_10</th>\n",
       "      <th>...</th>\n",
       "      <th>PQR_CLASE_SNS</th>\n",
       "      <th>PQR_ESTADO</th>\n",
       "      <th>PQR_TIPOATENCION</th>\n",
       "      <th>PQR_TIPOPETICION</th>\n",
       "      <th>TRIM</th>\n",
       "      <th>AFEC_LOCATION</th>\n",
       "      <th>ENT_LOCATION</th>\n",
       "      <th>PET_LOCATION</th>\n",
       "      <th>COMPLETE_MOTIVE</th>\n",
       "      <th>RIESGO_VIDA</th>\n",
       "    </tr>\n",
       "  </thead>\n",
       "  <tbody>\n",
       "    <tr>\n",
       "      <th>0</th>\n",
       "      <td>0.862194</td>\n",
       "      <td>0.530003</td>\n",
       "      <td>0.865504</td>\n",
       "      <td>0.445166</td>\n",
       "      <td>0.478849</td>\n",
       "      <td>0.304503</td>\n",
       "      <td>1.000000</td>\n",
       "      <td>1.0</td>\n",
       "      <td>0.0</td>\n",
       "      <td>0.086716</td>\n",
       "      <td>...</td>\n",
       "      <td>1.0</td>\n",
       "      <td>0.091348</td>\n",
       "      <td>0.512068</td>\n",
       "      <td>0.658277</td>\n",
       "      <td>0.150914</td>\n",
       "      <td>0.230700</td>\n",
       "      <td>0.280929</td>\n",
       "      <td>0.278713</td>\n",
       "      <td>0.328084</td>\n",
       "      <td>0</td>\n",
       "    </tr>\n",
       "    <tr>\n",
       "      <th>1</th>\n",
       "      <td>0.909893</td>\n",
       "      <td>0.530003</td>\n",
       "      <td>1.000000</td>\n",
       "      <td>0.445166</td>\n",
       "      <td>0.478849</td>\n",
       "      <td>0.304503</td>\n",
       "      <td>1.000000</td>\n",
       "      <td>1.0</td>\n",
       "      <td>0.0</td>\n",
       "      <td>0.125322</td>\n",
       "      <td>...</td>\n",
       "      <td>1.0</td>\n",
       "      <td>0.091348</td>\n",
       "      <td>1.000000</td>\n",
       "      <td>0.658277</td>\n",
       "      <td>0.150914</td>\n",
       "      <td>0.221327</td>\n",
       "      <td>0.213105</td>\n",
       "      <td>0.174609</td>\n",
       "      <td>0.209656</td>\n",
       "      <td>0</td>\n",
       "    </tr>\n",
       "    <tr>\n",
       "      <th>2</th>\n",
       "      <td>0.862194</td>\n",
       "      <td>0.640631</td>\n",
       "      <td>1.000000</td>\n",
       "      <td>0.445166</td>\n",
       "      <td>0.565950</td>\n",
       "      <td>0.304503</td>\n",
       "      <td>0.661319</td>\n",
       "      <td>1.0</td>\n",
       "      <td>0.0</td>\n",
       "      <td>0.469485</td>\n",
       "      <td>...</td>\n",
       "      <td>1.0</td>\n",
       "      <td>0.091348</td>\n",
       "      <td>1.000000</td>\n",
       "      <td>0.658277</td>\n",
       "      <td>0.150914</td>\n",
       "      <td>0.303620</td>\n",
       "      <td>0.343342</td>\n",
       "      <td>0.307024</td>\n",
       "      <td>0.298898</td>\n",
       "      <td>0</td>\n",
       "    </tr>\n",
       "    <tr>\n",
       "      <th>3</th>\n",
       "      <td>0.862194</td>\n",
       "      <td>1.000000</td>\n",
       "      <td>1.000000</td>\n",
       "      <td>0.445166</td>\n",
       "      <td>0.549692</td>\n",
       "      <td>0.304503</td>\n",
       "      <td>0.661319</td>\n",
       "      <td>1.0</td>\n",
       "      <td>0.0</td>\n",
       "      <td>0.023123</td>\n",
       "      <td>...</td>\n",
       "      <td>1.0</td>\n",
       "      <td>0.091348</td>\n",
       "      <td>1.000000</td>\n",
       "      <td>0.658277</td>\n",
       "      <td>0.150914</td>\n",
       "      <td>0.420555</td>\n",
       "      <td>0.531137</td>\n",
       "      <td>0.399282</td>\n",
       "      <td>0.143884</td>\n",
       "      <td>0</td>\n",
       "    </tr>\n",
       "    <tr>\n",
       "      <th>4</th>\n",
       "      <td>0.862194</td>\n",
       "      <td>0.530003</td>\n",
       "      <td>1.000000</td>\n",
       "      <td>0.445166</td>\n",
       "      <td>0.549692</td>\n",
       "      <td>0.591697</td>\n",
       "      <td>0.661319</td>\n",
       "      <td>1.0</td>\n",
       "      <td>0.0</td>\n",
       "      <td>0.844386</td>\n",
       "      <td>...</td>\n",
       "      <td>1.0</td>\n",
       "      <td>1.000000</td>\n",
       "      <td>1.000000</td>\n",
       "      <td>0.658277</td>\n",
       "      <td>0.150914</td>\n",
       "      <td>0.287032</td>\n",
       "      <td>0.346242</td>\n",
       "      <td>0.261890</td>\n",
       "      <td>0.361776</td>\n",
       "      <td>1</td>\n",
       "    </tr>\n",
       "  </tbody>\n",
       "</table>\n",
       "<p>5 rows × 33 columns</p>\n",
       "</div>"
      ],
      "text/plain": [
       "   AFEC_EDADR  AFEC_EDUC  AFEC_GENERO  AFEC_GETNICO  AFEC_PARENTESCO  \\\n",
       "0  0.862194    0.530003   0.865504     0.445166      0.478849          \n",
       "1  0.909893    0.530003   1.000000     0.445166      0.478849          \n",
       "2  0.862194    0.640631   1.000000     0.445166      0.565950          \n",
       "3  0.862194    1.000000   1.000000     0.445166      0.549692          \n",
       "4  0.862194    0.530003   1.000000     0.445166      0.549692          \n",
       "\n",
       "   AFEC_POBESPECIAL  AFEC_REGAFILIACION  AFEC_TIPOPER  ALTO_COSTO    CIE_10  \\\n",
       "0  0.304503          1.000000            1.0           0.0         0.086716   \n",
       "1  0.304503          1.000000            1.0           0.0         0.125322   \n",
       "2  0.304503          0.661319            1.0           0.0         0.469485   \n",
       "3  0.304503          0.661319            1.0           0.0         0.023123   \n",
       "4  0.591697          0.661319            1.0           0.0         0.844386   \n",
       "\n",
       "      ...       PQR_CLASE_SNS  PQR_ESTADO  PQR_TIPOATENCION  PQR_TIPOPETICION  \\\n",
       "0     ...       1.0            0.091348    0.512068          0.658277           \n",
       "1     ...       1.0            0.091348    1.000000          0.658277           \n",
       "2     ...       1.0            0.091348    1.000000          0.658277           \n",
       "3     ...       1.0            0.091348    1.000000          0.658277           \n",
       "4     ...       1.0            1.000000    1.000000          0.658277           \n",
       "\n",
       "       TRIM  AFEC_LOCATION  ENT_LOCATION  PET_LOCATION  COMPLETE_MOTIVE  \\\n",
       "0  0.150914  0.230700       0.280929      0.278713      0.328084          \n",
       "1  0.150914  0.221327       0.213105      0.174609      0.209656          \n",
       "2  0.150914  0.303620       0.343342      0.307024      0.298898          \n",
       "3  0.150914  0.420555       0.531137      0.399282      0.143884          \n",
       "4  0.150914  0.287032       0.346242      0.261890      0.361776          \n",
       "\n",
       "   RIESGO_VIDA  \n",
       "0  0            \n",
       "1  0            \n",
       "2  0            \n",
       "3  0            \n",
       "4  1            \n",
       "\n",
       "[5 rows x 33 columns]"
      ]
     },
     "metadata": {},
     "output_type": "display_data"
    }
   ],
   "source": [
    "import numpy as np\n",
    "import pandas as pd\n",
    "from time import time\n",
    "import matplotlib.pyplot as plt\n",
    "from IPython.display import display \n",
    "\n",
    "import model_utils as utils\n",
    "\n",
    "# Pretty display for notebooks\n",
    "%matplotlib inline\n",
    "pd.set_option('display.max_colwidth', -1)\n",
    "\n",
    "dataset, features, labels = utils.getDataSet(\"datasets/dataset.csv.gz\")"
   ]
  },
  {
   "cell_type": "markdown",
   "metadata": {},
   "source": [
    "## Shuffle and Split Data"
   ]
  },
  {
   "cell_type": "code",
   "execution_count": 3,
   "metadata": {},
   "outputs": [
    {
     "name": "stdout",
     "output_type": "stream",
     "text": [
      "features_final set has 2130783 samples.\n",
      "Training set has 1704626 samples.\n",
      "Testing set has 426157 samples.\n"
     ]
    }
   ],
   "source": [
    "# Import train_test_split\n",
    "from sklearn.model_selection import train_test_split\n",
    "\n",
    "# Split the 'features' and 'labels' data into training and testing sets\n",
    "X_train, X_test, y_train, y_test = train_test_split(features, \n",
    "                                                    labels, \n",
    "                                                    test_size = 0.20, \n",
    "                                                    random_state = 10)\n",
    "\n",
    "# Show the results of the split\n",
    "print \"features_final set has {} samples.\".format(features.shape[0])\n",
    "print \"Training set has {} samples.\".format(X_train.shape[0])\n",
    "print \"Testing set has {} samples.\".format(X_test.shape[0])"
   ]
  },
  {
   "cell_type": "markdown",
   "metadata": {},
   "source": [
    "### Creating a Training and Predicting Pipeline"
   ]
  },
  {
   "cell_type": "code",
   "execution_count": 4,
   "metadata": {},
   "outputs": [
    {
     "name": "stdout",
     "output_type": "stream",
     "text": [
      "0.135542192706\n",
      "Naive Predictor: [Accuracy score: 0.1355, F-score: 0.4395]\n"
     ]
    }
   ],
   "source": [
    "'''\n",
    "TP = np.sum(income) # Counting the ones as this is the naive case. Note that 'income' is the 'income_raw' data \n",
    "encoded to numerical values done in the data preprocessing step.\n",
    "FP = income.count() - TP # Specific to the naive case\n",
    "\n",
    "TN = 0 # No predicted negatives in the naive case\n",
    "FN = 0 # No predicted negatives in the naive case\n",
    "'''\n",
    "\n",
    "tp = float(np.sum(labels['RIESGO_VIDA']))\n",
    "fp = float(labels['RIESGO_VIDA'].count() - tp)\n",
    "tn = 0\n",
    "fn = 0\n",
    "\n",
    "# TODO: Calculate accuracy, precision and recall\n",
    "recall = tp / (tp + fn)\n",
    "precision = tp / (tp + fp)\n",
    "\n",
    "# TODO: Calculate F-score using the formula above for beta = 0.5 and correct values for precision and recall.\n",
    "# HINT: The formula above can be written as (1 + beta**2) * (precision * recall) / ((beta**2 * precision) + recall)\n",
    "beta = 2\n",
    "fscore = (1 + beta**2) * (precision * recall) / ((beta**2 * precision) + recall)\n",
    "\n",
    "# Print the results \n",
    "print \"Naive Predictor: [F-score: {:.4f}]\".format(fscore)"
   ]
  },
  {
   "cell_type": "code",
   "execution_count": 19,
   "metadata": {},
   "outputs": [
    {
     "name": "stderr",
     "output_type": "stream",
     "text": [
      "/anaconda2/lib/python2.7/site-packages/sklearn/utils/validation.py:578: DataConversionWarning: A column-vector y was passed when a 1d array was expected. Please change the shape of y to (n_samples, ), for example using ravel().\n",
      "  y = column_or_1d(y, warn=True)\n"
     ]
    },
    {
     "name": "stdout",
     "output_type": "stream",
     "text": [
      "GaussianNB trained on 17046 samples.\n",
      "GaussianNB trained on 170462 samples.\n",
      "GaussianNB trained on 1704626 samples.\n"
     ]
    },
    {
     "name": "stderr",
     "output_type": "stream",
     "text": [
      "/anaconda2/lib/python2.7/site-packages/ipykernel_launcher.py:18: DataConversionWarning: A column-vector y was passed when a 1d array was expected. Please change the shape of y to (n_samples,), for example using ravel().\n"
     ]
    },
    {
     "name": "stdout",
     "output_type": "stream",
     "text": [
      "RandomForestClassifier trained on 17046 samples.\n",
      "RandomForestClassifier trained on 170462 samples.\n",
      "RandomForestClassifier trained on 1704626 samples.\n",
      "MLPClassifier trained on 17046 samples.\n",
      "MLPClassifier trained on 170462 samples.\n",
      "MLPClassifier trained on 1704626 samples.\n"
     ]
    },
    {
     "data": {
      "image/png": "[encoded data removed]",
      "text/plain": [
       "<matplotlib.figure.Figure at 0x114345f50>"
      ]
     },
     "metadata": {},
     "output_type": "display_data"
    }
   ],
   "source": [
    "import visuals as vs\n",
    "from sklearn.svm import SVC\n",
    "from sklearn.ensemble import RandomForestClassifier\n",
    "from sklearn.linear_model import SGDClassifier\n",
    "# Initialize the three models\n",
    "clf_A = SGDClassifier(random_state = 300)\n",
    "clf_B = RandomForestClassifier(random_state = 300)\n",
    "clf_C = SVC(random_state = 300)\n",
    "\n",
    "\n",
    "samples_100 = len(y_train)\n",
    "samples_10 = int(samples_100*0.1)\n",
    "samples_1 = int(samples_10*0.1)\n",
    "\n",
    "# Collect results on the learners\n",
    "dfResults = pd.DataFrame(columns=['learner', 'learner_index', 'size_index', 'train_time', 'pred_time', 'f_test', 'f_train'])\n",
    "\n",
    "for clf in [clf_A, clf_B, clf_C]:\n",
    "    clf_name = clf.__class__.__name__\n",
    "    results[clf_name] = {}\n",
    "    for i, samples in enumerate([samples_1, samples_10, samples_100]):\n",
    "        dfResults = \\\n",
    "        train_predict(clf, k, i, samples, X_train, y_train, X_test, y_test, dfResults)\n"
   ]
  },
  {
   "cell_type": "code",
   "execution_count": null,
   "metadata": {},
   "outputs": [],
   "source": [
    "display( dfResults.loc[dfResults['size_index'] == 2].sort_values(by=['f_test'], ascending = False)[['learner', 'f_test']])\n"
   ]
  },
  {
   "cell_type": "markdown",
   "metadata": {},
   "source": [
    "# Tuning Models"
   ]
  },
  {
   "cell_type": "markdown",
   "metadata": {},
   "source": [
    "## Tuning RandomForestClassifier"
   ]
  },
  {
   "cell_type": "code",
   "execution_count": null,
   "metadata": {},
   "outputs": [],
   "source": [
    "from sklearn.externals import joblib\n",
    "\n",
    "rfClassifier = RandomForestClassifier(random_state = 20)\n",
    "\n",
    "rfParameters = {    \n",
    "  'criterion':['gini', 'entropy'],\n",
    "  'max_depth':[5, 10],\n",
    "  'max_features':['auto', 'sqrt', 'log2', None],\n",
    "  'class_weight': ['balanced', 'balanced_subsample'], \n",
    "}\n",
    "\n",
    "rfClassifier = tuneClassifier(rfClassifier, rfParameters)\n",
    "\n",
    "joblib.dump(rfClassifier, 'rfClassifier.joblib') "
   ]
  },
  {
   "cell_type": "markdown",
   "metadata": {},
   "source": [
    "## Tuning SGDClassifier"
   ]
  },
  {
   "cell_type": "code",
   "execution_count": null,
   "metadata": {},
   "outputs": [],
   "source": [
    "sdgClassifier = SGDClassifier(random_state = 20)\n",
    "\n",
    "sdgParameters = {\n",
    "  'eta0':[0.01],\n",
    "  'loss':['hinge', 'log', 'modified_huber', 'squared_hinge', 'perceptron'],\n",
    "  'penalty':['none', 'l2', 'l1', 'elasticnet'],\n",
    "  'learning_rate':['constant', 'optimal', 'invscaling'],\n",
    "  'class_weight' :['balanced']\n",
    "  #'max_features':['auto', 'sqrt', 'log2', None],\n",
    "}\n",
    "\n",
    "sdgClassifier = tuneClassifier(sdgClassifier, sdgParameters)\n",
    "\n",
    "joblib.dump(rfClassifier, 'sdgClassifier.joblib') "
   ]
  },
  {
   "cell_type": "markdown",
   "metadata": {},
   "source": [
    "# Scaling"
   ]
  },
  {
   "cell_type": "code",
   "execution_count": null,
   "metadata": {},
   "outputs": [],
   "source": [
    "from sklearn.preprocessing import MaxAbsScaler\n",
    "from sklearn.preprocessing import RobustScaler\n",
    "from sklearn.preprocessing import QuantileTransformer\n",
    "\n",
    "scalers = [MaxAbsScaler, RobustScaler, QuantileTransformer]\n"
   ]
  },
  {
   "cell_type": "markdown",
   "metadata": {},
   "source": [
    "## Scaling for optimized models"
   ]
  },
  {
   "cell_type": "code",
   "execution_count": null,
   "metadata": {},
   "outputs": [],
   "source": [
    "rfScaledClassifier = utils.scaleClassifier(rfClassifier, scalers, features, labels)\n",
    "sdgScaledClassifier = utils.scaleClassifier(sdgClassifier, scalers, features, labels)\n",
    "svmScaledClassifier = utils.scaleClassifier(svmClassifier, scalers, features, labels)\n",
    "\n",
    "# Store Scaled Classifier with higher f beta score\n",
    "#joblib.dump(xxScaledClassifier, 'xxScaledClassifier.joblib')\n",
    "\n"
   ]
  }
 ],
 "metadata": {
  "kernelspec": {
   "display_name": "Python 2",
   "language": "python",
   "name": "python2"
  },
  "language_info": {
   "codemirror_mode": {
    "name": "ipython",
    "version": 2
   },
   "file_extension": ".py",
   "mimetype": "text/x-python",
   "name": "python",
   "nbconvert_exporter": "python",
   "pygments_lexer": "ipython2",
   "version": "2.7.14"
  }
 },
 "nbformat": 4,
 "nbformat_minor": 2
}
