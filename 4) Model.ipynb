{
 "cells": [
  {
   "cell_type": "code",
   "execution_count": 14,
   "metadata": {
    "scrolled": false
   },
   "outputs": [
    {
     "data": {
      "text/html": [
       "<div>\n",
       "<style scoped>\n",
       "    .dataframe tbody tr th:only-of-type {\n",
       "        vertical-align: middle;\n",
       "    }\n",
       "\n",
       "    .dataframe tbody tr th {\n",
       "        vertical-align: top;\n",
       "    }\n",
       "\n",
       "    .dataframe thead th {\n",
       "        text-align: right;\n",
       "    }\n",
       "</style>\n",
       "<table border=\"1\" class=\"dataframe\">\n",
       "  <thead>\n",
       "    <tr style=\"text-align: right;\">\n",
       "      <th></th>\n",
       "      <th>AFEC_DPTO</th>\n",
       "      <th>AFEC_EDADR</th>\n",
       "      <th>AFEC_EDUC</th>\n",
       "      <th>AFEC_GENERO</th>\n",
       "      <th>AFEC_GETNICO</th>\n",
       "      <th>AFEC_MPIO</th>\n",
       "      <th>AFEC_PARENTESCO</th>\n",
       "      <th>AFEC_POBESPECIAL</th>\n",
       "      <th>AFEC_REGAFILIACION</th>\n",
       "      <th>AFEC_TIPOPER</th>\n",
       "      <th>...</th>\n",
       "      <th>PATOLOGIA_TIPO</th>\n",
       "      <th>PET_COD_DEPTO</th>\n",
       "      <th>PET_MPIO</th>\n",
       "      <th>PET_TIPOPER</th>\n",
       "      <th>PQR_CANAL</th>\n",
       "      <th>PQR_CLASE_SNS</th>\n",
       "      <th>PQR_TIPOATENCION</th>\n",
       "      <th>PQR_TIPOPETICION</th>\n",
       "      <th>TRIM</th>\n",
       "      <th>RIESGO_VIDA</th>\n",
       "    </tr>\n",
       "  </thead>\n",
       "  <tbody>\n",
       "    <tr>\n",
       "      <th>0</th>\n",
       "      <td>9.569570e-01</td>\n",
       "      <td>7.687688e-01</td>\n",
       "      <td>9.999999e-01</td>\n",
       "      <td>5.765766e-01</td>\n",
       "      <td>7.572573e-01</td>\n",
       "      <td>0.938939</td>\n",
       "      <td>6.041041e-01</td>\n",
       "      <td>7.367367e-01</td>\n",
       "      <td>6.211211e-01</td>\n",
       "      <td>9.999999e-01</td>\n",
       "      <td>...</td>\n",
       "      <td>0.646647</td>\n",
       "      <td>0.943443</td>\n",
       "      <td>0.898899</td>\n",
       "      <td>1.0</td>\n",
       "      <td>1.000000</td>\n",
       "      <td>1.000000</td>\n",
       "      <td>1.000000</td>\n",
       "      <td>0.743744</td>\n",
       "      <td>0.246246</td>\n",
       "      <td>1</td>\n",
       "    </tr>\n",
       "    <tr>\n",
       "      <th>1</th>\n",
       "      <td>1.000000e-07</td>\n",
       "      <td>9.999999e-01</td>\n",
       "      <td>1.000000e-07</td>\n",
       "      <td>5.765766e-01</td>\n",
       "      <td>1.000000e-07</td>\n",
       "      <td>0.206707</td>\n",
       "      <td>9.819820e-01</td>\n",
       "      <td>1.000000e-07</td>\n",
       "      <td>6.211211e-01</td>\n",
       "      <td>9.999999e-01</td>\n",
       "      <td>...</td>\n",
       "      <td>0.646647</td>\n",
       "      <td>0.662162</td>\n",
       "      <td>0.470470</td>\n",
       "      <td>1.0</td>\n",
       "      <td>0.638138</td>\n",
       "      <td>1.000000</td>\n",
       "      <td>1.000000</td>\n",
       "      <td>0.743744</td>\n",
       "      <td>1.000000</td>\n",
       "      <td>0</td>\n",
       "    </tr>\n",
       "    <tr>\n",
       "      <th>2</th>\n",
       "      <td>1.000000e-07</td>\n",
       "      <td>1.000000e-07</td>\n",
       "      <td>1.000000e-07</td>\n",
       "      <td>1.000000e-07</td>\n",
       "      <td>1.000000e-07</td>\n",
       "      <td>0.206707</td>\n",
       "      <td>1.000000e-07</td>\n",
       "      <td>1.000000e-07</td>\n",
       "      <td>1.000000e-07</td>\n",
       "      <td>1.000000e-07</td>\n",
       "      <td>...</td>\n",
       "      <td>0.646647</td>\n",
       "      <td>0.212212</td>\n",
       "      <td>0.162162</td>\n",
       "      <td>1.0</td>\n",
       "      <td>0.638138</td>\n",
       "      <td>0.487237</td>\n",
       "      <td>1.000000</td>\n",
       "      <td>0.367367</td>\n",
       "      <td>0.684184</td>\n",
       "      <td>0</td>\n",
       "    </tr>\n",
       "    <tr>\n",
       "      <th>3</th>\n",
       "      <td>6.231231e-01</td>\n",
       "      <td>4.489489e-01</td>\n",
       "      <td>1.000000e-07</td>\n",
       "      <td>5.765766e-01</td>\n",
       "      <td>1.000000e-07</td>\n",
       "      <td>0.680180</td>\n",
       "      <td>6.041041e-01</td>\n",
       "      <td>1.000000e-07</td>\n",
       "      <td>6.211211e-01</td>\n",
       "      <td>9.999999e-01</td>\n",
       "      <td>...</td>\n",
       "      <td>0.338338</td>\n",
       "      <td>0.462963</td>\n",
       "      <td>0.327828</td>\n",
       "      <td>1.0</td>\n",
       "      <td>0.286787</td>\n",
       "      <td>1.000000</td>\n",
       "      <td>0.152152</td>\n",
       "      <td>0.743744</td>\n",
       "      <td>1.000000</td>\n",
       "      <td>0</td>\n",
       "    </tr>\n",
       "    <tr>\n",
       "      <th>4</th>\n",
       "      <td>4.184184e-01</td>\n",
       "      <td>7.687688e-01</td>\n",
       "      <td>6.376376e-01</td>\n",
       "      <td>9.999999e-01</td>\n",
       "      <td>7.572573e-01</td>\n",
       "      <td>0.896897</td>\n",
       "      <td>6.231231e-01</td>\n",
       "      <td>7.367367e-01</td>\n",
       "      <td>6.211211e-01</td>\n",
       "      <td>9.999999e-01</td>\n",
       "      <td>...</td>\n",
       "      <td>0.985485</td>\n",
       "      <td>0.316817</td>\n",
       "      <td>0.953954</td>\n",
       "      <td>1.0</td>\n",
       "      <td>0.286787</td>\n",
       "      <td>1.000000</td>\n",
       "      <td>0.152152</td>\n",
       "      <td>0.743744</td>\n",
       "      <td>0.246246</td>\n",
       "      <td>1</td>\n",
       "    </tr>\n",
       "  </tbody>\n",
       "</table>\n",
       "<p>5 rows × 36 columns</p>\n",
       "</div>"
      ],
      "text/plain": [
       "      AFEC_DPTO    AFEC_EDADR     AFEC_EDUC   AFEC_GENERO  AFEC_GETNICO  \\\n",
       "0  9.569570e-01  7.687688e-01  9.999999e-01  5.765766e-01  7.572573e-01   \n",
       "1  1.000000e-07  9.999999e-01  1.000000e-07  5.765766e-01  1.000000e-07   \n",
       "2  1.000000e-07  1.000000e-07  1.000000e-07  1.000000e-07  1.000000e-07   \n",
       "3  6.231231e-01  4.489489e-01  1.000000e-07  5.765766e-01  1.000000e-07   \n",
       "4  4.184184e-01  7.687688e-01  6.376376e-01  9.999999e-01  7.572573e-01   \n",
       "\n",
       "   AFEC_MPIO  AFEC_PARENTESCO  AFEC_POBESPECIAL  AFEC_REGAFILIACION  \\\n",
       "0  0.938939   6.041041e-01     7.367367e-01      6.211211e-01         \n",
       "1  0.206707   9.819820e-01     1.000000e-07      6.211211e-01         \n",
       "2  0.206707   1.000000e-07     1.000000e-07      1.000000e-07         \n",
       "3  0.680180   6.041041e-01     1.000000e-07      6.211211e-01         \n",
       "4  0.896897   6.231231e-01     7.367367e-01      6.211211e-01         \n",
       "\n",
       "   AFEC_TIPOPER     ...       PATOLOGIA_TIPO  PET_COD_DEPTO  PET_MPIO  \\\n",
       "0  9.999999e-01     ...       0.646647        0.943443       0.898899   \n",
       "1  9.999999e-01     ...       0.646647        0.662162       0.470470   \n",
       "2  1.000000e-07     ...       0.646647        0.212212       0.162162   \n",
       "3  9.999999e-01     ...       0.338338        0.462963       0.327828   \n",
       "4  9.999999e-01     ...       0.985485        0.316817       0.953954   \n",
       "\n",
       "   PET_TIPOPER  PQR_CANAL  PQR_CLASE_SNS  PQR_TIPOATENCION  PQR_TIPOPETICION  \\\n",
       "0  1.0          1.000000   1.000000       1.000000          0.743744           \n",
       "1  1.0          0.638138   1.000000       1.000000          0.743744           \n",
       "2  1.0          0.638138   0.487237       1.000000          0.367367           \n",
       "3  1.0          0.286787   1.000000       0.152152          0.743744           \n",
       "4  1.0          0.286787   1.000000       0.152152          0.743744           \n",
       "\n",
       "       TRIM  RIESGO_VIDA  \n",
       "0  0.246246  1            \n",
       "1  1.000000  0            \n",
       "2  0.684184  0            \n",
       "3  1.000000  0            \n",
       "4  0.246246  1            \n",
       "\n",
       "[5 rows x 36 columns]"
      ]
     },
     "metadata": {},
     "output_type": "display_data"
    }
   ],
   "source": [
    "import numpy as np\n",
    "import pandas as pd\n",
    "from time import time\n",
    "import matplotlib.pyplot as plt\n",
    "from IPython.display import display \n",
    "from sklearn.metrics import fbeta_score, make_scorer\n",
    "import model_utils as utils\n",
    "\n",
    "# Pretty display for notebooks\n",
    "%matplotlib inline\n",
    "pd.set_option('display.max_colwidth', -1)\n",
    "\n",
    "dataset, features, labels = utils.getDataSet(\"datasets/dataset.csv\")"
   ]
  },
  {
   "cell_type": "markdown",
   "metadata": {},
   "source": [
    "## Shuffle and Split Data"
   ]
  },
  {
   "cell_type": "code",
   "execution_count": 15,
   "metadata": {},
   "outputs": [
    {
     "name": "stdout",
     "output_type": "stream",
     "text": [
      "features_final set has 2256602 samples.\n",
      "Training set has 1918111 samples.\n",
      "Testing set has 304641 samples.\n",
      "Validation set has 33850 samples.\n"
     ]
    }
   ],
   "source": [
    "# Import train_test_split\n",
    "from sklearn.model_selection import train_test_split\n",
    "\n",
    "# Split the 'features' and 'labels' data into training and testing sets\n",
    "X_train, X_test, y_train, y_test = train_test_split(features, labels, test_size = 0.15, random_state = 10)\n",
    "\n",
    "X_test, X_validation, y_test, y_validation = train_test_split(X_test, y_test, test_size = 0.1, random_state = 10)\n",
    "# Show the results of the split\n",
    "print \"features_final set has {} samples.\".format(features.shape[0])\n",
    "print \"Training set has {} samples.\".format(X_train.shape[0])\n",
    "print \"Testing set has {} samples.\".format(X_test.shape[0])\n",
    "print \"Validation set has {} samples.\".format(X_validation.shape[0])"
   ]
  },
  {
   "cell_type": "code",
   "execution_count": 16,
   "metadata": {},
   "outputs": [
    {
     "name": "stdout",
     "output_type": "stream",
     "text": [
      "GaussianNB trained.\n",
      "RandomForestClassifier trained.\n",
      "AdaBoostClassifier trained.\n"
     ]
    }
   ],
   "source": [
    "from sklearn.ensemble import AdaBoostClassifier\n",
    "from sklearn.ensemble import RandomForestClassifier\n",
    "from sklearn.naive_bayes import GaussianNB\n",
    "\n",
    "# Initialize the three models\n",
    "clf_A = GaussianNB()\n",
    "clf_B = RandomForestClassifier(random_state = 300)\n",
    "clf_C = AdaBoostClassifier(random_state = 300)\n",
    "\n",
    "\n",
    "# Collect results on the learners\n",
    "dfResults = pd.DataFrame(columns=['learner', 'train_time', 'pred_time', 'f_test', 'f_train'])\n",
    "\n",
    "for k, clf in enumerate([clf_A, clf_B, clf_C]):\n",
    "    clf_name = clf.__class__.__name__  \n",
    "    clf, dfResults = utils.train_predict(clf, X_train, y_train, X_test, y_test, dfResults)\n"
   ]
  },
  {
   "cell_type": "code",
   "execution_count": 17,
   "metadata": {
    "scrolled": true
   },
   "outputs": [
    {
     "data": {
      "text/html": [
       "<div>\n",
       "<style scoped>\n",
       "    .dataframe tbody tr th:only-of-type {\n",
       "        vertical-align: middle;\n",
       "    }\n",
       "\n",
       "    .dataframe tbody tr th {\n",
       "        vertical-align: top;\n",
       "    }\n",
       "\n",
       "    .dataframe thead th {\n",
       "        text-align: right;\n",
       "    }\n",
       "</style>\n",
       "<table border=\"1\" class=\"dataframe\">\n",
       "  <thead>\n",
       "    <tr style=\"text-align: right;\">\n",
       "      <th></th>\n",
       "      <th>learner</th>\n",
       "      <th>f_test</th>\n",
       "    </tr>\n",
       "  </thead>\n",
       "  <tbody>\n",
       "    <tr>\n",
       "      <th>1</th>\n",
       "      <td>RandomForestClassifier</td>\n",
       "      <td>0.725811</td>\n",
       "    </tr>\n",
       "    <tr>\n",
       "      <th>2</th>\n",
       "      <td>AdaBoostClassifier</td>\n",
       "      <td>0.660444</td>\n",
       "    </tr>\n",
       "    <tr>\n",
       "      <th>0</th>\n",
       "      <td>GaussianNB</td>\n",
       "      <td>0.634728</td>\n",
       "    </tr>\n",
       "  </tbody>\n",
       "</table>\n",
       "</div>"
      ],
      "text/plain": [
       "                  learner    f_test\n",
       "1  RandomForestClassifier  0.725811\n",
       "2  AdaBoostClassifier      0.660444\n",
       "0  GaussianNB              0.634728"
      ]
     },
     "metadata": {},
     "output_type": "display_data"
    }
   ],
   "source": [
    "display( dfResults.sort_values(by=['f_test'], ascending = False)[['learner', 'f_test']])\n"
   ]
  },
  {
   "cell_type": "markdown",
   "metadata": {},
   "source": [
    "# Tuning Models"
   ]
  },
  {
   "cell_type": "markdown",
   "metadata": {},
   "source": [
    "## Tuning RandomForestClassifier"
   ]
  },
  {
   "cell_type": "code",
   "execution_count": 18,
   "metadata": {},
   "outputs": [
    {
     "name": "stdout",
     "output_type": "stream",
     "text": [
      "Unoptimized model\n",
      "------\n",
      "F-score on testing data: 0.7258\n",
      "\n",
      "Optimized Model\n",
      "------\n",
      "Final F-score on the testing data: 0.8018\n"
     ]
    }
   ],
   "source": [
    "\n",
    "rfClassifier = RandomForestClassifier(random_state = 300)\n",
    "\n",
    "rfParameters = {    \n",
    "  'criterion':['gini', 'entropy'],\n",
    "  'max_depth':[5, 10],\n",
    "  'max_features':['auto', 'sqrt', 'log2', None],\n",
    "  'class_weight': ['balanced', 'balanced_subsample'], \n",
    "}\n",
    "\n",
    "rfClassifier = utils.tuneClassifier(rfClassifier, rfParameters, X_train, X_test, y_train, y_test)"
   ]
  },
  {
   "cell_type": "code",
   "execution_count": 19,
   "metadata": {},
   "outputs": [
    {
     "data": {
      "text/plain": [
       "{'bootstrap': True,\n",
       " 'class_weight': 'balanced_subsample',\n",
       " 'criterion': 'gini',\n",
       " 'max_depth': 10,\n",
       " 'max_features': None,\n",
       " 'max_leaf_nodes': None,\n",
       " 'min_impurity_decrease': 0.0,\n",
       " 'min_impurity_split': None,\n",
       " 'min_samples_leaf': 1,\n",
       " 'min_samples_split': 2,\n",
       " 'min_weight_fraction_leaf': 0.0,\n",
       " 'n_estimators': 10,\n",
       " 'n_jobs': None,\n",
       " 'oob_score': False,\n",
       " 'random_state': 300,\n",
       " 'verbose': 0,\n",
       " 'warm_start': False}"
      ]
     },
     "execution_count": 19,
     "metadata": {},
     "output_type": "execute_result"
    }
   ],
   "source": [
    "rfClassifier.get_params()"
   ]
  },
  {
   "cell_type": "markdown",
   "metadata": {},
   "source": [
    "## Tuning AdaBoostClassifier"
   ]
  },
  {
   "cell_type": "code",
   "execution_count": 20,
   "metadata": {
    "scrolled": true
   },
   "outputs": [
    {
     "name": "stdout",
     "output_type": "stream",
     "text": [
      "Unoptimized model\n",
      "------\n",
      "F-score on testing data: 0.6604\n",
      "\n",
      "Optimized Model\n",
      "------\n",
      "Final F-score on the testing data: 0.6604\n"
     ]
    }
   ],
   "source": [
    "\n",
    "from sklearn.ensemble import AdaBoostClassifier\n",
    "adaClassifier = AdaBoostClassifier(random_state = 300)\n",
    "\n",
    "adaParameters = {\n",
    "  'learning_rate':[0.1, 0.5, 1],\n",
    "  'algorithm' :['SAMME', 'SAMME.R']\n",
    "  #'max_features':['auto', 'sqrt', 'log2', None],\n",
    "}\n",
    "\n",
    "adaParameters = utils.tuneClassifier(adaClassifier, adaParameters, X_train, X_test, y_train, y_test)"
   ]
  },
  {
   "cell_type": "markdown",
   "metadata": {},
   "source": [
    "# Stacking\n",
    "## Stacking with to best classifiers"
   ]
  },
  {
   "cell_type": "code",
   "execution_count": 21,
   "metadata": {},
   "outputs": [
    {
     "name": "stderr",
     "output_type": "stream",
     "text": [
      "/anaconda2/lib/python2.7/site-packages/mlxtend/classifier/stacking_classification.py:154: DataConversionWarning: A column-vector y was passed when a 1d array was expected. Please change the shape of y to (n_samples,), for example using ravel().\n",
      "  clf.fit(X, y)\n",
      "/anaconda2/lib/python2.7/site-packages/mlxtend/classifier/stacking_classification.py:171: DataConversionWarning: A column-vector y was passed when a 1d array was expected. Please change the shape of y to (n_samples,), for example using ravel().\n",
      "  self.meta_clf_.fit(meta_features, y)\n"
     ]
    },
    {
     "name": "stdout",
     "output_type": "stream",
     "text": [
      "F-score on StackingClassifier: 0.7310\n"
     ]
    }
   ],
   "source": [
    "from mlxtend.classifier import StackingClassifier\n",
    "from sklearn.naive_bayes import GaussianNB\n",
    "from sklearn import model_selection\n",
    "from sklearn.metrics import fbeta_score, make_scorer\n",
    "#meta with Gaussian\n",
    "sclf = StackingClassifier(classifiers=[rfClassifier, adaClassifier], \n",
    "                          use_features_in_secondary = True,\n",
    "                          meta_classifier=RandomForestClassifier(random_state = 20))\n",
    "sclf = sclf.fit(X_train, y_train)\n",
    "sclf_predictions = sclf.predict(X_test)\n",
    "\n",
    "print \"F-score on StackingClassifier: {:.4f}\".format(fbeta_score(y_test, sclf_predictions, beta = 2))"
   ]
  },
  {
   "cell_type": "markdown",
   "metadata": {},
   "source": [
    "## Stacking with all classifiers"
   ]
  },
  {
   "cell_type": "code",
   "execution_count": 22,
   "metadata": {},
   "outputs": [
    {
     "name": "stdout",
     "output_type": "stream",
     "text": [
      "F-score on StackingClassifier: 0.7289\n"
     ]
    }
   ],
   "source": [
    "from mlxtend.classifier import StackingClassifier\n",
    "from sklearn.naive_bayes import GaussianNB\n",
    "from sklearn import model_selection\n",
    "from sklearn.metrics import fbeta_score, make_scorer\n",
    "#meta with Gaussian\n",
    "sclf2 = StackingClassifier(classifiers=[rfClassifier, adaClassifier, GaussianNB()], \n",
    "                          use_features_in_secondary = True,\n",
    "                          meta_classifier=RandomForestClassifier(random_state = 20))\n",
    "sclf2 = sclf2.fit(X_train, y_train)\n",
    "sclf_predictions2 = sclf2.predict(X_test)\n",
    "\n",
    "print \"F-score on StackingClassifier: {:.4f}\".format(fbeta_score(y_test, sclf_predictions2, beta = 2))"
   ]
  },
  {
   "cell_type": "code",
   "execution_count": 23,
   "metadata": {},
   "outputs": [
    {
     "name": "stdout",
     "output_type": "stream",
     "text": [
      "Oversampled score: 0.797041\n"
     ]
    }
   ],
   "source": [
    "from imblearn.over_sampling import RandomOverSampler\n",
    "\n",
    "ros = RandomOverSampler(sampling_strategy = 'not majority')\n",
    "X_oversampled_train, y_oversampled_train = ros.fit_sample(X_train, y_train)\n",
    "\n",
    "clfRFC = RandomForestClassifier(random_state = 300)\n",
    "clfRFC = rfClassifier.fit(X_oversampled_train, y_oversampled_train)\n",
    "predictions_test = clfRFC.predict(X_test)\n",
    "f_test =  fbeta_score(y_test, predictions_test, 2)\n",
    "print(\"Oversampled score: %f\"%(f_test))"
   ]
  },
  {
   "cell_type": "code",
   "execution_count": 24,
   "metadata": {},
   "outputs": [
    {
     "name": "stdout",
     "output_type": "stream",
     "text": [
      "WARN: OMP_NUM_THREADS=None =>\n",
      "... If you are using openblas if you are using openblas set OMP_NUM_THREADS=1 or risk subprocess calls hanging indefinitely\n"
     ]
    },
    {
     "name": "stderr",
     "output_type": "stream",
     "text": [
      "/Users/mrugeles/Documents/MLNanodegree/hyperopt-sklearn/hpsklearn/estimator.py:326: DataConversionWarning: A column-vector y was passed when a 1d array was expected. Please change the shape of y to (n_samples,), for example using ravel().\n",
      "  learner.fit(XEXfit, yfit)\n",
      "/Users/mrugeles/Documents/MLNanodegree/hyperopt-sklearn/hpsklearn/estimator.py:326: DataConversionWarning: A column-vector y was passed when a 1d array was expected. Please change the shape of y to (n_samples,), for example using ravel().\n",
      "  learner.fit(XEXfit, yfit)\n",
      "/Users/mrugeles/Documents/MLNanodegree/hyperopt-sklearn/hpsklearn/estimator.py:326: DataConversionWarning: A column-vector y was passed when a 1d array was expected. Please change the shape of y to (n_samples,), for example using ravel().\n",
      "  learner.fit(XEXfit, yfit)\n",
      "/Users/mrugeles/Documents/MLNanodegree/hyperopt-sklearn/hpsklearn/estimator.py:326: DataConversionWarning: A column-vector y was passed when a 1d array was expected. Please change the shape of y to (n_samples,), for example using ravel().\n",
      "  learner.fit(XEXfit, yfit)\n",
      "/Users/mrugeles/Documents/MLNanodegree/hyperopt-sklearn/hpsklearn/estimator.py:326: DataConversionWarning: A column-vector y was passed when a 1d array was expected. Please change the shape of y to (n_samples,), for example using ravel().\n",
      "  learner.fit(XEXfit, yfit)\n",
      "/Users/mrugeles/Documents/MLNanodegree/hyperopt-sklearn/hpsklearn/estimator.py:326: DataConversionWarning: A column-vector y was passed when a 1d array was expected. Please change the shape of y to (n_samples,), for example using ravel().\n",
      "  learner.fit(XEXfit, yfit)\n",
      "/Users/mrugeles/Documents/MLNanodegree/hyperopt-sklearn/hpsklearn/estimator.py:326: DataConversionWarning: A column-vector y was passed when a 1d array was expected. Please change the shape of y to (n_samples,), for example using ravel().\n",
      "  learner.fit(XEXfit, yfit)\n",
      "/Users/mrugeles/Documents/MLNanodegree/hyperopt-sklearn/hpsklearn/estimator.py:326: DataConversionWarning: A column-vector y was passed when a 1d array was expected. Please change the shape of y to (n_samples,), for example using ravel().\n",
      "  learner.fit(XEXfit, yfit)\n",
      "/Users/mrugeles/Documents/MLNanodegree/hyperopt-sklearn/hpsklearn/estimator.py:326: DataConversionWarning: A column-vector y was passed when a 1d array was expected. Please change the shape of y to (n_samples,), for example using ravel().\n",
      "  learner.fit(XEXfit, yfit)\n",
      "/Users/mrugeles/Documents/MLNanodegree/hyperopt-sklearn/hpsklearn/estimator.py:326: DataConversionWarning: A column-vector y was passed when a 1d array was expected. Please change the shape of y to (n_samples,), for example using ravel().\n",
      "  learner.fit(XEXfit, yfit)\n",
      "/Users/mrugeles/Documents/MLNanodegree/hyperopt-sklearn/hpsklearn/estimator.py:726: DataConversionWarning: A column-vector y was passed when a 1d array was expected. Please change the shape of y to (n_samples,), for example using ravel().\n",
      "  self._best_learner.fit(XEX, y)\n"
     ]
    },
    {
     "name": "stdout",
     "output_type": "stream",
     "text": [
      "HyperoptEstimator score: 0.761332\n"
     ]
    }
   ],
   "source": [
    "from hpsklearn import HyperoptEstimator, random_forest\n",
    "\n",
    "estim = HyperoptEstimator( classifier=random_forest('myRFC') )\n",
    "estim.fit( X_train.values, y_train.values )\n",
    "\n",
    "predictions_hyper_test = estim.predict(X_test)\n",
    "f_hyper_test =  fbeta_score(y_test, predictions_hyper_test, 2)\n",
    "print(\"HyperoptEstimator score: %f\"%(f_hyper_test))"
   ]
  },
  {
   "cell_type": "code",
   "execution_count": 25,
   "metadata": {},
   "outputs": [
    {
     "data": {
      "text/plain": [
       "['rfClassifier.joblib']"
      ]
     },
     "execution_count": 25,
     "metadata": {},
     "output_type": "execute_result"
    }
   ],
   "source": [
    "from sklearn.externals import joblib\n",
    "\n",
    "joblib.dump(rfClassifier, 'rfClassifier.joblib') "
   ]
  }
 ],
 "metadata": {
  "kernelspec": {
   "display_name": "Python 2",
   "language": "python",
   "name": "python2"
  },
  "language_info": {
   "codemirror_mode": {
    "name": "ipython",
    "version": 2
   },
   "file_extension": ".py",
   "mimetype": "text/x-python",
   "name": "python",
   "nbconvert_exporter": "python",
   "pygments_lexer": "ipython2",
   "version": "2.7.14"
  }
 },
 "nbformat": 4,
 "nbformat_minor": 2
}
