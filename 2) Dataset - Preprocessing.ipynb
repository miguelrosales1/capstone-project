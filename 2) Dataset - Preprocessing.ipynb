{
 "cells": [
  {
   "cell_type": "code",
   "execution_count": 1,
   "metadata": {},
   "outputs": [
    {
     "name": "stderr",
     "output_type": "stream",
     "text": [
      "/anaconda2/lib/python2.7/site-packages/IPython/core/interactiveshell.py:2718: DtypeWarning: Columns (1,2,3,4,5,6,7,8,9,10,12,16,19,20,21,22,23,24,39,40) have mixed types. Specify dtype option on import or set low_memory=False.\n",
      "  interactivity=interactivity, compiler=compiler, result=result)\n"
     ]
    },
    {
     "data": {
      "text/html": [
       "<div>\n",
       "<style scoped>\n",
       "    .dataframe tbody tr th:only-of-type {\n",
       "        vertical-align: middle;\n",
       "    }\n",
       "\n",
       "    .dataframe tbody tr th {\n",
       "        vertical-align: top;\n",
       "    }\n",
       "\n",
       "    .dataframe thead th {\n",
       "        text-align: right;\n",
       "    }\n",
       "</style>\n",
       "<table border=\"1\" class=\"dataframe\">\n",
       "  <thead>\n",
       "    <tr style=\"text-align: right;\">\n",
       "      <th></th>\n",
       "      <th>Unnamed: 0</th>\n",
       "      <th>AFEC_DPTO</th>\n",
       "      <th>AFEC_EDADR</th>\n",
       "      <th>AFEC_EDUC</th>\n",
       "      <th>AFEC_GENERO</th>\n",
       "      <th>AFEC_GETNICO</th>\n",
       "      <th>AFEC_MPIO</th>\n",
       "      <th>AFEC_PARENTESCO</th>\n",
       "      <th>AFEC_POBESPECIAL</th>\n",
       "      <th>AFEC_REGAFILIACION</th>\n",
       "      <th>...</th>\n",
       "      <th>PET_DPTO</th>\n",
       "      <th>PET_MPIO</th>\n",
       "      <th>PET_TIPOPER</th>\n",
       "      <th>PQR_CANAL</th>\n",
       "      <th>PQR_CLASE_SNS</th>\n",
       "      <th>PQR_ESTADO</th>\n",
       "      <th>PQR_TIPOATENCION</th>\n",
       "      <th>PQR_TIPOPETICION</th>\n",
       "      <th>RIESGO_VIDA</th>\n",
       "      <th>TRIM</th>\n",
       "    </tr>\n",
       "  </thead>\n",
       "  <tbody>\n",
       "    <tr>\n",
       "      <th>0</th>\n",
       "      <td>0</td>\n",
       "      <td>bogota d.c.</td>\n",
       "      <td>de 13 a 17 años</td>\n",
       "      <td>ninguno</td>\n",
       "      <td>mujer</td>\n",
       "      <td>no aplica</td>\n",
       "      <td>bogotá</td>\n",
       "      <td>otro</td>\n",
       "      <td>no aplica</td>\n",
       "      <td>subsidiado</td>\n",
       "      <td>...</td>\n",
       "      <td>bogota d.c.</td>\n",
       "      <td>bogotá</td>\n",
       "      <td>juridica</td>\n",
       "      <td>escrito</td>\n",
       "      <td>pqr</td>\n",
       "      <td>cerrado</td>\n",
       "      <td>peticion directa</td>\n",
       "      <td>reclamo</td>\n",
       "      <td>0</td>\n",
       "      <td>trim i</td>\n",
       "    </tr>\n",
       "    <tr>\n",
       "      <th>1</th>\n",
       "      <td>1</td>\n",
       "      <td>nariño</td>\n",
       "      <td>de 0 a 5 años</td>\n",
       "      <td>ninguno</td>\n",
       "      <td>hombre</td>\n",
       "      <td>no aplica</td>\n",
       "      <td>puerres</td>\n",
       "      <td>otro</td>\n",
       "      <td>no aplica</td>\n",
       "      <td>subsidiado</td>\n",
       "      <td>...</td>\n",
       "      <td>nariño</td>\n",
       "      <td>puerres</td>\n",
       "      <td>natural</td>\n",
       "      <td>telefonico</td>\n",
       "      <td>pqr</td>\n",
       "      <td>cerrado</td>\n",
       "      <td>0</td>\n",
       "      <td>reclamo</td>\n",
       "      <td>0</td>\n",
       "      <td>trim i</td>\n",
       "    </tr>\n",
       "    <tr>\n",
       "      <th>2</th>\n",
       "      <td>2</td>\n",
       "      <td>valle</td>\n",
       "      <td>de 13 a 17 años</td>\n",
       "      <td>secundaria</td>\n",
       "      <td>hombre</td>\n",
       "      <td>no aplica</td>\n",
       "      <td>cali</td>\n",
       "      <td>abuelo (a)</td>\n",
       "      <td>no aplica</td>\n",
       "      <td>contributivo</td>\n",
       "      <td>...</td>\n",
       "      <td>valle</td>\n",
       "      <td>cali</td>\n",
       "      <td>natural</td>\n",
       "      <td>telefonico</td>\n",
       "      <td>pqr</td>\n",
       "      <td>cerrado</td>\n",
       "      <td>0</td>\n",
       "      <td>reclamo</td>\n",
       "      <td>0</td>\n",
       "      <td>trim i</td>\n",
       "    </tr>\n",
       "    <tr>\n",
       "      <th>3</th>\n",
       "      <td>3</td>\n",
       "      <td>huila</td>\n",
       "      <td>de 13 a 17 años</td>\n",
       "      <td>universitario incompleto</td>\n",
       "      <td>hombre</td>\n",
       "      <td>no aplica</td>\n",
       "      <td>neiva</td>\n",
       "      <td>padre</td>\n",
       "      <td>no aplica</td>\n",
       "      <td>contributivo</td>\n",
       "      <td>...</td>\n",
       "      <td>huila</td>\n",
       "      <td>neiva</td>\n",
       "      <td>natural</td>\n",
       "      <td>personalizado</td>\n",
       "      <td>pqr</td>\n",
       "      <td>cerrado</td>\n",
       "      <td>0</td>\n",
       "      <td>reclamo</td>\n",
       "      <td>0</td>\n",
       "      <td>trim i</td>\n",
       "    </tr>\n",
       "    <tr>\n",
       "      <th>4</th>\n",
       "      <td>4</td>\n",
       "      <td>risaralda</td>\n",
       "      <td>de 13 a 17 años</td>\n",
       "      <td>ninguno</td>\n",
       "      <td>hombre</td>\n",
       "      <td>no aplica</td>\n",
       "      <td>dosquebradas</td>\n",
       "      <td>padre</td>\n",
       "      <td>persona en condición de discapacidad</td>\n",
       "      <td>contributivo</td>\n",
       "      <td>...</td>\n",
       "      <td>risaralda</td>\n",
       "      <td>dosquebradas</td>\n",
       "      <td>natural</td>\n",
       "      <td>personalizado</td>\n",
       "      <td>pqr</td>\n",
       "      <td>pendiente (avance)</td>\n",
       "      <td>0</td>\n",
       "      <td>reclamo</td>\n",
       "      <td>1</td>\n",
       "      <td>trim i</td>\n",
       "    </tr>\n",
       "  </tbody>\n",
       "</table>\n",
       "<p>5 rows × 44 columns</p>\n",
       "</div>"
      ],
      "text/plain": [
       "   Unnamed: 0    AFEC_DPTO       AFEC_EDADR                 AFEC_EDUC  \\\n",
       "0  0           bogota d.c.  de 13 a 17 años  ninguno                    \n",
       "1  1           nariño       de 0 a 5 años    ninguno                    \n",
       "2  2           valle        de 13 a 17 años  secundaria                 \n",
       "3  3           huila        de 13 a 17 años  universitario incompleto   \n",
       "4  4           risaralda    de 13 a 17 años  ninguno                    \n",
       "\n",
       "  AFEC_GENERO AFEC_GETNICO     AFEC_MPIO AFEC_PARENTESCO  \\\n",
       "0  mujer       no aplica    bogotá        otro             \n",
       "1  hombre      no aplica    puerres       otro             \n",
       "2  hombre      no aplica    cali          abuelo (a)       \n",
       "3  hombre      no aplica    neiva         padre            \n",
       "4  hombre      no aplica    dosquebradas  padre            \n",
       "\n",
       "                       AFEC_POBESPECIAL AFEC_REGAFILIACION   ...    \\\n",
       "0  no aplica                             subsidiado          ...     \n",
       "1  no aplica                             subsidiado          ...     \n",
       "2  no aplica                             contributivo        ...     \n",
       "3  no aplica                             contributivo        ...     \n",
       "4  persona en condición de discapacidad  contributivo        ...     \n",
       "\n",
       "      PET_DPTO      PET_MPIO PET_TIPOPER      PQR_CANAL  PQR_CLASE_SNS  \\\n",
       "0  bogota d.c.  bogotá        juridica    escrito        pqr             \n",
       "1  nariño       puerres       natural     telefonico     pqr             \n",
       "2  valle        cali          natural     telefonico     pqr             \n",
       "3  huila        neiva         natural     personalizado  pqr             \n",
       "4  risaralda    dosquebradas  natural     personalizado  pqr             \n",
       "\n",
       "           PQR_ESTADO  PQR_TIPOATENCION  PQR_TIPOPETICION  RIESGO_VIDA    TRIM  \n",
       "0  cerrado             peticion directa  reclamo           0            trim i  \n",
       "1  cerrado             0                 reclamo           0            trim i  \n",
       "2  cerrado             0                 reclamo           0            trim i  \n",
       "3  cerrado             0                 reclamo           0            trim i  \n",
       "4  pendiente (avance)  0                 reclamo           1            trim i  \n",
       "\n",
       "[5 rows x 44 columns]"
      ]
     },
     "metadata": {},
     "output_type": "display_data"
    }
   ],
   "source": [
    "import numpy as np\n",
    "import pandas as pd\n",
    "from time import time\n",
    "import matplotlib.pyplot as plt\n",
    "from IPython.display import display \n",
    "\n",
    "\n",
    "# Pretty display for notebooks\n",
    "%matplotlib inline\n",
    "pd.set_option('display.max_colwidth', -1)\n",
    "\n",
    "dataset = pd.read_csv(\"datasets/dataset_clean.csv\")\n",
    "dataset['RIESGO_VIDA'] = np.where(dataset['RIESGO_VIDA'] == 'si', 1,0)\n",
    "display(dataset.head(n = 5))"
   ]
  },
  {
   "cell_type": "code",
   "execution_count": 8,
   "metadata": {},
   "outputs": [
    {
     "data": {
      "text/html": [
       "<div>\n",
       "<style scoped>\n",
       "    .dataframe tbody tr th:only-of-type {\n",
       "        vertical-align: middle;\n",
       "    }\n",
       "\n",
       "    .dataframe tbody tr th {\n",
       "        vertical-align: top;\n",
       "    }\n",
       "\n",
       "    .dataframe thead th {\n",
       "        text-align: right;\n",
       "    }\n",
       "</style>\n",
       "<table border=\"1\" class=\"dataframe\">\n",
       "  <thead>\n",
       "    <tr style=\"text-align: right;\">\n",
       "      <th></th>\n",
       "      <th>COD_MACROMOT</th>\n",
       "    </tr>\n",
       "  </thead>\n",
       "  <tbody>\n",
       "    <tr>\n",
       "      <th>0</th>\n",
       "      <td>1</td>\n",
       "    </tr>\n",
       "    <tr>\n",
       "      <th>10</th>\n",
       "      <td>2</td>\n",
       "    </tr>\n",
       "    <tr>\n",
       "      <th>390</th>\n",
       "      <td>3</td>\n",
       "    </tr>\n",
       "    <tr>\n",
       "      <th>12</th>\n",
       "      <td>4</td>\n",
       "    </tr>\n",
       "    <tr>\n",
       "      <th>44</th>\n",
       "      <td>5</td>\n",
       "    </tr>\n",
       "    <tr>\n",
       "      <th>403657</th>\n",
       "      <td>8</td>\n",
       "    </tr>\n",
       "    <tr>\n",
       "      <th>406399</th>\n",
       "      <td>9</td>\n",
       "    </tr>\n",
       "    <tr>\n",
       "      <th>240</th>\n",
       "      <td>10</td>\n",
       "    </tr>\n",
       "  </tbody>\n",
       "</table>\n",
       "</div>"
      ],
      "text/plain": [
       "        COD_MACROMOT\n",
       "0       1           \n",
       "10      2           \n",
       "390     3           \n",
       "12      4           \n",
       "44      5           \n",
       "403657  8           \n",
       "406399  9           \n",
       "240     10          "
      ]
     },
     "metadata": {},
     "output_type": "display_data"
    }
   ],
   "source": [
    "display(dataset[['COD_MACROMOT']].drop_duplicates().sort_values(by=['COD_MACROMOT']))"
   ]
  },
  {
   "cell_type": "markdown",
   "metadata": {},
   "source": [
    "# Data Exploration"
   ]
  },
  {
   "cell_type": "markdown",
   "metadata": {},
   "source": [
    "## Features Class Distribution"
   ]
  },
  {
   "cell_type": "code",
   "execution_count": 2,
   "metadata": {},
   "outputs": [
    {
     "data": {
      "text/html": [
       "<div>\n",
       "<style scoped>\n",
       "    .dataframe tbody tr th:only-of-type {\n",
       "        vertical-align: middle;\n",
       "    }\n",
       "\n",
       "    .dataframe tbody tr th {\n",
       "        vertical-align: top;\n",
       "    }\n",
       "\n",
       "    .dataframe thead th {\n",
       "        text-align: right;\n",
       "    }\n",
       "</style>\n",
       "<table border=\"1\" class=\"dataframe\">\n",
       "  <thead>\n",
       "    <tr style=\"text-align: right;\">\n",
       "      <th></th>\n",
       "      <th>Feature</th>\n",
       "      <th>Distinct Values</th>\n",
       "    </tr>\n",
       "  </thead>\n",
       "  <tbody>\n",
       "    <tr>\n",
       "      <th>0</th>\n",
       "      <td>AFEC_DPTO</td>\n",
       "      <td>36</td>\n",
       "    </tr>\n",
       "    <tr>\n",
       "      <th>1</th>\n",
       "      <td>AFEC_EDADR</td>\n",
       "      <td>11</td>\n",
       "    </tr>\n",
       "    <tr>\n",
       "      <th>2</th>\n",
       "      <td>AFEC_EDUC</td>\n",
       "      <td>10</td>\n",
       "    </tr>\n",
       "    <tr>\n",
       "      <th>3</th>\n",
       "      <td>AFEC_GENERO</td>\n",
       "      <td>4</td>\n",
       "    </tr>\n",
       "    <tr>\n",
       "      <th>4</th>\n",
       "      <td>AFEC_GETNICO</td>\n",
       "      <td>10</td>\n",
       "    </tr>\n",
       "  </tbody>\n",
       "</table>\n",
       "</div>"
      ],
      "text/plain": [
       "        Feature  Distinct Values\n",
       "0  AFEC_DPTO     36             \n",
       "1  AFEC_EDADR    11             \n",
       "2  AFEC_EDUC     10             \n",
       "3  AFEC_GENERO   4              \n",
       "4  AFEC_GETNICO  10             "
      ]
     },
     "metadata": {},
     "output_type": "display_data"
    }
   ],
   "source": [
    "dataset = dataset.drop(['Unnamed: 0'], axis = 1)\n",
    "dfColumns = pd.DataFrame(columns=['Feature','Distinct Values'])\n",
    "\n",
    "for colName in dataset.columns.values:\n",
    "    dfColumns = dfColumns.append({'Feature': colName, 'Distinct Values': dataset[colName].unique().size}, ignore_index=True)\n",
    "dfColumns = dfColumns.infer_objects()\n",
    "display(dfColumns.head(n = 5))\n",
    "\n"
   ]
  },
  {
   "cell_type": "code",
   "execution_count": 3,
   "metadata": {},
   "outputs": [
    {
     "data": {
      "text/plain": [
       "<matplotlib.axes._subplots.AxesSubplot at 0x10fd40d10>"
      ]
     },
     "execution_count": 3,
     "metadata": {},
     "output_type": "execute_result"
    },
    {
     "data": {
      "image/png": "[encoded data removed]",
      "text/plain": [
       "<matplotlib.figure.Figure at 0x10c98ae90>"
      ]
     },
     "metadata": {},
     "output_type": "display_data"
    }
   ],
   "source": [
    "dfColumns.plot( kind='bar', figsize = (15,5))"
   ]
  },
  {
   "cell_type": "markdown",
   "metadata": {},
   "source": [
    "## Data overview"
   ]
  },
  {
   "cell_type": "code",
   "execution_count": 4,
   "metadata": {},
   "outputs": [
    {
     "name": "stdout",
     "output_type": "stream",
     "text": [
      "Total number of records: 2,130,783\n",
      "Individuals with life at risk: 288,811\n",
      "Individuals with life not at risk: 1,841,972\n",
      "Percentage of individuals with life at risk: 13.55%\n"
     ]
    }
   ],
   "source": [
    "from __future__ import division\n",
    "# TODO: Total number of records\n",
    "n_records = dataset['RIESGO_VIDA'].count()\n",
    "\n",
    "# TODO: Number of records where individual's life is at risk\n",
    "life_risk = dataset[dataset[\"RIESGO_VIDA\"] == 1]\n",
    "n_life_risk = life_risk['RIESGO_VIDA'].count()\n",
    "\n",
    "# TODO: Number of records where individual's life is not at risk\n",
    "no_life_risk =  dataset[dataset[\"RIESGO_VIDA\"] == 0]\n",
    "n_no_life_risk = no_life_risk['RIESGO_VIDA'].count()\n",
    "\n",
    "# TODO: Percentage of individuals whose income is more than $50,000\n",
    "greater_percent = (n_life_risk/n_records)*100\n",
    "\n",
    "# Print the results\n",
    "print \"Total number of records: {:,}\".format(n_records)\n",
    "print \"Individuals with life at risk: {:,}\".format(n_life_risk)\n",
    "print \"Individuals with life not at risk: {:,}\".format(n_no_life_risk)\n",
    "print \"Percentage of individuals with life at risk: {:.2f}%\".format(greater_percent)"
   ]
  },
  {
   "cell_type": "markdown",
   "metadata": {},
   "source": [
    "## Encoding dataset\n",
    "\n",
    "All features in the dataset are categorical. Some of them have too many classes to be one hot encoded. Mean encoding transformation will be perform on the dataset to encode features instead hot encoding it."
   ]
  },
  {
   "cell_type": "code",
   "execution_count": 5,
   "metadata": {},
   "outputs": [
    {
     "name": "stdout",
     "output_type": "stream",
     "text": [
      "Encoding: AFEC_DPTO\n",
      "Encoding: AFEC_EDADR\n",
      "Encoding: AFEC_EDUC\n",
      "Encoding: AFEC_GENERO\n",
      "Encoding: AFEC_GETNICO\n",
      "Encoding: AFEC_MPIO\n",
      "Encoding: AFEC_PARENTESCO\n",
      "Encoding: AFEC_POBESPECIAL\n",
      "Encoding: AFEC_REGAFILIACION\n",
      "Encoding: AFEC_TIPOPER\n",
      "Encoding: ALTO_COSTO\n",
      "Encoding: CIE_10\n",
      "Encoding: COD_MACROMOT\n"
     ]
    },
    {
     "name": "stderr",
     "output_type": "stream",
     "text": [
      "/anaconda2/lib/python2.7/site-packages/pandas/core/ops.py:816: FutureWarning: elementwise comparison failed; returning scalar instead, but in the future will perform elementwise comparison\n",
      "  result = getattr(x, name)(y)\n"
     ]
    },
    {
     "ename": "TypeError",
     "evalue": "invalid type comparison",
     "output_type": "error",
     "traceback": [
      "\u001b[0;31m---------------------------------------------------------------------------\u001b[0m",
      "\u001b[0;31mTypeError\u001b[0m                                 Traceback (most recent call last)",
      "\u001b[0;32m<ipython-input-5-74544bc7f789>\u001b[0m in \u001b[0;36m<module>\u001b[0;34m()\u001b[0m\n\u001b[1;32m      3\u001b[0m \u001b[0mfeatures_columns\u001b[0m\u001b[0;34m.\u001b[0m\u001b[0mremove\u001b[0m\u001b[0;34m(\u001b[0m\u001b[0;34m'RIESGO_VIDA'\u001b[0m\u001b[0;34m)\u001b[0m\u001b[0;34m\u001b[0m\u001b[0m\n\u001b[1;32m      4\u001b[0m \u001b[0mp\u001b[0m \u001b[0;34m=\u001b[0m \u001b[0mpreprocess\u001b[0m\u001b[0;34m.\u001b[0m\u001b[0mPreprocess\u001b[0m\u001b[0;34m(\u001b[0m\u001b[0;34m)\u001b[0m\u001b[0;34m\u001b[0m\u001b[0m\n\u001b[0;32m----> 5\u001b[0;31m \u001b[0mdataset_encoded\u001b[0m \u001b[0;34m=\u001b[0m \u001b[0mp\u001b[0m\u001b[0;34m.\u001b[0m\u001b[0mencodeFeatures\u001b[0m\u001b[0;34m(\u001b[0m\u001b[0mp\u001b[0m\u001b[0;34m.\u001b[0m\u001b[0mlikeliHood\u001b[0m\u001b[0;34m,\u001b[0m \u001b[0mdataset\u001b[0m\u001b[0;34m,\u001b[0m \u001b[0mfeatures_columns\u001b[0m\u001b[0;34m,\u001b[0m \u001b[0;34m'RIESGO_VIDA'\u001b[0m\u001b[0;34m)\u001b[0m\u001b[0;34m\u001b[0m\u001b[0m\n\u001b[0m\u001b[1;32m      6\u001b[0m \u001b[0mdisplay\u001b[0m\u001b[0;34m(\u001b[0m\u001b[0mdataset_encoded\u001b[0m\u001b[0;34m)\u001b[0m\u001b[0;34m\u001b[0m\u001b[0m\n",
      "\u001b[0;32m/Users/mrugeles/Documents/MLNanodegree/capstone_source/src/preprocess.py\u001b[0m in \u001b[0;36mencodeFeatures\u001b[0;34m(self, f, df, features, targetColumn)\u001b[0m\n\u001b[1;32m     22\u001b[0m         \u001b[0;32mfor\u001b[0m \u001b[0mfeature\u001b[0m \u001b[0;32min\u001b[0m \u001b[0mfeatures\u001b[0m\u001b[0;34m:\u001b[0m\u001b[0;34m\u001b[0m\u001b[0m\n\u001b[1;32m     23\u001b[0m             \u001b[0;32mprint\u001b[0m\u001b[0;34m(\u001b[0m\u001b[0;34m\"Encoding: %s\"\u001b[0m \u001b[0;34m%\u001b[0m \u001b[0mfeature\u001b[0m\u001b[0;34m)\u001b[0m\u001b[0;34m\u001b[0m\u001b[0m\n\u001b[0;32m---> 24\u001b[0;31m             \u001b[0mdf\u001b[0m \u001b[0;34m=\u001b[0m \u001b[0mself\u001b[0m\u001b[0;34m.\u001b[0m\u001b[0mencodeFeature\u001b[0m\u001b[0;34m(\u001b[0m\u001b[0mf\u001b[0m\u001b[0;34m,\u001b[0m \u001b[0mdf\u001b[0m\u001b[0;34m,\u001b[0m \u001b[0mfeature\u001b[0m\u001b[0;34m,\u001b[0m \u001b[0mtargetColumn\u001b[0m\u001b[0;34m)\u001b[0m\u001b[0;34m\u001b[0m\u001b[0m\n\u001b[0m\u001b[1;32m     25\u001b[0m         \u001b[0;32mreturn\u001b[0m \u001b[0mdf\u001b[0m\u001b[0;34m\u001b[0m\u001b[0m\n",
      "\u001b[0;32m/Users/mrugeles/Documents/MLNanodegree/capstone_source/src/preprocess.py\u001b[0m in \u001b[0;36mencodeFeature\u001b[0;34m(self, f, df, featureColumn, targetColumn)\u001b[0m\n\u001b[1;32m     14\u001b[0m         \u001b[0mvalues\u001b[0m \u001b[0;34m=\u001b[0m \u001b[0mdf\u001b[0m\u001b[0;34m[\u001b[0m\u001b[0;34m[\u001b[0m\u001b[0mfeatureColumn\u001b[0m\u001b[0;34m]\u001b[0m\u001b[0;34m]\u001b[0m\u001b[0;34m.\u001b[0m\u001b[0mdrop_duplicates\u001b[0m\u001b[0;34m(\u001b[0m\u001b[0;34m)\u001b[0m\u001b[0;34m.\u001b[0m\u001b[0mastype\u001b[0m\u001b[0;34m(\u001b[0m\u001b[0;34m'str'\u001b[0m\u001b[0;34m)\u001b[0m\u001b[0;34m.\u001b[0m\u001b[0mvalues\u001b[0m\u001b[0;34m.\u001b[0m\u001b[0mflatten\u001b[0m\u001b[0;34m(\u001b[0m\u001b[0;34m)\u001b[0m\u001b[0;34m\u001b[0m\u001b[0m\n\u001b[1;32m     15\u001b[0m         \u001b[0;32mfor\u001b[0m \u001b[0mvalue\u001b[0m \u001b[0;32min\u001b[0m \u001b[0mvalues\u001b[0m\u001b[0;34m:\u001b[0m\u001b[0;34m\u001b[0m\u001b[0m\n\u001b[0;32m---> 16\u001b[0;31m             \u001b[0mtotalPositive\u001b[0m \u001b[0;34m=\u001b[0m \u001b[0mfloat\u001b[0m\u001b[0;34m(\u001b[0m\u001b[0mlen\u001b[0m\u001b[0;34m(\u001b[0m\u001b[0mdf\u001b[0m\u001b[0;34m[\u001b[0m\u001b[0;34m(\u001b[0m\u001b[0mdf\u001b[0m\u001b[0;34m[\u001b[0m\u001b[0mfeatureColumn\u001b[0m\u001b[0;34m]\u001b[0m \u001b[0;34m==\u001b[0m \u001b[0mvalue\u001b[0m\u001b[0;34m)\u001b[0m \u001b[0;34m&\u001b[0m \u001b[0;34m(\u001b[0m\u001b[0mdf\u001b[0m\u001b[0;34m[\u001b[0m\u001b[0mtargetColumn\u001b[0m\u001b[0;34m]\u001b[0m \u001b[0;34m==\u001b[0m \u001b[0;36m1\u001b[0m\u001b[0;34m)\u001b[0m\u001b[0;34m]\u001b[0m\u001b[0;34m.\u001b[0m\u001b[0mindex\u001b[0m\u001b[0;34m)\u001b[0m\u001b[0;34m)\u001b[0m\u001b[0;34m\u001b[0m\u001b[0m\n\u001b[0m\u001b[1;32m     17\u001b[0m             \u001b[0mtotalNegative\u001b[0m \u001b[0;34m=\u001b[0m \u001b[0mfloat\u001b[0m\u001b[0;34m(\u001b[0m\u001b[0mlen\u001b[0m\u001b[0;34m(\u001b[0m\u001b[0mdf\u001b[0m\u001b[0;34m[\u001b[0m\u001b[0;34m(\u001b[0m\u001b[0mdf\u001b[0m\u001b[0;34m[\u001b[0m\u001b[0mfeatureColumn\u001b[0m\u001b[0;34m]\u001b[0m \u001b[0;34m==\u001b[0m \u001b[0mvalue\u001b[0m\u001b[0;34m)\u001b[0m \u001b[0;34m&\u001b[0m \u001b[0;34m(\u001b[0m\u001b[0mdf\u001b[0m\u001b[0;34m[\u001b[0m\u001b[0mtargetColumn\u001b[0m\u001b[0;34m]\u001b[0m \u001b[0;34m==\u001b[0m \u001b[0;36m0\u001b[0m\u001b[0;34m)\u001b[0m\u001b[0;34m]\u001b[0m\u001b[0;34m.\u001b[0m\u001b[0mindex\u001b[0m\u001b[0;34m)\u001b[0m\u001b[0;34m)\u001b[0m\u001b[0;34m\u001b[0m\u001b[0m\n\u001b[1;32m     18\u001b[0m             \u001b[0mdf\u001b[0m\u001b[0;34m.\u001b[0m\u001b[0mloc\u001b[0m\u001b[0;34m[\u001b[0m\u001b[0mdf\u001b[0m\u001b[0;34m[\u001b[0m\u001b[0mfeatureColumn\u001b[0m\u001b[0;34m]\u001b[0m \u001b[0;34m==\u001b[0m \u001b[0mvalue\u001b[0m\u001b[0;34m,\u001b[0m \u001b[0mfeatureColumn\u001b[0m\u001b[0;34m]\u001b[0m \u001b[0;34m=\u001b[0m \u001b[0mf\u001b[0m\u001b[0;34m(\u001b[0m\u001b[0mtotalPositive\u001b[0m\u001b[0;34m,\u001b[0m \u001b[0mtotalNegative\u001b[0m\u001b[0;34m)\u001b[0m\u001b[0;34m\u001b[0m\u001b[0m\n",
      "\u001b[0;32m/anaconda2/lib/python2.7/site-packages/pandas/core/ops.pyc\u001b[0m in \u001b[0;36mwrapper\u001b[0;34m(self, other, axis)\u001b[0m\n\u001b[1;32m    877\u001b[0m \u001b[0;34m\u001b[0m\u001b[0m\n\u001b[1;32m    878\u001b[0m             \u001b[0;32mwith\u001b[0m \u001b[0mnp\u001b[0m\u001b[0;34m.\u001b[0m\u001b[0merrstate\u001b[0m\u001b[0;34m(\u001b[0m\u001b[0mall\u001b[0m\u001b[0;34m=\u001b[0m\u001b[0;34m'ignore'\u001b[0m\u001b[0;34m)\u001b[0m\u001b[0;34m:\u001b[0m\u001b[0;34m\u001b[0m\u001b[0m\n\u001b[0;32m--> 879\u001b[0;31m                 \u001b[0mres\u001b[0m \u001b[0;34m=\u001b[0m \u001b[0mna_op\u001b[0m\u001b[0;34m(\u001b[0m\u001b[0mvalues\u001b[0m\u001b[0;34m,\u001b[0m \u001b[0mother\u001b[0m\u001b[0;34m)\u001b[0m\u001b[0;34m\u001b[0m\u001b[0m\n\u001b[0m\u001b[1;32m    880\u001b[0m             \u001b[0;32mif\u001b[0m \u001b[0mis_scalar\u001b[0m\u001b[0;34m(\u001b[0m\u001b[0mres\u001b[0m\u001b[0;34m)\u001b[0m\u001b[0;34m:\u001b[0m\u001b[0;34m\u001b[0m\u001b[0m\n\u001b[1;32m    881\u001b[0m                 raise TypeError('Could not compare {typ} type with Series'\n",
      "\u001b[0;32m/anaconda2/lib/python2.7/site-packages/pandas/core/ops.pyc\u001b[0m in \u001b[0;36mna_op\u001b[0;34m(x, y)\u001b[0m\n\u001b[1;32m    816\u001b[0m                     \u001b[0mresult\u001b[0m \u001b[0;34m=\u001b[0m \u001b[0mgetattr\u001b[0m\u001b[0;34m(\u001b[0m\u001b[0mx\u001b[0m\u001b[0;34m,\u001b[0m \u001b[0mname\u001b[0m\u001b[0;34m)\u001b[0m\u001b[0;34m(\u001b[0m\u001b[0my\u001b[0m\u001b[0;34m)\u001b[0m\u001b[0;34m\u001b[0m\u001b[0m\n\u001b[1;32m    817\u001b[0m                 \u001b[0;32mif\u001b[0m \u001b[0mresult\u001b[0m \u001b[0;32mis\u001b[0m \u001b[0mNotImplemented\u001b[0m\u001b[0;34m:\u001b[0m\u001b[0;34m\u001b[0m\u001b[0m\n\u001b[0;32m--> 818\u001b[0;31m                     \u001b[0;32mraise\u001b[0m \u001b[0mTypeError\u001b[0m\u001b[0;34m(\u001b[0m\u001b[0;34m\"invalid type comparison\"\u001b[0m\u001b[0;34m)\u001b[0m\u001b[0;34m\u001b[0m\u001b[0m\n\u001b[0m\u001b[1;32m    819\u001b[0m             \u001b[0;32mexcept\u001b[0m \u001b[0mAttributeError\u001b[0m\u001b[0;34m:\u001b[0m\u001b[0;34m\u001b[0m\u001b[0m\n\u001b[1;32m    820\u001b[0m                 \u001b[0mresult\u001b[0m \u001b[0;34m=\u001b[0m \u001b[0mop\u001b[0m\u001b[0;34m(\u001b[0m\u001b[0mx\u001b[0m\u001b[0;34m,\u001b[0m \u001b[0my\u001b[0m\u001b[0;34m)\u001b[0m\u001b[0;34m\u001b[0m\u001b[0m\n",
      "\u001b[0;31mTypeError\u001b[0m: invalid type comparison"
     ]
    }
   ],
   "source": [
    "features_columns = dataset.columns.values.tolist()\n",
    "from src import preprocess\n",
    "features_columns.remove('RIESGO_VIDA')\n",
    "p = preprocess.Preprocess()\n",
    "dataset_encoded = p.encodeFeatures(p.likeliHood, dataset, features_columns, 'RIESGO_VIDA')\n",
    "display(dataset_encoded)  \n"
   ]
  }
 ],
 "metadata": {
  "kernelspec": {
   "display_name": "Python 2",
   "language": "python",
   "name": "python2"
  },
  "language_info": {
   "codemirror_mode": {
    "name": "ipython",
    "version": 2
   },
   "file_extension": ".py",
   "mimetype": "text/x-python",
   "name": "python",
   "nbconvert_exporter": "python",
   "pygments_lexer": "ipython2",
   "version": "2.7.14"
  }
 },
 "nbformat": 4,
 "nbformat_minor": 2
}
