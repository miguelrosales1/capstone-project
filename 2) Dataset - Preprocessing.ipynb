{
 "cells": [
  {
   "cell_type": "code",
   "execution_count": 1,
   "metadata": {},
   "outputs": [
    {
     "name": "stderr",
     "output_type": "stream",
     "text": [
      "/anaconda2/lib/python2.7/site-packages/IPython/core/interactiveshell.py:2718: DtypeWarning: Columns (1,2,3,4,5,6,7,8,9,10,12,16,19,20,21,22,23,24,39,40) have mixed types. Specify dtype option on import or set low_memory=False.\n",
      "  interactivity=interactivity, compiler=compiler, result=result)\n"
     ]
    },
    {
     "data": {
      "text/html": [
       "<div>\n",
       "<style scoped>\n",
       "    .dataframe tbody tr th:only-of-type {\n",
       "        vertical-align: middle;\n",
       "    }\n",
       "\n",
       "    .dataframe tbody tr th {\n",
       "        vertical-align: top;\n",
       "    }\n",
       "\n",
       "    .dataframe thead th {\n",
       "        text-align: right;\n",
       "    }\n",
       "</style>\n",
       "<table border=\"1\" class=\"dataframe\">\n",
       "  <thead>\n",
       "    <tr style=\"text-align: right;\">\n",
       "      <th></th>\n",
       "      <th>AFEC_DPTO</th>\n",
       "      <th>AFEC_EDADR</th>\n",
       "      <th>AFEC_EDUC</th>\n",
       "      <th>AFEC_GENERO</th>\n",
       "      <th>AFEC_GETNICO</th>\n",
       "      <th>AFEC_MPIO</th>\n",
       "      <th>AFEC_PARENTESCO</th>\n",
       "      <th>AFEC_POBESPECIAL</th>\n",
       "      <th>AFEC_REGAFILIACION</th>\n",
       "      <th>AFEC_TIPOPER</th>\n",
       "      <th>...</th>\n",
       "      <th>PET_DPTO</th>\n",
       "      <th>PET_MPIO</th>\n",
       "      <th>PET_TIPOPER</th>\n",
       "      <th>PQR_CANAL</th>\n",
       "      <th>PQR_CLASE_SNS</th>\n",
       "      <th>PQR_ESTADO</th>\n",
       "      <th>PQR_TIPOATENCION</th>\n",
       "      <th>PQR_TIPOPETICION</th>\n",
       "      <th>RIESGO_VIDA</th>\n",
       "      <th>TRIM</th>\n",
       "    </tr>\n",
       "  </thead>\n",
       "  <tbody>\n",
       "    <tr>\n",
       "      <th>0</th>\n",
       "      <td>bogota d.c.</td>\n",
       "      <td>de 13 a 17 años</td>\n",
       "      <td>ninguno</td>\n",
       "      <td>mujer</td>\n",
       "      <td>no aplica</td>\n",
       "      <td>bogotá</td>\n",
       "      <td>otro</td>\n",
       "      <td>no aplica</td>\n",
       "      <td>subsidiado</td>\n",
       "      <td>natural</td>\n",
       "      <td>...</td>\n",
       "      <td>bogota d.c.</td>\n",
       "      <td>bogotá</td>\n",
       "      <td>juridica</td>\n",
       "      <td>escrito</td>\n",
       "      <td>pqr</td>\n",
       "      <td>cerrado</td>\n",
       "      <td>peticion directa</td>\n",
       "      <td>reclamo</td>\n",
       "      <td>0</td>\n",
       "      <td>trim i</td>\n",
       "    </tr>\n",
       "    <tr>\n",
       "      <th>1</th>\n",
       "      <td>nariño</td>\n",
       "      <td>de 0 a 5 años</td>\n",
       "      <td>ninguno</td>\n",
       "      <td>hombre</td>\n",
       "      <td>no aplica</td>\n",
       "      <td>puerres</td>\n",
       "      <td>otro</td>\n",
       "      <td>no aplica</td>\n",
       "      <td>subsidiado</td>\n",
       "      <td>natural</td>\n",
       "      <td>...</td>\n",
       "      <td>nariño</td>\n",
       "      <td>puerres</td>\n",
       "      <td>natural</td>\n",
       "      <td>telefonico</td>\n",
       "      <td>pqr</td>\n",
       "      <td>cerrado</td>\n",
       "      <td>0</td>\n",
       "      <td>reclamo</td>\n",
       "      <td>0</td>\n",
       "      <td>trim i</td>\n",
       "    </tr>\n",
       "    <tr>\n",
       "      <th>2</th>\n",
       "      <td>valle</td>\n",
       "      <td>de 13 a 17 años</td>\n",
       "      <td>secundaria</td>\n",
       "      <td>hombre</td>\n",
       "      <td>no aplica</td>\n",
       "      <td>cali</td>\n",
       "      <td>abuelo (a)</td>\n",
       "      <td>no aplica</td>\n",
       "      <td>contributivo</td>\n",
       "      <td>natural</td>\n",
       "      <td>...</td>\n",
       "      <td>valle</td>\n",
       "      <td>cali</td>\n",
       "      <td>natural</td>\n",
       "      <td>telefonico</td>\n",
       "      <td>pqr</td>\n",
       "      <td>cerrado</td>\n",
       "      <td>0</td>\n",
       "      <td>reclamo</td>\n",
       "      <td>0</td>\n",
       "      <td>trim i</td>\n",
       "    </tr>\n",
       "    <tr>\n",
       "      <th>3</th>\n",
       "      <td>huila</td>\n",
       "      <td>de 13 a 17 años</td>\n",
       "      <td>universitario incompleto</td>\n",
       "      <td>hombre</td>\n",
       "      <td>no aplica</td>\n",
       "      <td>neiva</td>\n",
       "      <td>padre</td>\n",
       "      <td>no aplica</td>\n",
       "      <td>contributivo</td>\n",
       "      <td>natural</td>\n",
       "      <td>...</td>\n",
       "      <td>huila</td>\n",
       "      <td>neiva</td>\n",
       "      <td>natural</td>\n",
       "      <td>personalizado</td>\n",
       "      <td>pqr</td>\n",
       "      <td>cerrado</td>\n",
       "      <td>0</td>\n",
       "      <td>reclamo</td>\n",
       "      <td>0</td>\n",
       "      <td>trim i</td>\n",
       "    </tr>\n",
       "    <tr>\n",
       "      <th>4</th>\n",
       "      <td>risaralda</td>\n",
       "      <td>de 13 a 17 años</td>\n",
       "      <td>ninguno</td>\n",
       "      <td>hombre</td>\n",
       "      <td>no aplica</td>\n",
       "      <td>dosquebradas</td>\n",
       "      <td>padre</td>\n",
       "      <td>persona en condición de discapacidad</td>\n",
       "      <td>contributivo</td>\n",
       "      <td>natural</td>\n",
       "      <td>...</td>\n",
       "      <td>risaralda</td>\n",
       "      <td>dosquebradas</td>\n",
       "      <td>natural</td>\n",
       "      <td>personalizado</td>\n",
       "      <td>pqr</td>\n",
       "      <td>pendiente (avance)</td>\n",
       "      <td>0</td>\n",
       "      <td>reclamo</td>\n",
       "      <td>1</td>\n",
       "      <td>trim i</td>\n",
       "    </tr>\n",
       "  </tbody>\n",
       "</table>\n",
       "<p>5 rows × 43 columns</p>\n",
       "</div>"
      ],
      "text/plain": [
       "     AFEC_DPTO       AFEC_EDADR                 AFEC_EDUC AFEC_GENERO  \\\n",
       "0  bogota d.c.  de 13 a 17 años  ninguno                   mujer        \n",
       "1  nariño       de 0 a 5 años    ninguno                   hombre       \n",
       "2  valle        de 13 a 17 años  secundaria                hombre       \n",
       "3  huila        de 13 a 17 años  universitario incompleto  hombre       \n",
       "4  risaralda    de 13 a 17 años  ninguno                   hombre       \n",
       "\n",
       "  AFEC_GETNICO     AFEC_MPIO AFEC_PARENTESCO  \\\n",
       "0  no aplica    bogotá        otro             \n",
       "1  no aplica    puerres       otro             \n",
       "2  no aplica    cali          abuelo (a)       \n",
       "3  no aplica    neiva         padre            \n",
       "4  no aplica    dosquebradas  padre            \n",
       "\n",
       "                       AFEC_POBESPECIAL AFEC_REGAFILIACION AFEC_TIPOPER  \\\n",
       "0  no aplica                             subsidiado         natural       \n",
       "1  no aplica                             subsidiado         natural       \n",
       "2  no aplica                             contributivo       natural       \n",
       "3  no aplica                             contributivo       natural       \n",
       "4  persona en condición de discapacidad  contributivo       natural       \n",
       "\n",
       "    ...       PET_DPTO      PET_MPIO  PET_TIPOPER      PQR_CANAL  \\\n",
       "0   ...    bogota d.c.  bogotá        juridica     escrito         \n",
       "1   ...    nariño       puerres       natural      telefonico      \n",
       "2   ...    valle        cali          natural      telefonico      \n",
       "3   ...    huila        neiva         natural      personalizado   \n",
       "4   ...    risaralda    dosquebradas  natural      personalizado   \n",
       "\n",
       "   PQR_CLASE_SNS          PQR_ESTADO  PQR_TIPOATENCION  PQR_TIPOPETICION  \\\n",
       "0  pqr            cerrado             peticion directa  reclamo            \n",
       "1  pqr            cerrado             0                 reclamo            \n",
       "2  pqr            cerrado             0                 reclamo            \n",
       "3  pqr            cerrado             0                 reclamo            \n",
       "4  pqr            pendiente (avance)  0                 reclamo            \n",
       "\n",
       "  RIESGO_VIDA    TRIM  \n",
       "0  0           trim i  \n",
       "1  0           trim i  \n",
       "2  0           trim i  \n",
       "3  0           trim i  \n",
       "4  1           trim i  \n",
       "\n",
       "[5 rows x 43 columns]"
      ]
     },
     "metadata": {},
     "output_type": "display_data"
    }
   ],
   "source": [
    "import numpy as np\n",
    "import pandas as pd\n",
    "from time import time\n",
    "import matplotlib.pyplot as plt\n",
    "from IPython.display import display \n",
    "\n",
    "\n",
    "# Pretty display for notebooks\n",
    "%matplotlib inline\n",
    "pd.set_option('display.max_colwidth', -1)\n",
    "\n",
    "dataset = pd.read_csv(\"datasets/dataset_clean.csv.gz\", compression='gzip')\n",
    "dataset['RIESGO_VIDA'] = np.where(dataset['RIESGO_VIDA'] == 'si', 1,0)\n",
    "dataset = dataset.drop(['Unnamed: 0'], axis = 1)\n",
    "display(dataset.head(n = 5))\n",
    "\n",
    "labels_raw = dataset[['RIESGO_VIDA']]\n",
    "features_raw = dataset.drop(['RIESGO_VIDA'], axis = 1)"
   ]
  },
  {
   "cell_type": "markdown",
   "metadata": {},
   "source": [
    "# Data Exploration"
   ]
  },
  {
   "cell_type": "markdown",
   "metadata": {},
   "source": [
    "## Features Class Distribution"
   ]
  },
  {
   "cell_type": "code",
   "execution_count": 2,
   "metadata": {},
   "outputs": [
    {
     "data": {
      "image/png": "[encoded data removed]",
      "text/plain": [
       "<matplotlib.figure.Figure at 0x10c897ed0>"
      ]
     },
     "metadata": {},
     "output_type": "display_data"
    }
   ],
   "source": [
    "\n",
    "def getFeaturesDistribution(features):\n",
    "    dfColumns = pd.DataFrame(columns=['Feature','Distinct Values'])\n",
    "    for colName in features.columns.values:\n",
    "        dfColumns = dfColumns.append({'Feature': colName, 'Distinct Values': features[colName].unique().size}, ignore_index=True)\n",
    "    return dfColumns.infer_objects()\n",
    "\n",
    "def showFeaturesDistribution(dfColumns):\n",
    "    dfFeatures = dfColumns.copy(deep=True)\n",
    "    dfFeatures.set_index(\"Feature\",drop=True,inplace=True)\n",
    "    dfFeatures.plot( kind='bar', figsize = (15,5))\n",
    "dfColumns = getFeaturesDistribution(features_raw)\n",
    "showFeaturesDistribution(dfColumns)\n"
   ]
  },
  {
   "cell_type": "markdown",
   "metadata": {},
   "source": [
    "### Shared Features\n",
    "\n",
    "Location features share the same meaning: State/City describe the same location. \n",
    "\n",
    "* AFEC_DPTO/AFEC_MPIO\n",
    "* ENT_COD_DEPTO/ENT_COD_MPIO\n",
    "* ENT_DPTO/ENT_MPIO\n",
    "* PET_DPTO/PET_MPIO.\n",
    "\n",
    "ENT_COD_DEPTO/ENT_COD_MPIO are codes for the descriptions features ENT_DPTO/ENT_MPIO, so one og the pairs can be removed from the dataset, we'll keep the codes and loose the descriptions.\n",
    "\n",
    "Motive features are also codependent: \n",
    "* COD_MACROMOT/COD_MOTGEN/COD_MOTESP\n",
    "* MACROMOTIVO/MOTIVO_GENERAL/MOTIVO_ESPECIFICO\n",
    "\n",
    "COD_MACROMOT/COD_MOTGEN/COD_MOTESP are codes for the descriptions features MACROMOTIVO/MOTIVO_GENERAL/MOTIVO_ESPECIFICO, so one of the tuples can be removed from the dataset, we'll keep the codes and loose the descriptions."
   ]
  },
  {
   "cell_type": "code",
   "execution_count": 3,
   "metadata": {},
   "outputs": [],
   "source": [
    "#Merging Shared Features\n",
    "\n",
    "#features_raw.apply (lambda row: merge_features (row),axis=1)\n",
    "features_raw['AFEC_LOCATION'] = features_raw['AFEC_DPTO'] + features_raw['AFEC_MPIO']\n",
    "features_raw['ENT_LOCATION'] = features_raw['ENT_COD_DEPTO'] + features_raw['ENT_COD_MPIO']\n",
    "features_raw['PET_LOCATION'] = features_raw['PET_DPTO'] + features_raw['PET_MPIO']\n",
    "features_raw['COMPLETE_MOTIVE'] = features_raw['COD_MACROMOT'] + features_raw['COD_MOTGEN'] + features_raw['COD_MOTESP']\n",
    "# Removing redundant features\n",
    "features_raw = features_raw.drop(['ENT_DPTO', 'ENT_MPIO','MACROMOTIVO', 'MOTIVO_GENERAL', 'MOTIVO_ESPECIFICO','AFEC_DPTO', 'AFEC_MPIO', 'ENT_COD_DEPTO', 'ENT_COD_MPIO', 'PET_DPTO', 'PET_MPIO', 'COD_MACROMOT', 'COD_MOTGEN', 'COD_MOTESP'], axis = 1)\n",
    "\n",
    "display()\n"
   ]
  },
  {
   "cell_type": "code",
   "execution_count": 4,
   "metadata": {},
   "outputs": [
    {
     "data": {
      "image/png": "[encoded data removed]",
      "text/plain": [
       "<matplotlib.figure.Figure at 0x12086ffd0>"
      ]
     },
     "metadata": {},
     "output_type": "display_data"
    }
   ],
   "source": [
    "dfColumns = getFeaturesDistribution(features_raw)\n",
    "showFeaturesDistribution(dfColumns)"
   ]
  },
  {
   "cell_type": "code",
   "execution_count": 5,
   "metadata": {},
   "outputs": [],
   "source": [
    "features_raw = features_raw.applymap(str)\n"
   ]
  },
  {
   "cell_type": "code",
   "execution_count": 6,
   "metadata": {},
   "outputs": [
    {
     "name": "stdout",
     "output_type": "stream",
     "text": [
      "Total number of records: 2,130,783\n",
      "Individuals with life at risk: 288,811\n",
      "Individuals with life not at risk: 1,841,972\n",
      "Percentage of individuals with life at risk: 13.55%\n"
     ]
    }
   ],
   "source": [
    "from __future__ import division\n",
    "# TODO: Total number of records\n",
    "n_records = dataset['RIESGO_VIDA'].count()\n",
    "\n",
    "# TODO: Number of records where individual's life is at risk\n",
    "life_risk = dataset[dataset[\"RIESGO_VIDA\"] == 1]\n",
    "n_life_risk = life_risk['RIESGO_VIDA'].count()\n",
    "\n",
    "# TODO: Number of records where individual's life is not at risk\n",
    "no_life_risk =  dataset[dataset[\"RIESGO_VIDA\"] == 0]\n",
    "n_no_life_risk = no_life_risk['RIESGO_VIDA'].count()\n",
    "\n",
    "# TODO: Percentage of individuals whose income is more than $50,000\n",
    "greater_percent = (n_life_risk/n_records)*100\n",
    "\n",
    "# Print the results\n",
    "print \"Total number of records: {:,}\".format(n_records)\n",
    "print \"Individuals with life at risk: {:,}\".format(n_life_risk)\n",
    "print \"Individuals with life not at risk: {:,}\".format(n_no_life_risk)\n",
    "print \"Percentage of individuals with life at risk: {:.2f}%\".format(greater_percent)"
   ]
  },
  {
   "cell_type": "markdown",
   "metadata": {},
   "source": [
    "## Encoding dataset\n",
    "\n",
    "All features in the dataset are categorical. Some of them have too many classes to be one hot encoded. Mean encoding transformation will be perform on the dataset to encode features instead hot encoding it."
   ]
  },
  {
   "cell_type": "code",
   "execution_count": 7,
   "metadata": {},
   "outputs": [],
   "source": [
    "features_columns = features_raw.columns.values.tolist()"
   ]
  },
  {
   "cell_type": "code",
   "execution_count": 8,
   "metadata": {},
   "outputs": [
    {
     "name": "stdout",
     "output_type": "stream",
     "text": [
      "--- 2370.07926083 seconds ---\n"
     ]
    },
    {
     "data": {
      "text/html": [
       "<div>\n",
       "<style scoped>\n",
       "    .dataframe tbody tr th:only-of-type {\n",
       "        vertical-align: middle;\n",
       "    }\n",
       "\n",
       "    .dataframe tbody tr th {\n",
       "        vertical-align: top;\n",
       "    }\n",
       "\n",
       "    .dataframe thead th {\n",
       "        text-align: right;\n",
       "    }\n",
       "</style>\n",
       "<table border=\"1\" class=\"dataframe\">\n",
       "  <thead>\n",
       "    <tr style=\"text-align: right;\">\n",
       "      <th></th>\n",
       "      <th>AFEC_EDADR</th>\n",
       "      <th>AFEC_EDUC</th>\n",
       "      <th>AFEC_GENERO</th>\n",
       "      <th>AFEC_GETNICO</th>\n",
       "      <th>AFEC_PARENTESCO</th>\n",
       "      <th>AFEC_POBESPECIAL</th>\n",
       "      <th>AFEC_REGAFILIACION</th>\n",
       "      <th>AFEC_TIPOPER</th>\n",
       "      <th>ALTO_COSTO</th>\n",
       "      <th>CIE_10</th>\n",
       "      <th>...</th>\n",
       "      <th>PQR_CANAL</th>\n",
       "      <th>PQR_CLASE_SNS</th>\n",
       "      <th>PQR_ESTADO</th>\n",
       "      <th>PQR_TIPOATENCION</th>\n",
       "      <th>PQR_TIPOPETICION</th>\n",
       "      <th>TRIM</th>\n",
       "      <th>AFEC_LOCATION</th>\n",
       "      <th>ENT_LOCATION</th>\n",
       "      <th>PET_LOCATION</th>\n",
       "      <th>COMPLETE_MOTIVE</th>\n",
       "    </tr>\n",
       "  </thead>\n",
       "  <tbody>\n",
       "    <tr>\n",
       "      <th>0</th>\n",
       "      <td>0.262627</td>\n",
       "      <td>0.179425</td>\n",
       "      <td>0.187490</td>\n",
       "      <td>0.217272</td>\n",
       "      <td>0.264173</td>\n",
       "      <td>0.204179</td>\n",
       "      <td>0.280688</td>\n",
       "      <td>0.200446</td>\n",
       "      <td>0.129512</td>\n",
       "      <td>0.061950</td>\n",
       "      <td>...</td>\n",
       "      <td>0.074075</td>\n",
       "      <td>0.240487</td>\n",
       "      <td>0.065705</td>\n",
       "      <td>0.081491</td>\n",
       "      <td>0.2386</td>\n",
       "      <td>0.131762</td>\n",
       "      <td>0.171294</td>\n",
       "      <td>0.170139</td>\n",
       "      <td>0.175821</td>\n",
       "      <td>0.255345</td>\n",
       "    </tr>\n",
       "    <tr>\n",
       "      <th>1</th>\n",
       "      <td>0.278952</td>\n",
       "      <td>0.179425</td>\n",
       "      <td>0.219439</td>\n",
       "      <td>0.217272</td>\n",
       "      <td>0.264173</td>\n",
       "      <td>0.204179</td>\n",
       "      <td>0.280688</td>\n",
       "      <td>0.200446</td>\n",
       "      <td>0.129512</td>\n",
       "      <td>0.090751</td>\n",
       "      <td>...</td>\n",
       "      <td>0.084191</td>\n",
       "      <td>0.240487</td>\n",
       "      <td>0.065705</td>\n",
       "      <td>0.164131</td>\n",
       "      <td>0.2386</td>\n",
       "      <td>0.131762</td>\n",
       "      <td>0.163793</td>\n",
       "      <td>0.126582</td>\n",
       "      <td>0.106796</td>\n",
       "      <td>0.156412</td>\n",
       "    </tr>\n",
       "    <tr>\n",
       "      <th>2</th>\n",
       "      <td>0.262627</td>\n",
       "      <td>0.210089</td>\n",
       "      <td>0.219439</td>\n",
       "      <td>0.217272</td>\n",
       "      <td>0.319044</td>\n",
       "      <td>0.204179</td>\n",
       "      <td>0.178150</td>\n",
       "      <td>0.200446</td>\n",
       "      <td>0.129512</td>\n",
       "      <td>0.384615</td>\n",
       "      <td>...</td>\n",
       "      <td>0.084191</td>\n",
       "      <td>0.240487</td>\n",
       "      <td>0.065705</td>\n",
       "      <td>0.164131</td>\n",
       "      <td>0.2386</td>\n",
       "      <td>0.131762</td>\n",
       "      <td>0.231316</td>\n",
       "      <td>0.211707</td>\n",
       "      <td>0.195326</td>\n",
       "      <td>0.230204</td>\n",
       "    </tr>\n",
       "    <tr>\n",
       "      <th>3</th>\n",
       "      <td>0.262627</td>\n",
       "      <td>0.315311</td>\n",
       "      <td>0.219439</td>\n",
       "      <td>0.217272</td>\n",
       "      <td>0.308624</td>\n",
       "      <td>0.204179</td>\n",
       "      <td>0.178150</td>\n",
       "      <td>0.200446</td>\n",
       "      <td>0.129512</td>\n",
       "      <td>0.016157</td>\n",
       "      <td>...</td>\n",
       "      <td>0.466574</td>\n",
       "      <td>0.240487</td>\n",
       "      <td>0.065705</td>\n",
       "      <td>0.164131</td>\n",
       "      <td>0.2386</td>\n",
       "      <td>0.131762</td>\n",
       "      <td>0.334056</td>\n",
       "      <td>0.345899</td>\n",
       "      <td>0.261161</td>\n",
       "      <td>0.104876</td>\n",
       "    </tr>\n",
       "    <tr>\n",
       "      <th>4</th>\n",
       "      <td>0.262627</td>\n",
       "      <td>0.179425</td>\n",
       "      <td>0.219439</td>\n",
       "      <td>0.217272</td>\n",
       "      <td>0.308624</td>\n",
       "      <td>0.386519</td>\n",
       "      <td>0.178150</td>\n",
       "      <td>0.200446</td>\n",
       "      <td>0.129512</td>\n",
       "      <td>0.795501</td>\n",
       "      <td>...</td>\n",
       "      <td>0.466574</td>\n",
       "      <td>0.240487</td>\n",
       "      <td>0.996180</td>\n",
       "      <td>0.164131</td>\n",
       "      <td>0.2386</td>\n",
       "      <td>0.131762</td>\n",
       "      <td>0.217398</td>\n",
       "      <td>0.213673</td>\n",
       "      <td>0.164382</td>\n",
       "      <td>0.285007</td>\n",
       "    </tr>\n",
       "  </tbody>\n",
       "</table>\n",
       "<p>5 rows × 32 columns</p>\n",
       "</div>"
      ],
      "text/plain": [
       "   AFEC_EDADR  AFEC_EDUC  AFEC_GENERO  AFEC_GETNICO  AFEC_PARENTESCO  \\\n",
       "0  0.262627    0.179425   0.187490     0.217272      0.264173          \n",
       "1  0.278952    0.179425   0.219439     0.217272      0.264173          \n",
       "2  0.262627    0.210089   0.219439     0.217272      0.319044          \n",
       "3  0.262627    0.315311   0.219439     0.217272      0.308624          \n",
       "4  0.262627    0.179425   0.219439     0.217272      0.308624          \n",
       "\n",
       "   AFEC_POBESPECIAL  AFEC_REGAFILIACION  AFEC_TIPOPER  ALTO_COSTO    CIE_10  \\\n",
       "0  0.204179          0.280688            0.200446      0.129512    0.061950   \n",
       "1  0.204179          0.280688            0.200446      0.129512    0.090751   \n",
       "2  0.204179          0.178150            0.200446      0.129512    0.384615   \n",
       "3  0.204179          0.178150            0.200446      0.129512    0.016157   \n",
       "4  0.386519          0.178150            0.200446      0.129512    0.795501   \n",
       "\n",
       "        ...         PQR_CANAL  PQR_CLASE_SNS  PQR_ESTADO  PQR_TIPOATENCION  \\\n",
       "0       ...         0.074075   0.240487       0.065705    0.081491           \n",
       "1       ...         0.084191   0.240487       0.065705    0.164131           \n",
       "2       ...         0.084191   0.240487       0.065705    0.164131           \n",
       "3       ...         0.466574   0.240487       0.065705    0.164131           \n",
       "4       ...         0.466574   0.240487       0.996180    0.164131           \n",
       "\n",
       "   PQR_TIPOPETICION      TRIM  AFEC_LOCATION  ENT_LOCATION  PET_LOCATION  \\\n",
       "0  0.2386            0.131762  0.171294       0.170139      0.175821       \n",
       "1  0.2386            0.131762  0.163793       0.126582      0.106796       \n",
       "2  0.2386            0.131762  0.231316       0.211707      0.195326       \n",
       "3  0.2386            0.131762  0.334056       0.345899      0.261161       \n",
       "4  0.2386            0.131762  0.217398       0.213673      0.164382       \n",
       "\n",
       "   COMPLETE_MOTIVE  \n",
       "0  0.255345         \n",
       "1  0.156412         \n",
       "2  0.230204         \n",
       "3  0.104876         \n",
       "4  0.285007         \n",
       "\n",
       "[5 rows x 32 columns]"
      ]
     },
     "metadata": {},
     "output_type": "display_data"
    }
   ],
   "source": [
    "from category_encoders import *\n",
    "import time\n",
    "\n",
    "\n",
    "start_time = time.time()   \n",
    "enc = TargetEncoder(cols=features_raw.columns.values.tolist(), return_df = True).fit(features_raw, labels_raw)\n",
    "dataset_encoded = enc.transform(features_raw)\n",
    "print(\"--- %s seconds ---\" % (time.time() - start_time))\n",
    "\n",
    "display(dataset_encoded.head(n = 5))  \n"
   ]
  },
  {
   "cell_type": "code",
   "execution_count": 9,
   "metadata": {},
   "outputs": [
    {
     "data": {
      "text/html": [
       "<div>\n",
       "<style scoped>\n",
       "    .dataframe tbody tr th:only-of-type {\n",
       "        vertical-align: middle;\n",
       "    }\n",
       "\n",
       "    .dataframe tbody tr th {\n",
       "        vertical-align: top;\n",
       "    }\n",
       "\n",
       "    .dataframe thead th {\n",
       "        text-align: right;\n",
       "    }\n",
       "</style>\n",
       "<table border=\"1\" class=\"dataframe\">\n",
       "  <thead>\n",
       "    <tr style=\"text-align: right;\">\n",
       "      <th></th>\n",
       "      <th>AFEC_EDADR</th>\n",
       "      <th>AFEC_EDUC</th>\n",
       "      <th>AFEC_GENERO</th>\n",
       "      <th>AFEC_GETNICO</th>\n",
       "      <th>AFEC_PARENTESCO</th>\n",
       "      <th>AFEC_POBESPECIAL</th>\n",
       "      <th>AFEC_REGAFILIACION</th>\n",
       "      <th>AFEC_TIPOPER</th>\n",
       "      <th>ALTO_COSTO</th>\n",
       "      <th>CIE_10</th>\n",
       "      <th>...</th>\n",
       "      <th>PQR_CANAL</th>\n",
       "      <th>PQR_CLASE_SNS</th>\n",
       "      <th>PQR_ESTADO</th>\n",
       "      <th>PQR_TIPOATENCION</th>\n",
       "      <th>PQR_TIPOPETICION</th>\n",
       "      <th>TRIM</th>\n",
       "      <th>AFEC_LOCATION</th>\n",
       "      <th>ENT_LOCATION</th>\n",
       "      <th>PET_LOCATION</th>\n",
       "      <th>COMPLETE_MOTIVE</th>\n",
       "    </tr>\n",
       "  </thead>\n",
       "  <tbody>\n",
       "    <tr>\n",
       "      <th>0</th>\n",
       "      <td>0.233195</td>\n",
       "      <td>0.165027</td>\n",
       "      <td>0.171842</td>\n",
       "      <td>0.196613</td>\n",
       "      <td>0.234418</td>\n",
       "      <td>0.185798</td>\n",
       "      <td>0.247397</td>\n",
       "      <td>0.182693</td>\n",
       "      <td>0.121786</td>\n",
       "      <td>0.060107</td>\n",
       "      <td>...</td>\n",
       "      <td>0.071460</td>\n",
       "      <td>0.215504</td>\n",
       "      <td>0.063637</td>\n",
       "      <td>0.078341</td>\n",
       "      <td>0.213982</td>\n",
       "      <td>0.123776</td>\n",
       "      <td>0.158109</td>\n",
       "      <td>0.157122</td>\n",
       "      <td>0.161967</td>\n",
       "      <td>0.227410</td>\n",
       "    </tr>\n",
       "    <tr>\n",
       "      <th>1</th>\n",
       "      <td>0.246041</td>\n",
       "      <td>0.165027</td>\n",
       "      <td>0.198391</td>\n",
       "      <td>0.196613</td>\n",
       "      <td>0.234418</td>\n",
       "      <td>0.185798</td>\n",
       "      <td>0.247397</td>\n",
       "      <td>0.182693</td>\n",
       "      <td>0.121786</td>\n",
       "      <td>0.086867</td>\n",
       "      <td>...</td>\n",
       "      <td>0.080834</td>\n",
       "      <td>0.215504</td>\n",
       "      <td>0.063637</td>\n",
       "      <td>0.151975</td>\n",
       "      <td>0.213982</td>\n",
       "      <td>0.123776</td>\n",
       "      <td>0.151685</td>\n",
       "      <td>0.119189</td>\n",
       "      <td>0.101469</td>\n",
       "      <td>0.145322</td>\n",
       "    </tr>\n",
       "  </tbody>\n",
       "</table>\n",
       "<p>2 rows × 32 columns</p>\n",
       "</div>"
      ],
      "text/plain": [
       "   AFEC_EDADR  AFEC_EDUC  AFEC_GENERO  AFEC_GETNICO  AFEC_PARENTESCO  \\\n",
       "0  0.233195    0.165027   0.171842     0.196613      0.234418          \n",
       "1  0.246041    0.165027   0.198391     0.196613      0.234418          \n",
       "\n",
       "   AFEC_POBESPECIAL  AFEC_REGAFILIACION  AFEC_TIPOPER  ALTO_COSTO    CIE_10  \\\n",
       "0  0.185798          0.247397            0.182693      0.121786    0.060107   \n",
       "1  0.185798          0.247397            0.182693      0.121786    0.086867   \n",
       "\n",
       "        ...         PQR_CANAL  PQR_CLASE_SNS  PQR_ESTADO  PQR_TIPOATENCION  \\\n",
       "0       ...         0.071460   0.215504       0.063637    0.078341           \n",
       "1       ...         0.080834   0.215504       0.063637    0.151975           \n",
       "\n",
       "   PQR_TIPOPETICION      TRIM  AFEC_LOCATION  ENT_LOCATION  PET_LOCATION  \\\n",
       "0  0.213982          0.123776  0.158109       0.157122      0.161967       \n",
       "1  0.213982          0.123776  0.151685       0.119189      0.101469       \n",
       "\n",
       "   COMPLETE_MOTIVE  \n",
       "0  0.227410         \n",
       "1  0.145322         \n",
       "\n",
       "[2 rows x 32 columns]"
      ]
     },
     "metadata": {},
     "output_type": "display_data"
    }
   ],
   "source": [
    "\n",
    "# Log-transform the skewed features\n",
    "skewed = features_columns\n",
    "features_log_transformed = dataset_encoded.apply(lambda x: np.log(x + 1))\n",
    "\n",
    "# Visualize the new log distributions\n",
    "display(features_log_transformed.head(n = 2))\n",
    "#distribution(features_log_transformed, transformed = True)"
   ]
  },
  {
   "cell_type": "code",
   "execution_count": 10,
   "metadata": {},
   "outputs": [
    {
     "data": {
      "image/png": "[encoded data removed]",
      "text/plain": [
       "<matplotlib.figure.Figure at 0x120cc88d0>"
      ]
     },
     "metadata": {},
     "output_type": "display_data"
    }
   ],
   "source": [
    "\n",
    "# Import sklearn.preprocessing.StandardScaler\n",
    "from sklearn.preprocessing import QuantileTransformer\n",
    "\n",
    "# Initialize a scaler, then apply it to the features\n",
    "scaler = QuantileTransformer() # default=(0, 1)\n",
    "\n",
    "\n",
    "features_log_minmax_transform = pd.DataFrame(data = features_log_transformed)\n",
    "features_log_minmax_transform[features_columns] = scaler.fit_transform(features_log_transformed[features_columns])\n",
    "\n",
    "#distribution(features_log_minmax_transform, transformed = True)\n",
    "# Show an example of a record with scaling applied\n",
    "dfLogColumns = getFeaturesDistribution(features_log_minmax_transform)\n",
    "showFeaturesDistribution(dfLogColumns)"
   ]
  },
  {
   "cell_type": "markdown",
   "metadata": {},
   "source": [
    "# Store Dataset"
   ]
  },
  {
   "cell_type": "code",
   "execution_count": 11,
   "metadata": {},
   "outputs": [],
   "source": [
    "features_log_minmax_transform['RIESGO_VIDA'] = dataset['RIESGO_VIDA']\n",
    "features_log_minmax_transform.to_csv(\"datasets/dataset.csv.gz\", encoding='utf-8', compression = 'gzip')"
   ]
  },
  {
   "cell_type": "markdown",
   "metadata": {},
   "source": [
    "# Resampling\n",
    "\n",
    "Target classes are highly unbalanced"
   ]
  },
  {
   "cell_type": "code",
   "execution_count": null,
   "metadata": {},
   "outputs": [
    {
     "name": "stdout",
     "output_type": "stream",
     "text": [
      "0    1841972\n",
      "1    288811 \n",
      "Name: RIESGO_VIDA, dtype: int64\n"
     ]
    },
    {
     "data": {
      "image/png": "[encoded data removed]",
      "text/plain": [
       "<matplotlib.figure.Figure at 0x117033250>"
      ]
     },
     "metadata": {},
     "output_type": "display_data"
    }
   ],
   "source": [
    "target_count = dataset['RIESGO_VIDA'].value_counts()\n",
    "print(target_count)\n",
    "target_count.plot(kind='bar', title='Count (target)');"
   ]
  },
  {
   "cell_type": "code",
   "execution_count": null,
   "metadata": {
    "scrolled": true
   },
   "outputs": [],
   "source": [
    "from imblearn.under_sampling import AllKNN\n",
    "\n",
    "rus = AllKNN(return_indices=True)\n",
    "X_rus, y_rus, id_rus = rus.fit_sample(features_log_minmax_transform, dataset['RIESGO_VIDA'])\n",
    "\n",
    "print('Removed indexes:', id_rus)\n"
   ]
  },
  {
   "cell_type": "markdown",
   "metadata": {},
   "source": [
    "## Storing removed records for future model validation"
   ]
  },
  {
   "cell_type": "code",
   "execution_count": null,
   "metadata": {
    "scrolled": true
   },
   "outputs": [],
   "source": [
    "X_rus = pd.DataFrame(np.array(X_rus), columns=features_log_minmax_transform.columns.values.tolist())\n",
    "y_rus = pd.DataFrame(np.array(y_rus), columns=['RIESGO_VIDA'])\n",
    "\n",
    "\n",
    "dataset_rus = X_rus\n",
    "dataset_rus['RIESGO_VIDA'] = y_rus\n",
    "\n",
    "dataset_rus = pd.concat([features_log_minmax_transform,dataset_rus]).drop_duplicates(keep=False)\n",
    "\n",
    "display(dataset_rus.head(n = 3))\n",
    "\n",
    "dataset_rus.to_csv(\"datasets/dataset_under_sampled_validation.csv.gz\", encoding='utf-8', compression = 'gzip')"
   ]
  },
  {
   "cell_type": "code",
   "execution_count": null,
   "metadata": {},
   "outputs": [],
   "source": [
    "target_count_rus = y['RIESGO_VIDA'].value_counts()\n",
    "print(target_count_rus)\n",
    "target_count_rus.plot(kind='bar', title='Count (target)');"
   ]
  },
  {
   "cell_type": "code",
   "execution_count": null,
   "metadata": {},
   "outputs": [],
   "source": [
    "X_rus['RIESGO_VIDA'] = y_rus['RIESGO_VIDA']\n",
    "X_rus.to_csv(\"datasets/dataset_under_sampled.csv.gz\", encoding='utf-8', compression = 'gzip')"
   ]
  },
  {
   "cell_type": "markdown",
   "metadata": {},
   "source": [
    "## Over Sampling"
   ]
  },
  {
   "cell_type": "code",
   "execution_count": 12,
   "metadata": {},
   "outputs": [
    {
     "name": "stdout",
     "output_type": "stream",
     "text": [
      "Training set has 1917704 samples.\n",
      "Validation set has 213079 samples.\n",
      "(1397888, 'new random picked points')\n"
     ]
    }
   ],
   "source": [
    "# Split the dataset to leave a separate dataset to verify the Over Sampled dataset is not overfitting\n",
    "# Import train_test_split\n",
    "from sklearn.model_selection import train_test_split\n",
    "\n",
    "XOS_set, XOS_validation, yOS_set, yOS_validation = train_test_split(features_log_minmax_transform, \n",
    "                                                    dataset['RIESGO_VIDA'], \n",
    "                                                    test_size = 0.10, \n",
    "                                                    random_state = 10)\n",
    "\n",
    "print \"Training set has {} samples.\".format(XOS_set.shape[0])\n",
    "print \"Validation set has {} samples.\".format(XOS_validation.shape[0])\n",
    "\n",
    "\n",
    "from imblearn.over_sampling import RandomOverSampler\n",
    "\n",
    "ros = RandomOverSampler(sampling_strategy = 'not majority')\n",
    "X_ros, y_ros = ros.fit_sample(XOS_set, yOS_set)\n",
    "\n",
    "print(X_ros.shape[0] - XOS_set.shape[0], 'new random picked points')\n"
   ]
  },
  {
   "cell_type": "code",
   "execution_count": 13,
   "metadata": {},
   "outputs": [],
   "source": [
    "X_ros = pd.DataFrame(np.array(X_ros), columns=features_log_minmax_transform.columns.values.tolist())\n",
    "y_ros = pd.DataFrame(np.array(y_ros), columns=['RIESGO_VIDA'])"
   ]
  },
  {
   "cell_type": "code",
   "execution_count": 14,
   "metadata": {
    "scrolled": false
   },
   "outputs": [
    {
     "name": "stdout",
     "output_type": "stream",
     "text": [
      "1    1657796\n",
      "0    1657796\n",
      "Name: RIESGO_VIDA, dtype: int64\n"
     ]
    },
    {
     "data": {
      "image/png": "[encoded data removed]",
      "text/plain": [
       "<matplotlib.figure.Figure at 0x120954d10>"
      ]
     },
     "metadata": {},
     "output_type": "display_data"
    }
   ],
   "source": [
    "target_count_ros = y_ros['RIESGO_VIDA'].value_counts()\n",
    "print(target_count_ros)\n",
    "target_count_ros.plot(kind='bar', title='Count (target)');"
   ]
  },
  {
   "cell_type": "code",
   "execution_count": 26,
   "metadata": {},
   "outputs": [
    {
     "name": "stderr",
     "output_type": "stream",
     "text": [
      "/anaconda2/lib/python2.7/site-packages/ipykernel_launcher.py:4: SettingWithCopyWarning: \n",
      "A value is trying to be set on a copy of a slice from a DataFrame.\n",
      "Try using .loc[row_indexer,col_indexer] = value instead\n",
      "\n",
      "See the caveats in the documentation: http://pandas.pydata.org/pandas-docs/stable/indexing.html#indexing-view-versus-copy\n",
      "  after removing the cwd from sys.path.\n"
     ]
    }
   ],
   "source": [
    "X_ros['RIESGO_VIDA'] = y_ros[['RIESGO_VIDA']]\n",
    "X_ros.to_csv(\"datasets/dataset_over_sampled.csv.gz\", encoding='utf-8', compression = 'gzip')\n",
    "\n",
    "XOS_validation['RIESGO_VIDA'] = pd.DataFrame(yOS_validation, columns = ['RIESGO_VIDA'])\n",
    "XOS_validation.to_csv(\"datasets/dataset_over_sampled_validation.csv.gz\", encoding='utf-8', compression = 'gzip')"
   ]
  }
 ],
 "metadata": {
  "kernelspec": {
   "display_name": "Python 2",
   "language": "python",
   "name": "python2"
  },
  "language_info": {
   "codemirror_mode": {
    "name": "ipython",
    "version": 2
   },
   "file_extension": ".py",
   "mimetype": "text/x-python",
   "name": "python",
   "nbconvert_exporter": "python",
   "pygments_lexer": "ipython2",
   "version": "2.7.14"
  }
 },
 "nbformat": 4,
 "nbformat_minor": 2
}
