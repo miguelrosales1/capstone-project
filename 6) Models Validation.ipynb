{
 "cells": [
  {
   "cell_type": "code",
   "execution_count": 1,
   "metadata": {
    "scrolled": true
   },
   "outputs": [
    {
     "data": {
      "text/html": [
       "<div>\n",
       "<style scoped>\n",
       "    .dataframe tbody tr th:only-of-type {\n",
       "        vertical-align: middle;\n",
       "    }\n",
       "\n",
       "    .dataframe tbody tr th {\n",
       "        vertical-align: top;\n",
       "    }\n",
       "\n",
       "    .dataframe thead th {\n",
       "        text-align: right;\n",
       "    }\n",
       "</style>\n",
       "<table border=\"1\" class=\"dataframe\">\n",
       "  <thead>\n",
       "    <tr style=\"text-align: right;\">\n",
       "      <th></th>\n",
       "      <th>AFEC_DPTO</th>\n",
       "      <th>AFEC_EDADR</th>\n",
       "      <th>AFEC_EDUC</th>\n",
       "      <th>AFEC_GENERO</th>\n",
       "      <th>AFEC_GETNICO</th>\n",
       "      <th>AFEC_MPIO</th>\n",
       "      <th>AFEC_PARENTESCO</th>\n",
       "      <th>AFEC_POBESPECIAL</th>\n",
       "      <th>AFEC_REGAFILIACION</th>\n",
       "      <th>AFEC_TIPOPER</th>\n",
       "      <th>...</th>\n",
       "      <th>PATOLOGIA_TIPO</th>\n",
       "      <th>PET_COD_DEPTO</th>\n",
       "      <th>PET_MPIO</th>\n",
       "      <th>PET_TIPOPER</th>\n",
       "      <th>PQR_CANAL</th>\n",
       "      <th>PQR_CLASE_SNS</th>\n",
       "      <th>PQR_TIPOATENCION</th>\n",
       "      <th>PQR_TIPOPETICION</th>\n",
       "      <th>TRIM</th>\n",
       "      <th>RIESGO_VIDA</th>\n",
       "    </tr>\n",
       "  </thead>\n",
       "  <tbody>\n",
       "    <tr>\n",
       "      <th>0</th>\n",
       "      <td>0.347848</td>\n",
       "      <td>0.401902</td>\n",
       "      <td>4.364364e-01</td>\n",
       "      <td>0.33984</td>\n",
       "      <td>6.256256e-01</td>\n",
       "      <td>0.793293</td>\n",
       "      <td>0.379880</td>\n",
       "      <td>5.950951e-01</td>\n",
       "      <td>0.45045</td>\n",
       "      <td>1.0</td>\n",
       "      <td>...</td>\n",
       "      <td>0.487988</td>\n",
       "      <td>0.744244</td>\n",
       "      <td>0.828829</td>\n",
       "      <td>1.000000</td>\n",
       "      <td>0.242242</td>\n",
       "      <td>9.999999e-01</td>\n",
       "      <td>0.222222</td>\n",
       "      <td>5.915916e-01</td>\n",
       "      <td>0.638138</td>\n",
       "      <td>0</td>\n",
       "    </tr>\n",
       "    <tr>\n",
       "      <th>1</th>\n",
       "      <td>0.230731</td>\n",
       "      <td>1.000000</td>\n",
       "      <td>9.704705e-01</td>\n",
       "      <td>0.33984</td>\n",
       "      <td>6.256256e-01</td>\n",
       "      <td>0.242242</td>\n",
       "      <td>0.379880</td>\n",
       "      <td>5.950951e-01</td>\n",
       "      <td>0.45045</td>\n",
       "      <td>1.0</td>\n",
       "      <td>...</td>\n",
       "      <td>0.487988</td>\n",
       "      <td>0.150150</td>\n",
       "      <td>0.237738</td>\n",
       "      <td>1.000000</td>\n",
       "      <td>0.625626</td>\n",
       "      <td>9.999999e-01</td>\n",
       "      <td>1.000000</td>\n",
       "      <td>5.915916e-01</td>\n",
       "      <td>0.357357</td>\n",
       "      <td>0</td>\n",
       "    </tr>\n",
       "    <tr>\n",
       "      <th>2</th>\n",
       "      <td>0.129630</td>\n",
       "      <td>0.401902</td>\n",
       "      <td>1.000000e-07</td>\n",
       "      <td>1.00000</td>\n",
       "      <td>1.000000e-07</td>\n",
       "      <td>0.214214</td>\n",
       "      <td>0.379880</td>\n",
       "      <td>1.000000e-07</td>\n",
       "      <td>0.45045</td>\n",
       "      <td>1.0</td>\n",
       "      <td>...</td>\n",
       "      <td>0.273774</td>\n",
       "      <td>0.038038</td>\n",
       "      <td>0.181181</td>\n",
       "      <td>1.000000</td>\n",
       "      <td>0.242242</td>\n",
       "      <td>9.999999e-01</td>\n",
       "      <td>0.222222</td>\n",
       "      <td>5.915916e-01</td>\n",
       "      <td>0.357357</td>\n",
       "      <td>0</td>\n",
       "    </tr>\n",
       "    <tr>\n",
       "      <th>3</th>\n",
       "      <td>0.848599</td>\n",
       "      <td>1.000000</td>\n",
       "      <td>4.364364e-01</td>\n",
       "      <td>0.33984</td>\n",
       "      <td>6.256256e-01</td>\n",
       "      <td>0.789289</td>\n",
       "      <td>0.379880</td>\n",
       "      <td>5.950951e-01</td>\n",
       "      <td>0.45045</td>\n",
       "      <td>1.0</td>\n",
       "      <td>...</td>\n",
       "      <td>0.487988</td>\n",
       "      <td>0.744244</td>\n",
       "      <td>0.828829</td>\n",
       "      <td>1.000000</td>\n",
       "      <td>0.242242</td>\n",
       "      <td>1.000000e-07</td>\n",
       "      <td>0.222222</td>\n",
       "      <td>1.000000e-07</td>\n",
       "      <td>0.638138</td>\n",
       "      <td>0</td>\n",
       "    </tr>\n",
       "    <tr>\n",
       "      <th>4</th>\n",
       "      <td>0.793794</td>\n",
       "      <td>0.148649</td>\n",
       "      <td>1.000000e-07</td>\n",
       "      <td>0.33984</td>\n",
       "      <td>1.000000e-07</td>\n",
       "      <td>0.299800</td>\n",
       "      <td>0.785786</td>\n",
       "      <td>9.919920e-01</td>\n",
       "      <td>1.00000</td>\n",
       "      <td>1.0</td>\n",
       "      <td>...</td>\n",
       "      <td>0.959960</td>\n",
       "      <td>0.860861</td>\n",
       "      <td>0.247247</td>\n",
       "      <td>0.023023</td>\n",
       "      <td>0.038539</td>\n",
       "      <td>9.999999e-01</td>\n",
       "      <td>0.017017</td>\n",
       "      <td>5.915916e-01</td>\n",
       "      <td>1.000000</td>\n",
       "      <td>0</td>\n",
       "    </tr>\n",
       "  </tbody>\n",
       "</table>\n",
       "<p>5 rows × 36 columns</p>\n",
       "</div>"
      ],
      "text/plain": [
       "   AFEC_DPTO  AFEC_EDADR     AFEC_EDUC  AFEC_GENERO  AFEC_GETNICO  AFEC_MPIO  \\\n",
       "0  0.347848   0.401902    4.364364e-01  0.33984      6.256256e-01  0.793293    \n",
       "1  0.230731   1.000000    9.704705e-01  0.33984      6.256256e-01  0.242242    \n",
       "2  0.129630   0.401902    1.000000e-07  1.00000      1.000000e-07  0.214214    \n",
       "3  0.848599   1.000000    4.364364e-01  0.33984      6.256256e-01  0.789289    \n",
       "4  0.793794   0.148649    1.000000e-07  0.33984      1.000000e-07  0.299800    \n",
       "\n",
       "   AFEC_PARENTESCO  AFEC_POBESPECIAL  AFEC_REGAFILIACION  AFEC_TIPOPER  \\\n",
       "0  0.379880         5.950951e-01      0.45045             1.0            \n",
       "1  0.379880         5.950951e-01      0.45045             1.0            \n",
       "2  0.379880         1.000000e-07      0.45045             1.0            \n",
       "3  0.379880         5.950951e-01      0.45045             1.0            \n",
       "4  0.785786         9.919920e-01      1.00000             1.0            \n",
       "\n",
       "      ...       PATOLOGIA_TIPO  PET_COD_DEPTO  PET_MPIO  PET_TIPOPER  \\\n",
       "0     ...       0.487988        0.744244       0.828829  1.000000      \n",
       "1     ...       0.487988        0.150150       0.237738  1.000000      \n",
       "2     ...       0.273774        0.038038       0.181181  1.000000      \n",
       "3     ...       0.487988        0.744244       0.828829  1.000000      \n",
       "4     ...       0.959960        0.860861       0.247247  0.023023      \n",
       "\n",
       "   PQR_CANAL  PQR_CLASE_SNS  PQR_TIPOATENCION  PQR_TIPOPETICION      TRIM  \\\n",
       "0  0.242242   9.999999e-01   0.222222          5.915916e-01      0.638138   \n",
       "1  0.625626   9.999999e-01   1.000000          5.915916e-01      0.357357   \n",
       "2  0.242242   9.999999e-01   0.222222          5.915916e-01      0.357357   \n",
       "3  0.242242   1.000000e-07   0.222222          1.000000e-07      0.638138   \n",
       "4  0.038539   9.999999e-01   0.017017          5.915916e-01      1.000000   \n",
       "\n",
       "   RIESGO_VIDA  \n",
       "0  0            \n",
       "1  0            \n",
       "2  0            \n",
       "3  0            \n",
       "4  0            \n",
       "\n",
       "[5 rows x 36 columns]"
      ]
     },
     "metadata": {},
     "output_type": "display_data"
    }
   ],
   "source": [
    "import numpy as np\n",
    "import pandas as pd\n",
    "from time import time\n",
    "import matplotlib.pyplot as plt\n",
    "from IPython.display import display \n",
    "from sklearn.metrics import recall_score, make_scorer\n",
    "import model_utils \n",
    "from sklearn.externals import joblib\n",
    "\n",
    "# Pretty display for notebooks\n",
    "%matplotlib inline\n",
    "#pd.set_option('display.max_colwidth', -1)\n",
    "\n",
    "dataset, features, labels = model_utils.getDataSet(\"datasets/dataset_validation.csv\")"
   ]
  },
  {
   "cell_type": "markdown",
   "metadata": {},
   "source": [
    "## Validation for model trained with full dataset"
   ]
  },
  {
   "cell_type": "code",
   "execution_count": 3,
   "metadata": {
    "scrolled": true
   },
   "outputs": [
    {
     "name": "stdout",
     "output_type": "stream",
     "text": [
      "F-score on validation data: 0.7923\n",
      "tn: 51308.000000, fp: 5283.000000, fn:2433.000000, tp: 11458.000000\n"
     ]
    },
    {
     "data": {
      "image/png": "[encoded data removed]",
      "text/plain": [
       "<matplotlib.figure.Figure at 0x1a08095450>"
      ]
     },
     "metadata": {},
     "output_type": "display_data"
    }
   ],
   "source": [
    "from sklearn.metrics import confusion_matrix\n",
    "from sklearn.metrics import fbeta_score\n",
    "\n",
    "rfClassifier = joblib.load('rfClassifier.joblib')\n",
    "\n",
    "y_predictions = rfClassifier.predict(features)\n",
    "\n",
    "print \"F-score on validation data: {:.4f}\".format(fbeta_score(labels, y_predictions, beta = 2))\n",
    "\n",
    "\n",
    "cnf_matrix = confusion_matrix(labels, y_predictions)\n",
    "tn, fp, fn, tp = confusion_matrix(labels, y_predictions).ravel()\n",
    "print(\"tn: %f, fp: %f, fn:%f, tp: %f\"%(tn, fp, fn, tp))\n",
    "model_utils.plot_confusion_matrix(cnf_matrix, classes=['Life not as risk', 'Life at risk'], normalize = True)"
   ]
  },
  {
   "cell_type": "markdown",
   "metadata": {},
   "source": [
    "## Validation for model trained with reduced dataset"
   ]
  },
  {
   "cell_type": "code",
   "execution_count": 4,
   "metadata": {
    "scrolled": false
   },
   "outputs": [
    {
     "name": "stdout",
     "output_type": "stream",
     "text": [
      "F-score on validation data: 0.7840\n",
      "tn: 49170.000000, fp: 7421.000000, fn:2179.000000, tp: 11712.000000\n"
     ]
    },
    {
     "data": {
      "image/png": "[encoded data removed]",
      "text/plain": [
       "<matplotlib.figure.Figure at 0x1a085b3e50>"
      ]
     },
     "metadata": {},
     "output_type": "display_data"
    }
   ],
   "source": [
    "from sklearn.metrics import confusion_matrix\n",
    "from sklearn.metrics import fbeta_score\n",
    "\n",
    "rfClassifier_reduced = joblib.load('rfClassifier_reduced.joblib')\n",
    "\n",
    "y_predictions_reduced = rfClassifier_reduced.predict(features)\n",
    "\n",
    "print \"F-score on validation data: {:.4f}\".format(fbeta_score(labels, y_predictions_reduced, beta = 2))\n",
    "\n",
    "\n",
    "cnf_matrix = confusion_matrix(labels, y_predictions_reduced)\n",
    "tn, fp, fn, tp = confusion_matrix(labels, y_predictions_reduced).ravel()\n",
    "print(\"tn: %f, fp: %f, fn:%f, tp: %f\"%(tn, fp, fn, tp))\n",
    "model_utils.plot_confusion_matrix(cnf_matrix, classes=['Life not as risk', 'Life at risk'], normalize = True)"
   ]
  }
 ],
 "metadata": {
  "kernelspec": {
   "display_name": "Python 2",
   "language": "python",
   "name": "python2"
  },
  "language_info": {
   "codemirror_mode": {
    "name": "ipython",
    "version": 2
   },
   "file_extension": ".py",
   "mimetype": "text/x-python",
   "name": "python",
   "nbconvert_exporter": "python",
   "pygments_lexer": "ipython2",
   "version": "2.7.14"
  }
 },
 "nbformat": 4,
 "nbformat_minor": 2
}
